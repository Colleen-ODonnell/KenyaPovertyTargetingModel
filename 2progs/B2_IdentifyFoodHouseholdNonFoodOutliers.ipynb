{
 "cells": [
  {
   "cell_type": "code",
   "execution_count": 9,
   "metadata": {},
   "outputs": [],
   "source": [
    "import numpy as np\n",
    "import pandas as pd\n",
    "import seaborn as sns\n",
    "import matplotlib.pyplot as plt\n",
    "%matplotlib inline"
   ]
  },
  {
   "cell_type": "code",
   "execution_count": 18,
   "metadata": {},
   "outputs": [],
   "source": [
    "MergedDatasetsRenamed = pd.read_excel('../2progs/MergedDatasetsRenamed.xlsx',sheet_name='Sheet1',index_col = 0)"
   ]
  },
  {
   "cell_type": "code",
   "execution_count": 20,
   "metadata": {},
   "outputs": [
    {
     "data": {
      "text/plain": [
       "mean        43.314889\n",
       "std        404.930295\n",
       "count    14519.000000\n",
       "min          0.010000\n",
       "max      40000.000000\n",
       "Name: amountfood_purchased7d, dtype: float64"
      ]
     },
     "execution_count": 20,
     "metadata": {},
     "output_type": "execute_result"
    }
   ],
   "source": [
    "x = MergedDatasetsRenamed[MergedDatasetsRenamed['amountfood_purchased7d']!=0]\n",
    "x['amountfood_purchased7d'].describe().T[['mean', 'std', 'count', 'min', 'max']]"
   ]
  },
  {
   "cell_type": "code",
   "execution_count": 22,
   "metadata": {},
   "outputs": [
    {
     "data": {
      "text/plain": [
       "hhid                   74\n",
       "s1q2_x                 74\n",
       "spend_tuitionfees      74\n",
       "spend_textbooks        74\n",
       "spend_exercisebooks    74\n",
       "                       ..\n",
       "pgi                    74\n",
       "spg                    74\n",
       "weight_y.1             74\n",
       "popweight              74\n",
       "Dataset2               74\n",
       "Length: 144, dtype: int64"
      ]
     },
     "execution_count": 22,
     "metadata": {},
     "output_type": "execute_result"
    }
   ],
   "source": [
    "MergedDatasetsRenamed[MergedDatasetsRenamed['amountfood_purchased7d'] > 1255].count()\n",
    "#Drop 74"
   ]
  },
  {
   "cell_type": "code",
   "execution_count": 15,
   "metadata": {},
   "outputs": [
    {
     "data": {
      "text/plain": [
       "mean       400.512834\n",
       "std        555.351579\n",
       "count    14921.000000\n",
       "min          1.000000\n",
       "max       8500.000000\n",
       "Name: foodspent_localcurrecny, dtype: float64"
      ]
     },
     "execution_count": 15,
     "metadata": {},
     "output_type": "execute_result"
    }
   ],
   "source": [
    "x = MergedDatasetsRenamed[MergedDatasetsRenamed['foodspent_localcurrecny']!=0]\n",
    "x['foodspent_localcurrecny'].describe().T[['mean', 'std', 'count', 'min', 'max']]"
   ]
  },
  {
   "cell_type": "code",
   "execution_count": 17,
   "metadata": {},
   "outputs": [
    {
     "data": {
      "text/plain": [
       "hhid                   248\n",
       "s1q2_x                 248\n",
       "spend_tuitionfees      248\n",
       "spend_textbooks        248\n",
       "spend_exercisebooks    248\n",
       "                      ... \n",
       "pgi                    248\n",
       "spg                    248\n",
       "weight_y.1             248\n",
       "popweight              248\n",
       "Dataset2               248\n",
       "Length: 144, dtype: int64"
      ]
     },
     "execution_count": 17,
     "metadata": {},
     "output_type": "execute_result"
    }
   ],
   "source": [
    "MergedDatasetsRenamed[MergedDatasetsRenamed['foodspent_localcurrecny'] > 2065].count()\n",
    "#drop 248"
   ]
  },
  {
   "cell_type": "code",
   "execution_count": 23,
   "metadata": {},
   "outputs": [
    {
     "data": {
      "text/plain": [
       "mean        32.160851\n",
       "std        170.127047\n",
       "count    15379.000000\n",
       "min          0.002000\n",
       "max       5000.000000\n",
       "Name: foodconsumed7d, dtype: float64"
      ]
     },
     "execution_count": 23,
     "metadata": {},
     "output_type": "execute_result"
    }
   ],
   "source": [
    "x = MergedDatasetsRenamed[MergedDatasetsRenamed['foodconsumed7d']!=0]\n",
    "x['foodconsumed7d'].describe().T[['mean', 'std', 'count', 'min', 'max']]"
   ]
  },
  {
   "cell_type": "code",
   "execution_count": 24,
   "metadata": {},
   "outputs": [
    {
     "data": {
      "text/plain": [
       "hhid                   135\n",
       "s1q2_x                 135\n",
       "spend_tuitionfees      135\n",
       "spend_textbooks        135\n",
       "spend_exercisebooks    135\n",
       "                      ... \n",
       "pgi                    135\n",
       "spg                    135\n",
       "weight_y.1             135\n",
       "popweight              135\n",
       "Dataset2               135\n",
       "Length: 144, dtype: int64"
      ]
     },
     "execution_count": 24,
     "metadata": {},
     "output_type": "execute_result"
    }
   ],
   "source": [
    "MergedDatasetsRenamed[MergedDatasetsRenamed['foodconsumed7d'] > 542].count()\n",
    "#Drop 135"
   ]
  },
  {
   "cell_type": "code",
   "execution_count": 25,
   "metadata": {},
   "outputs": [
    {
     "data": {
      "text/plain": [
       "mean         0.520312\n",
       "std          0.795757\n",
       "count    15498.000000\n",
       "min          0.000067\n",
       "max         17.500000\n",
       "Name: quantityfood_consumedkg_pc, dtype: float64"
      ]
     },
     "execution_count": 25,
     "metadata": {},
     "output_type": "execute_result"
    }
   ],
   "source": [
    "x = MergedDatasetsRenamed[MergedDatasetsRenamed['quantityfood_consumedkg_pc']!=0]\n",
    "x['quantityfood_consumedkg_pc'].describe().T[['mean', 'std', 'count', 'min', 'max']]"
   ]
  },
  {
   "cell_type": "code",
   "execution_count": 27,
   "metadata": {},
   "outputs": [
    {
     "data": {
      "text/plain": [
       "hhid                   293\n",
       "s1q2_x                 293\n",
       "spend_tuitionfees      293\n",
       "spend_textbooks        293\n",
       "spend_exercisebooks    293\n",
       "                      ... \n",
       "pgi                    293\n",
       "spg                    293\n",
       "weight_y.1             293\n",
       "popweight              293\n",
       "Dataset2               293\n",
       "Length: 144, dtype: int64"
      ]
     },
     "execution_count": 27,
     "metadata": {},
     "output_type": "execute_result"
    }
   ],
   "source": [
    "MergedDatasetsRenamed[MergedDatasetsRenamed['quantityfood_consumedkg_pc'] > 2.92].count()\n",
    "#Drop 293"
   ]
  },
  {
   "cell_type": "code",
   "execution_count": 28,
   "metadata": {},
   "outputs": [
    {
     "data": {
      "text/plain": [
       "mean         1.322400\n",
       "std          0.557136\n",
       "count    18080.000000\n",
       "min          1.000000\n",
       "max          4.000000\n",
       "Name: number_dwellings, dtype: float64"
      ]
     },
     "execution_count": 28,
     "metadata": {},
     "output_type": "execute_result"
    }
   ],
   "source": [
    "x = MergedDatasetsRenamed[MergedDatasetsRenamed['number_dwellings']!=0]\n",
    "x['number_dwellings'].describe().T[['mean', 'std', 'count', 'min', 'max']]"
   ]
  },
  {
   "cell_type": "code",
   "execution_count": 29,
   "metadata": {},
   "outputs": [
    {
     "data": {
      "text/plain": [
       "hhid                   47\n",
       "s1q2_x                 47\n",
       "spend_tuitionfees      47\n",
       "spend_textbooks        47\n",
       "spend_exercisebooks    47\n",
       "                       ..\n",
       "pgi                    47\n",
       "spg                    47\n",
       "weight_y.1             47\n",
       "popweight              47\n",
       "Dataset2               47\n",
       "Length: 144, dtype: int64"
      ]
     },
     "execution_count": 29,
     "metadata": {},
     "output_type": "execute_result"
    }
   ],
   "source": [
    "MergedDatasetsRenamed[MergedDatasetsRenamed['number_dwellings'] > 3].count()\n",
    "#Drop 43 "
   ]
  },
  {
   "cell_type": "code",
   "execution_count": 32,
   "metadata": {},
   "outputs": [
    {
     "data": {
      "text/plain": [
       "mean         1.398451\n",
       "std          0.667266\n",
       "count    18080.000000\n",
       "min          1.000000\n",
       "max          6.000000\n",
       "Name: number_habitablerooms, dtype: float64"
      ]
     },
     "execution_count": 32,
     "metadata": {},
     "output_type": "execute_result"
    }
   ],
   "source": [
    "x = MergedDatasetsRenamed[MergedDatasetsRenamed['number_habitablerooms']!=0]\n",
    "x['number_habitablerooms'].describe().T[['mean', 'std', 'count', 'min', 'max']]"
   ]
  },
  {
   "cell_type": "code",
   "execution_count": 33,
   "metadata": {},
   "outputs": [
    {
     "data": {
      "text/plain": [
       "hhid                   249\n",
       "s1q2_x                 249\n",
       "spend_tuitionfees      249\n",
       "spend_textbooks        249\n",
       "spend_exercisebooks    249\n",
       "                      ... \n",
       "pgi                    249\n",
       "spg                    249\n",
       "weight_y.1             249\n",
       "popweight              249\n",
       "Dataset2               249\n",
       "Length: 144, dtype: int64"
      ]
     },
     "execution_count": 33,
     "metadata": {},
     "output_type": "execute_result"
    }
   ],
   "source": [
    "MergedDatasetsRenamed[MergedDatasetsRenamed['number_habitablerooms'] > 3.41].count()\n",
    "#drop 249 "
   ]
  },
  {
   "cell_type": "code",
   "execution_count": 34,
   "metadata": {},
   "outputs": [],
   "source": [
    "Nonfood = pd.read_csv('../1data/KSPS/UNHCR-KEN-2018-SEA-Kalobeyei-Nonfood.csv') "
   ]
  },
  {
   "cell_type": "code",
   "execution_count": 35,
   "metadata": {},
   "outputs": [],
   "source": [
    "Nonfood = Nonfood.rename(columns={\n",
    "                        \"s12q9\":\"purchased\", \n",
    "                        \"s12q10\": \"cost\"})"
   ]
  },
  {
   "cell_type": "code",
   "execution_count": 37,
   "metadata": {},
   "outputs": [
    {
     "data": {
      "text/plain": [
       "mean        32.681817\n",
       "std        104.560583\n",
       "count    19058.000000\n",
       "min          0.768703\n",
       "max      10000.000000\n",
       "Name: cost, dtype: float64"
      ]
     },
     "execution_count": 37,
     "metadata": {},
     "output_type": "execute_result"
    }
   ],
   "source": [
    "x = Nonfood[Nonfood['cost']!=0]\n",
    "x['cost'].describe().T[['mean', 'std', 'count', 'min', 'max']]"
   ]
  },
  {
   "cell_type": "code",
   "execution_count": 38,
   "metadata": {},
   "outputs": [
    {
     "data": {
      "text/plain": [
       "hhid                   133\n",
       "s1q2                   133\n",
       "hhsize                 133\n",
       "hhmod                  133\n",
       "mod_opt                133\n",
       "item_name              133\n",
       "g_recall               133\n",
       "purchased              133\n",
       "cost                   133\n",
       "s12q11                 133\n",
       "nfcons_value           133\n",
       "nfcons_value_capita    133\n",
       "weight                 133\n",
       "popweight              133\n",
       "dtype: int64"
      ]
     },
     "execution_count": 38,
     "metadata": {},
     "output_type": "execute_result"
    }
   ],
   "source": [
    "Nonfood[Nonfood['cost'] > 346.36].count()\n",
    "#Drop 133"
   ]
  },
  {
   "cell_type": "code",
   "execution_count": 40,
   "metadata": {},
   "outputs": [],
   "source": []
  },
  {
   "cell_type": "code",
   "execution_count": null,
   "metadata": {},
   "outputs": [],
   "source": []
  }
 ],
 "metadata": {
  "kernelspec": {
   "display_name": "Python 3",
   "language": "python",
   "name": "python3"
  },
  "language_info": {
   "codemirror_mode": {
    "name": "ipython",
    "version": 3
   },
   "file_extension": ".py",
   "mimetype": "text/x-python",
   "name": "python",
   "nbconvert_exporter": "python",
   "pygments_lexer": "ipython3",
   "version": "3.7.6"
  }
 },
 "nbformat": 4,
 "nbformat_minor": 4
}
