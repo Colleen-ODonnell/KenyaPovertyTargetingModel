{
 "cells": [
  {
   "cell_type": "code",
   "execution_count": 29,
   "metadata": {},
   "outputs": [],
   "source": [
    "import numpy as np\n",
    "import pandas as pd\n",
    "import seaborn as sns\n",
    "import matplotlib.pyplot as plt\n",
    "%matplotlib inline"
   ]
  },
  {
   "cell_type": "code",
   "execution_count": 51,
   "metadata": {},
   "outputs": [],
   "source": [
    "MergedDatasetsRenamed = pd.read_excel('../2progs/MergedDatasetwDummies.xlsx',sheet_name='Sheet1',index_col = 0)\n",
    "Nonfood = pd.read_excel('../2progs/Nonfood.xlsx',sheet_name='Sheet1',index_col = 0)"
   ]
  },
  {
   "cell_type": "code",
   "execution_count": null,
   "metadata": {},
   "outputs": [],
   "source": [
    "#Non-Food"
   ]
  },
  {
   "cell_type": "code",
   "execution_count": 52,
   "metadata": {},
   "outputs": [],
   "source": [
    "Nonfood['cost_per_hh'] = pd.DataFrame(Nonfood.groupby('hhid')['cost'].sum())\n",
    "MergedDatasetsRenamed['nonfoodTotalspend'] = Nonfood['cost_per_hh']"
   ]
  },
  {
   "cell_type": "code",
   "execution_count": null,
   "metadata": {},
   "outputs": [],
   "source": [
    "#Food "
   ]
  },
  {
   "cell_type": "code",
   "execution_count": 50,
   "metadata": {},
   "outputs": [],
   "source": [
    "MergedDatasetsRenamed['FoodCost_per_hh'] = pd.DataFrame(MergedDatasetsRenamed.groupby('hhid')['foodspent_localcurrecny'].sum())\n",
    "MergedDatasetsRenamed['foodTotalspend'] = MergedDatasetsRenamed['FoodCost_per_hh']"
   ]
  },
  {
   "cell_type": "code",
   "execution_count": null,
   "metadata": {},
   "outputs": [],
   "source": [
    "#Education "
   ]
  },
  {
   "cell_type": "code",
   "execution_count": 44,
   "metadata": {},
   "outputs": [],
   "source": [
    "MergedDatasetsRenamed['s1'] = pd.DataFrame(MergedDatasetsRenamed.groupby('hhid')['spend_tuitionfees'].mean())\n",
    "MergedDatasetsRenamed['s2'] = pd.DataFrame(MergedDatasetsRenamed.groupby('hhid')['spend_textbooks'].mean())\n",
    "MergedDatasetsRenamed['s3'] = pd.DataFrame(MergedDatasetsRenamed.groupby('hhid')['spend_exercisebooks'].mean())\n",
    "MergedDatasetsRenamed['s4'] = pd.DataFrame(MergedDatasetsRenamed.groupby('hhid')['spend_schooluniform'].mean())\n",
    "MergedDatasetsRenamed['s5'] = pd.DataFrame(MergedDatasetsRenamed.groupby('hhid')['spend_schoolboardingfees'].mean())\n",
    "MergedDatasetsRenamed['s6'] = pd.DataFrame(MergedDatasetsRenamed.groupby('hhid')['spend_extratuition'].mean())\n",
    "MergedDatasetsRenamed['s7'] = pd.DataFrame(MergedDatasetsRenamed.groupby('hhid')['spend_PTA'].mean())\n",
    "MergedDatasetsRenamed['s8'] = pd.DataFrame(MergedDatasetsRenamed.groupby('hhid')['spend_pocketmoney'].mean())\n",
    "MergedDatasetsRenamed['s9'] = pd.DataFrame(MergedDatasetsRenamed.groupby('hhid')['spend_cautionmoney'].mean())\n",
    "MergedDatasetsRenamed['s10'] = pd.DataFrame(MergedDatasetsRenamed.groupby('hhid')['spend_educmedicalfee'].mean())\n",
    "MergedDatasetsRenamed['s11'] = pd.DataFrame(MergedDatasetsRenamed.groupby('hhid')['spend_activityfees'].mean())\n",
    "MergedDatasetsRenamed['s12'] = pd.DataFrame(MergedDatasetsRenamed.groupby('hhid')['spend_examfees'].mean())\n",
    "MergedDatasetsRenamed['s13'] = pd.DataFrame(MergedDatasetsRenamed.groupby('hhid')['spend_educfeedingprogram'].mean())\n",
    "MergedDatasetsRenamed['s14'] = pd.DataFrame(MergedDatasetsRenamed.groupby('hhid')['spend_othereduccharges'].mean())\n",
    "MergedDatasetsRenamed['s15'] = pd.DataFrame(MergedDatasetsRenamed.groupby('hhid')['spend_schooltransport'].mean())\n",
    "\n"
   ]
  },
  {
   "cell_type": "code",
   "execution_count": null,
   "metadata": {},
   "outputs": [],
   "source": []
  },
  {
   "cell_type": "code",
   "execution_count": 49,
   "metadata": {},
   "outputs": [],
   "source": [
    "MergedDatasetsRenamed ['Spend']= MergedDatasetsRenamed['s1']\n",
    "MergedDatasetsRenamed ['Spend'] = MergedDatasetsRenamed['s2']\n",
    "MergedDatasetsRenamed['Spend'] = MergedDatasetsRenamed['s3']\n",
    "MergedDatasetsRenamed ['Spend']= MergedDatasetsRenamed['s4']\n",
    "MergedDatasetsRenamed ['Spend']= MergedDatasetsRenamed['s5']\n",
    "MergedDatasetsRenamed['Spend'] = MergedDatasetsRenamed['s6']\n",
    "MergedDatasetsRenamed['Spend'] = MergedDatasetsRenamed['s7']\n",
    "MergedDatasetsRenamed ['Spend']= MergedDatasetsRenamed['s8']\n",
    "MergedDatasetsRenamed ['Spend']= MergedDatasetsRenamed['s9']\n",
    "MergedDatasetsRenamed ['Spend']= MergedDatasetsRenamed['s10']\n",
    "MergedDatasetsRenamed['Spend'] = MergedDatasetsRenamed['s11']\n",
    "MergedDatasetsRenamed ['Spend']= MergedDatasetsRenamed['s12']\n",
    "MergedDatasetsRenamed['Spend'] = MergedDatasetsRenamed['s13']\n",
    "MergedDatasetsRenamed ['Spend']= MergedDatasetsRenamed['s14']\n",
    "MergedDatasetsRenamed['Spend'] = MergedDatasetsRenamed['s15']"
   ]
  },
  {
   "cell_type": "code",
   "execution_count": 53,
   "metadata": {},
   "outputs": [],
   "source": [
    "#Energy "
   ]
  },
  {
   "cell_type": "code",
   "execution_count": null,
   "metadata": {},
   "outputs": [],
   "source": []
  },
  {
   "cell_type": "code",
   "execution_count": 46,
   "metadata": {},
   "outputs": [
    {
     "data": {
      "text/html": [
       "<div>\n",
       "<style scoped>\n",
       "    .dataframe tbody tr th:only-of-type {\n",
       "        vertical-align: middle;\n",
       "    }\n",
       "\n",
       "    .dataframe tbody tr th {\n",
       "        vertical-align: top;\n",
       "    }\n",
       "\n",
       "    .dataframe thead th {\n",
       "        text-align: right;\n",
       "    }\n",
       "</style>\n",
       "<table border=\"1\" class=\"dataframe\">\n",
       "  <thead>\n",
       "    <tr style=\"text-align: right;\">\n",
       "      <th></th>\n",
       "      <th>Mean</th>\n",
       "      <th>Std</th>\n",
       "      <th>N</th>\n",
       "    </tr>\n",
       "  </thead>\n",
       "  <tbody>\n",
       "    <tr>\n",
       "      <th>Food Total Spend</th>\n",
       "      <td>4829.029358</td>\n",
       "      <td>2984.092550</td>\n",
       "      <td>1090.0</td>\n",
       "    </tr>\n",
       "    <tr>\n",
       "      <th>Education Total Spend</th>\n",
       "      <td>203.584559</td>\n",
       "      <td>1558.459426</td>\n",
       "      <td>1088.0</td>\n",
       "    </tr>\n",
       "    <tr>\n",
       "      <th>Nonfood Total Spend</th>\n",
       "      <td>555.318243</td>\n",
       "      <td>568.318964</td>\n",
       "      <td>1100.0</td>\n",
       "    </tr>\n",
       "  </tbody>\n",
       "</table>\n",
       "</div>"
      ],
      "text/plain": [
       "                              Mean          Std       N\n",
       "Food Total Spend       4829.029358  2984.092550  1090.0\n",
       "Education Total Spend   203.584559  1558.459426  1088.0\n",
       "Nonfood Total Spend     555.318243   568.318964  1100.0"
      ]
     },
     "execution_count": 46,
     "metadata": {},
     "output_type": "execute_result"
    }
   ],
   "source": [
    "MergedDatasetsRenamed[['foodTotalspend','Spend', \n",
    "                       'nonfoodTotalspend']].describe().T[['mean', 'std', 'count']].set_axis(['Food Total Spend', 'Education Total Spend', 'Nonfood Total Spend'], \n",
    "                        axis = 'index').set_axis(['Mean', 'Std', 'N'], axis='columns')"
   ]
  },
  {
   "cell_type": "code",
   "execution_count": null,
   "metadata": {},
   "outputs": [],
   "source": []
  },
  {
   "cell_type": "code",
   "execution_count": null,
   "metadata": {},
   "outputs": [],
   "source": []
  }
 ],
 "metadata": {
  "kernelspec": {
   "display_name": "Python 3",
   "language": "python",
   "name": "python3"
  },
  "language_info": {
   "codemirror_mode": {
    "name": "ipython",
    "version": 3
   },
   "file_extension": ".py",
   "mimetype": "text/x-python",
   "name": "python",
   "nbconvert_exporter": "python",
   "pygments_lexer": "ipython3",
   "version": "3.8.3"
  }
 },
 "nbformat": 4,
 "nbformat_minor": 4
}
