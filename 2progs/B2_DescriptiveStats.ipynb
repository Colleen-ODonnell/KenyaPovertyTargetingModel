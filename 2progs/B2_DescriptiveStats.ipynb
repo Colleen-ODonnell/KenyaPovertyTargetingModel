{
 "cells": [
  {
   "cell_type": "code",
   "execution_count": 1,
   "metadata": {},
   "outputs": [
    {
     "ename": "ModuleNotFoundError",
     "evalue": "No module named 'seaborn'",
     "output_type": "error",
     "traceback": [
      "\u001b[0;31m---------------------------------------------------------------------------\u001b[0m",
      "\u001b[0;31mModuleNotFoundError\u001b[0m                       Traceback (most recent call last)",
      "\u001b[0;32m<ipython-input-1-0e919de7038c>\u001b[0m in \u001b[0;36m<module>\u001b[0;34m\u001b[0m\n\u001b[1;32m      1\u001b[0m \u001b[0;32mimport\u001b[0m \u001b[0mnumpy\u001b[0m \u001b[0;32mas\u001b[0m \u001b[0mnp\u001b[0m\u001b[0;34m\u001b[0m\u001b[0;34m\u001b[0m\u001b[0m\n\u001b[1;32m      2\u001b[0m \u001b[0;32mimport\u001b[0m \u001b[0mpandas\u001b[0m \u001b[0;32mas\u001b[0m \u001b[0mpd\u001b[0m\u001b[0;34m\u001b[0m\u001b[0;34m\u001b[0m\u001b[0m\n\u001b[0;32m----> 3\u001b[0;31m \u001b[0;32mimport\u001b[0m \u001b[0mseaborn\u001b[0m \u001b[0;32mas\u001b[0m \u001b[0msns\u001b[0m\u001b[0;34m\u001b[0m\u001b[0;34m\u001b[0m\u001b[0m\n\u001b[0m\u001b[1;32m      4\u001b[0m \u001b[0;32mimport\u001b[0m \u001b[0mmatplotlib\u001b[0m\u001b[0;34m.\u001b[0m\u001b[0mpyplot\u001b[0m \u001b[0;32mas\u001b[0m \u001b[0mplt\u001b[0m\u001b[0;34m\u001b[0m\u001b[0;34m\u001b[0m\u001b[0m\n\u001b[1;32m      5\u001b[0m \u001b[0;32mimport\u001b[0m \u001b[0mpandas\u001b[0m \u001b[0;32mas\u001b[0m \u001b[0mpd\u001b[0m\u001b[0;34m\u001b[0m\u001b[0;34m\u001b[0m\u001b[0m\n",
      "\u001b[0;31mModuleNotFoundError\u001b[0m: No module named 'seaborn'"
     ]
    }
   ],
   "source": [
    "import numpy as np\n",
    "import pandas as pd\n",
    "import seaborn as sns\n",
    "import matplotlib.pyplot as plt\n",
    "import pandas as pd\n",
    "from sklearn import datasets\n",
    "import statsmodels.api as sm\n",
    "\n",
    "%matplotlib inline"
   ]
  },
  {
   "cell_type": "code",
   "execution_count": 4,
   "metadata": {},
   "outputs": [],
   "source": [
    "MergeTotalCost = pd.read_excel('../2progs/Excel_Files/C1_MergedData.xlsx')"
   ]
  },
  {
   "cell_type": "code",
   "execution_count": 5,
   "metadata": {},
   "outputs": [],
   "source": [
    "MergeTotalCost['EducationTotalSpend'] = MergeTotalCost[['spend_tuitionfees', 'spend_textbooks',\n",
    "                                                                     'spend_exercisebooks','spend_schooluniform', 'spend_schoolboardingfees',\n",
    "                                                                     'spend_schooltransport', 'spend_extratuition', 'spend_PTA','spend_pocketmoney',\n",
    "                                                                     'spend_cautionmoney','spend_educmedicalfee', 'spend_activityfees', 'spend_examfees', \n",
    "                                                                     'spend_examfees', 'spend_othereduccharges']].sum(axis = 1)"
   ]
  },
  {
   "cell_type": "code",
   "execution_count": 6,
   "metadata": {},
   "outputs": [],
   "source": [
    "MergeTotalCost['FoodTotalSpend'] = MergeTotalCost[['foodspent_localcurrecny']] "
   ]
  },
  {
   "cell_type": "code",
   "execution_count": 7,
   "metadata": {},
   "outputs": [],
   "source": [
    "MergeTotalCost['NonFoodTotalSpend'] = MergeTotalCost[['cost']] "
   ]
  },
  {
   "cell_type": "code",
   "execution_count": 8,
   "metadata": {},
   "outputs": [],
   "source": [
    "MergeTotalCost['EnergyTotalSpend'] = MergeTotalCost[['totalcost_purchasedfirewood', \n",
    "                                        'totalcost_collectedfirewood', 'totalcost_farmresidue', 'totalcost_wood/processwaste', \n",
    "                                        'totalcost_charcoal','totalcost_kerosene/paraffin', 'totalcost_lpg', \n",
    "                                      'totalcost_electricity', 'totalcost_petrol', 'totalcost_diesel' ]].sum(axis=1)"
   ]
  },
  {
   "cell_type": "code",
   "execution_count": 9,
   "metadata": {},
   "outputs": [
    {
     "data": {
      "text/html": [
       "<div>\n",
       "<style scoped>\n",
       "    .dataframe tbody tr th:only-of-type {\n",
       "        vertical-align: middle;\n",
       "    }\n",
       "\n",
       "    .dataframe tbody tr th {\n",
       "        vertical-align: top;\n",
       "    }\n",
       "\n",
       "    .dataframe thead th {\n",
       "        text-align: right;\n",
       "    }\n",
       "</style>\n",
       "<table border=\"1\" class=\"dataframe\">\n",
       "  <thead>\n",
       "    <tr style=\"text-align: right;\">\n",
       "      <th></th>\n",
       "      <th>Mean</th>\n",
       "      <th>Std</th>\n",
       "      <th>N</th>\n",
       "    </tr>\n",
       "  </thead>\n",
       "  <tbody>\n",
       "    <tr>\n",
       "      <th>Energy Total Spend</th>\n",
       "      <td>362.746789</td>\n",
       "      <td>334.230014</td>\n",
       "      <td>1090.0</td>\n",
       "    </tr>\n",
       "    <tr>\n",
       "      <th>Food Total Spend</th>\n",
       "      <td>4829.029358</td>\n",
       "      <td>2984.092550</td>\n",
       "      <td>1090.0</td>\n",
       "    </tr>\n",
       "    <tr>\n",
       "      <th>Education Total Spend</th>\n",
       "      <td>2093.947491</td>\n",
       "      <td>6675.007432</td>\n",
       "      <td>1090.0</td>\n",
       "    </tr>\n",
       "    <tr>\n",
       "      <th>Nonfood Total Spend</th>\n",
       "      <td>479.572343</td>\n",
       "      <td>436.236780</td>\n",
       "      <td>1090.0</td>\n",
       "    </tr>\n",
       "  </tbody>\n",
       "</table>\n",
       "</div>"
      ],
      "text/plain": [
       "                              Mean          Std       N\n",
       "Energy Total Spend      362.746789   334.230014  1090.0\n",
       "Food Total Spend       4829.029358  2984.092550  1090.0\n",
       "Education Total Spend  2093.947491  6675.007432  1090.0\n",
       "Nonfood Total Spend     479.572343   436.236780  1090.0"
      ]
     },
     "execution_count": 9,
     "metadata": {},
     "output_type": "execute_result"
    }
   ],
   "source": [
    "table4 = MergeTotalCost[['EnergyTotalSpend', 'FoodTotalSpend','EducationTotalSpend', \n",
    "                       'NonFoodTotalSpend']].describe().T[['mean', 'std', 'count']].set_axis(['Energy Total Spend', 'Food Total Spend', 'Education Total Spend', 'Nonfood Total Spend'], \n",
    "                        axis = 'index').set_axis(['Mean', 'Std', 'N'], axis='columns')\n",
    "\n",
    "table4"
   ]
  },
  {
   "cell_type": "code",
   "execution_count": 10,
   "metadata": {},
   "outputs": [],
   "source": [
    "MergeTotalCost['Total_Spend'] = MergeTotalCost[['EnergyTotalSpend', 'FoodTotalSpend','EducationTotalSpend', 'NonFoodTotalSpend']].sum(axis = 1)"
   ]
  },
  {
   "cell_type": "code",
   "execution_count": 13,
   "metadata": {},
   "outputs": [],
   "source": [
    "MergeTotalCost.to_excel('../2progs/Excel_Files/C2_DescriptiveStats.xlsx',sheet_name='Sheet1')"
   ]
  },
  {
   "cell_type": "code",
   "execution_count": null,
   "metadata": {},
   "outputs": [],
   "source": []
  }
 ],
 "metadata": {
  "kernelspec": {
   "display_name": "Python 3",
   "language": "python",
   "name": "python3"
  },
  "language_info": {
   "codemirror_mode": {
    "name": "ipython",
    "version": 3
   },
   "file_extension": ".py",
   "mimetype": "text/x-python",
   "name": "python",
   "nbconvert_exporter": "python",
   "pygments_lexer": "ipython3",
   "version": "3.7.6"
  }
 },
 "nbformat": 4,
 "nbformat_minor": 4
}
