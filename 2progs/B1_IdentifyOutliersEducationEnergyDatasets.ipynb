{
 "cells": [
  {
   "cell_type": "code",
   "execution_count": 1,
   "metadata": {},
   "outputs": [],
   "source": [
    "import numpy as np\n",
    "import pandas as pd\n",
    "import seaborn as sns\n",
    "import matplotlib.pyplot as plt\n",
    "%matplotlib inline"
   ]
  },
  {
   "cell_type": "code",
   "execution_count": 2,
   "metadata": {},
   "outputs": [],
   "source": [
    "MergedDatasetsRenamed = pd.read_excel('../2progs/MergedDatasetsRenamed.xlsx',sheet_name='Sheet1',index_col = 0)"
   ]
  },
  {
   "cell_type": "code",
   "execution_count": 10,
   "metadata": {},
   "outputs": [
    {
     "data": {
      "text/plain": [
       "mean      6290.007233\n",
       "std       9461.010886\n",
       "count     1390.000000\n",
       "min          1.000000\n",
       "max      48350.000980\n",
       "Name: spend_tuitionfees, dtype: float64"
      ]
     },
     "execution_count": 10,
     "metadata": {},
     "output_type": "execute_result"
    }
   ],
   "source": [
    "x['spend_tuitionfees'].describe().T[['mean', 'std', 'count', 'min', 'max']]"
   ]
  },
  {
   "cell_type": "code",
   "execution_count": 12,
   "metadata": {},
   "outputs": [
    {
     "data": {
      "text/plain": [
       "hhid                   36\n",
       "s1q2_x                 36\n",
       "spend_tuitionfees      36\n",
       "spend_textbooks        36\n",
       "spend_exercisebooks    36\n",
       "                       ..\n",
       "pgi                    36\n",
       "spg                    36\n",
       "weight_y.1             36\n",
       "popweight              36\n",
       "Dataset2               36\n",
       "Length: 144, dtype: int64"
      ]
     },
     "execution_count": 12,
     "metadata": {},
     "output_type": "execute_result"
    }
   ],
   "source": [
    "MergedDatasetsRenamed[MergedDatasetsRenamed['spend_tuitionfees'] > 34673].count()\n",
    "#drop 36"
   ]
  },
  {
   "cell_type": "code",
   "execution_count": 13,
   "metadata": {},
   "outputs": [
    {
     "data": {
      "text/plain": [
       "mean     1318.962610\n",
       "std      1432.657343\n",
       "count    3762.000000\n",
       "min         1.000000\n",
       "max      9999.999878\n",
       "Name: spend_textbooks, dtype: float64"
      ]
     },
     "execution_count": 13,
     "metadata": {},
     "output_type": "execute_result"
    }
   ],
   "source": [
    "x = MergedDatasetsRenamed[MergedDatasetsRenamed['spend_textbooks']!=0]\n",
    "x['spend_textbooks'].describe().T[['mean', 'std', 'count', 'min', 'max']]\n"
   ]
  },
  {
   "cell_type": "code",
   "execution_count": 14,
   "metadata": {},
   "outputs": [
    {
     "data": {
      "text/plain": [
       "hhid                   119\n",
       "s1q2_x                 119\n",
       "spend_tuitionfees      119\n",
       "spend_textbooks        119\n",
       "spend_exercisebooks    119\n",
       "                      ... \n",
       "pgi                    119\n",
       "spg                    119\n",
       "weight_y.1             119\n",
       "popweight              119\n",
       "Dataset2               119\n",
       "Length: 144, dtype: int64"
      ]
     },
     "execution_count": 14,
     "metadata": {},
     "output_type": "execute_result"
    }
   ],
   "source": [
    "MergedDatasetsRenamed[MergedDatasetsRenamed['spend_textbooks'] > 5614].count()\n",
    "#find obs w/ more than 3SD from mean\n",
    "\n",
    "#drop 119"
   ]
  },
  {
   "cell_type": "code",
   "execution_count": 16,
   "metadata": {},
   "outputs": [
    {
     "data": {
      "text/plain": [
       "mean       728.829151\n",
       "std       1039.469655\n",
       "count    12309.000000\n",
       "min          3.000000\n",
       "max       8600.000000\n",
       "Name: spend_exercisebooks, dtype: float64"
      ]
     },
     "execution_count": 16,
     "metadata": {},
     "output_type": "execute_result"
    }
   ],
   "source": [
    "x = MergedDatasetsRenamed[MergedDatasetsRenamed['spend_exercisebooks']!=0]\n",
    "x['spend_exercisebooks'].describe().T[['mean', 'std', 'count', 'min', 'max']]"
   ]
  },
  {
   "cell_type": "code",
   "execution_count": 17,
   "metadata": {},
   "outputs": [
    {
     "data": {
      "text/plain": [
       "hhid                   253\n",
       "s1q2_x                 253\n",
       "spend_tuitionfees      253\n",
       "spend_textbooks        253\n",
       "spend_exercisebooks    253\n",
       "                      ... \n",
       "pgi                    253\n",
       "spg                    253\n",
       "weight_y.1             253\n",
       "popweight              253\n",
       "Dataset2               253\n",
       "Length: 144, dtype: int64"
      ]
     },
     "execution_count": 17,
     "metadata": {},
     "output_type": "execute_result"
    }
   ],
   "source": [
    "MergedDatasetsRenamed[MergedDatasetsRenamed['spend_exercisebooks'] > 3845].count()\n",
    "#drop 253"
   ]
  },
  {
   "cell_type": "code",
   "execution_count": 19,
   "metadata": {},
   "outputs": [
    {
     "data": {
      "text/plain": [
       "mean      1752.048389\n",
       "std       1937.970419\n",
       "count     3100.000000\n",
       "min          1.000000\n",
       "max      14000.000000\n",
       "Name: spend_schooluniform, dtype: float64"
      ]
     },
     "execution_count": 19,
     "metadata": {},
     "output_type": "execute_result"
    }
   ],
   "source": [
    "x = MergedDatasetsRenamed[MergedDatasetsRenamed['spend_schooluniform']!=0]\n",
    "x['spend_schooluniform'].describe().T[['mean', 'std', 'count', 'min', 'max']]"
   ]
  },
  {
   "cell_type": "code",
   "execution_count": 20,
   "metadata": {},
   "outputs": [
    {
     "data": {
      "text/plain": [
       "hhid                   91\n",
       "s1q2_x                 91\n",
       "spend_tuitionfees      91\n",
       "spend_textbooks        91\n",
       "spend_exercisebooks    91\n",
       "                       ..\n",
       "pgi                    91\n",
       "spg                    91\n",
       "weight_y.1             91\n",
       "popweight              91\n",
       "Dataset2               91\n",
       "Length: 144, dtype: int64"
      ]
     },
     "execution_count": 20,
     "metadata": {},
     "output_type": "execute_result"
    }
   ],
   "source": [
    "MergedDatasetsRenamed[MergedDatasetsRenamed['spend_schooluniform'] > 7563].count()\n",
    "\n",
    "#drop 91"
   ]
  },
  {
   "cell_type": "code",
   "execution_count": 21,
   "metadata": {},
   "outputs": [
    {
     "data": {
      "text/plain": [
       "mean      19532.830914\n",
       "std       29299.533837\n",
       "count       481.000000\n",
       "min         450.000000\n",
       "max      100200.000000\n",
       "Name: spend_schoolboardingfees, dtype: float64"
      ]
     },
     "execution_count": 21,
     "metadata": {},
     "output_type": "execute_result"
    }
   ],
   "source": [
    "x = MergedDatasetsRenamed[MergedDatasetsRenamed['spend_schoolboardingfees']!=0]\n",
    "x['spend_schoolboardingfees'].describe().T[['mean', 'std', 'count', 'min', 'max']]\n",
    "\n",
    "#all within 3SD of mean!"
   ]
  },
  {
   "cell_type": "code",
   "execution_count": 22,
   "metadata": {},
   "outputs": [
    {
     "data": {
      "text/plain": [
       "mean      5993.376863\n",
       "std      11824.267561\n",
       "count     1072.000000\n",
       "min        150.000000\n",
       "max      72000.000000\n",
       "Name: spend_schooltransport, dtype: float64"
      ]
     },
     "execution_count": 22,
     "metadata": {},
     "output_type": "execute_result"
    }
   ],
   "source": [
    "x = MergedDatasetsRenamed[MergedDatasetsRenamed['spend_schooltransport']!=0]\n",
    "x['spend_schooltransport'].describe().T[['mean', 'std', 'count', 'min', 'max']]"
   ]
  },
  {
   "cell_type": "code",
   "execution_count": 23,
   "metadata": {},
   "outputs": [
    {
     "data": {
      "text/plain": [
       "hhid                   42\n",
       "s1q2_x                 42\n",
       "spend_tuitionfees      42\n",
       "spend_textbooks        42\n",
       "spend_exercisebooks    42\n",
       "                       ..\n",
       "pgi                    42\n",
       "spg                    42\n",
       "weight_y.1             42\n",
       "popweight              42\n",
       "Dataset2               42\n",
       "Length: 144, dtype: int64"
      ]
     },
     "execution_count": 23,
     "metadata": {},
     "output_type": "execute_result"
    }
   ],
   "source": [
    "MergedDatasetsRenamed[MergedDatasetsRenamed['spend_schooltransport'] > 41465].count()\n",
    "#drop 42 observations"
   ]
  },
  {
   "cell_type": "code",
   "execution_count": 24,
   "metadata": {},
   "outputs": [
    {
     "data": {
      "text/plain": [
       "mean     1357.883791\n",
       "std      1679.843730\n",
       "count     545.000000\n",
       "min        40.000000\n",
       "max      6000.000000\n",
       "Name: spend_extratuition, dtype: float64"
      ]
     },
     "execution_count": 24,
     "metadata": {},
     "output_type": "execute_result"
    }
   ],
   "source": [
    "x = MergedDatasetsRenamed[MergedDatasetsRenamed['spend_extratuition']!=0]\n",
    "x['spend_extratuition'].describe().T[['mean', 'std', 'count', 'min', 'max']]\n",
    "#no outliers more than 3SD from mean"
   ]
  },
  {
   "cell_type": "code",
   "execution_count": 25,
   "metadata": {},
   "outputs": [
    {
     "data": {
      "text/plain": [
       "mean      284.191367\n",
       "std       431.688603\n",
       "count    1228.000000\n",
       "min         5.000000\n",
       "max      3000.000000\n",
       "Name: spend_PTA, dtype: float64"
      ]
     },
     "execution_count": 25,
     "metadata": {},
     "output_type": "execute_result"
    }
   ],
   "source": [
    "x = MergedDatasetsRenamed[MergedDatasetsRenamed['spend_PTA']!=0]\n",
    "x['spend_PTA'].describe().T[['mean', 'std', 'count', 'min', 'max']]"
   ]
  },
  {
   "cell_type": "code",
   "execution_count": 26,
   "metadata": {},
   "outputs": [
    {
     "data": {
      "text/plain": [
       "hhid                   42\n",
       "s1q2_x                 42\n",
       "spend_tuitionfees      42\n",
       "spend_textbooks        42\n",
       "spend_exercisebooks    42\n",
       "                       ..\n",
       "pgi                    42\n",
       "spg                    42\n",
       "weight_y.1             42\n",
       "popweight              42\n",
       "Dataset2               42\n",
       "Length: 144, dtype: int64"
      ]
     },
     "execution_count": 26,
     "metadata": {},
     "output_type": "execute_result"
    }
   ],
   "source": [
    "MergedDatasetsRenamed[MergedDatasetsRenamed['spend_PTA'] > 1577].count()\n",
    "#drop 42 obs"
   ]
  },
  {
   "cell_type": "code",
   "execution_count": 27,
   "metadata": {},
   "outputs": [
    {
     "data": {
      "text/plain": [
       "mean      2450.052791\n",
       "std       4925.764340\n",
       "count     1326.000000\n",
       "min         20.000000\n",
       "max      36000.000000\n",
       "Name: spend_pocketmoney, dtype: float64"
      ]
     },
     "execution_count": 27,
     "metadata": {},
     "output_type": "execute_result"
    }
   ],
   "source": [
    "x = MergedDatasetsRenamed[MergedDatasetsRenamed['spend_pocketmoney']!=0]\n",
    "x['spend_pocketmoney'].describe().T[['mean', 'std', 'count', 'min', 'max']]"
   ]
  },
  {
   "cell_type": "code",
   "execution_count": 28,
   "metadata": {},
   "outputs": [
    {
     "data": {
      "text/plain": [
       "hhid                   21\n",
       "s1q2_x                 21\n",
       "spend_tuitionfees      21\n",
       "spend_textbooks        21\n",
       "spend_exercisebooks    21\n",
       "                       ..\n",
       "pgi                    21\n",
       "spg                    21\n",
       "weight_y.1             21\n",
       "popweight              21\n",
       "Dataset2               21\n",
       "Length: 144, dtype: int64"
      ]
     },
     "execution_count": 28,
     "metadata": {},
     "output_type": "execute_result"
    }
   ],
   "source": [
    "MergedDatasetsRenamed[MergedDatasetsRenamed['spend_pocketmoney'] > 17225].count()\n",
    "#drop 21 observations"
   ]
  },
  {
   "cell_type": "code",
   "execution_count": 29,
   "metadata": {},
   "outputs": [
    {
     "data": {
      "text/plain": [
       "mean     1068.303484\n",
       "std      1307.119655\n",
       "count     402.000000\n",
       "min         2.000000\n",
       "max      5000.000000\n",
       "Name: spend_cautionmoney, dtype: float64"
      ]
     },
     "execution_count": 29,
     "metadata": {},
     "output_type": "execute_result"
    }
   ],
   "source": [
    "x = MergedDatasetsRenamed[MergedDatasetsRenamed['spend_cautionmoney']!=0]\n",
    "x['spend_cautionmoney'].describe().T[['mean', 'std', 'count', 'min', 'max']]"
   ]
  },
  {
   "cell_type": "code",
   "execution_count": 30,
   "metadata": {},
   "outputs": [
    {
     "data": {
      "text/plain": [
       "hhid                   22\n",
       "s1q2_x                 22\n",
       "spend_tuitionfees      22\n",
       "spend_textbooks        22\n",
       "spend_exercisebooks    22\n",
       "                       ..\n",
       "pgi                    22\n",
       "spg                    22\n",
       "weight_y.1             22\n",
       "popweight              22\n",
       "Dataset2               22\n",
       "Length: 144, dtype: int64"
      ]
     },
     "execution_count": 30,
     "metadata": {},
     "output_type": "execute_result"
    }
   ],
   "source": [
    "MergedDatasetsRenamed[MergedDatasetsRenamed['spend_cautionmoney'] > 4989].count()\n",
    "#drop 22 observations"
   ]
  },
  {
   "cell_type": "code",
   "execution_count": 31,
   "metadata": {},
   "outputs": [
    {
     "data": {
      "text/plain": [
       "mean      2460.922441\n",
       "std       3372.515027\n",
       "count     1002.000000\n",
       "min         50.000000\n",
       "max      22000.000000\n",
       "Name: spend_educmedicalfee, dtype: float64"
      ]
     },
     "execution_count": 31,
     "metadata": {},
     "output_type": "execute_result"
    }
   ],
   "source": [
    "x = MergedDatasetsRenamed[MergedDatasetsRenamed['spend_educmedicalfee']!=0]\n",
    "x['spend_educmedicalfee'].describe().T[['mean', 'std', 'count', 'min', 'max']]"
   ]
  },
  {
   "cell_type": "code",
   "execution_count": 32,
   "metadata": {},
   "outputs": [
    {
     "data": {
      "text/plain": [
       "hhid                   33\n",
       "s1q2_x                 33\n",
       "spend_tuitionfees      33\n",
       "spend_textbooks        33\n",
       "spend_exercisebooks    33\n",
       "                       ..\n",
       "pgi                    33\n",
       "spg                    33\n",
       "weight_y.1             33\n",
       "popweight              33\n",
       "Dataset2               33\n",
       "Length: 144, dtype: int64"
      ]
     },
     "execution_count": 32,
     "metadata": {},
     "output_type": "execute_result"
    }
   ],
   "source": [
    "MergedDatasetsRenamed[MergedDatasetsRenamed['spend_educmedicalfee'] > 12576].count()\n",
    "#drop 33 obs"
   ]
  },
  {
   "cell_type": "code",
   "execution_count": 33,
   "metadata": {},
   "outputs": [
    {
     "data": {
      "text/plain": [
       "mean      390.376005\n",
       "std       629.693014\n",
       "count    1117.000000\n",
       "min        10.000000\n",
       "max      3199.999878\n",
       "Name: spend_activityfees, dtype: float64"
      ]
     },
     "execution_count": 33,
     "metadata": {},
     "output_type": "execute_result"
    }
   ],
   "source": [
    "x = MergedDatasetsRenamed[MergedDatasetsRenamed['spend_activityfees']!=0]\n",
    "x['spend_activityfees'].describe().T[['mean', 'std', 'count', 'min', 'max']]"
   ]
  },
  {
   "cell_type": "code",
   "execution_count": 34,
   "metadata": {},
   "outputs": [
    {
     "data": {
      "text/plain": [
       "hhid                   55\n",
       "s1q2_x                 55\n",
       "spend_tuitionfees      55\n",
       "spend_textbooks        55\n",
       "spend_exercisebooks    55\n",
       "                       ..\n",
       "pgi                    55\n",
       "spg                    55\n",
       "weight_y.1             55\n",
       "popweight              55\n",
       "Dataset2               55\n",
       "Length: 144, dtype: int64"
      ]
     },
     "execution_count": 34,
     "metadata": {},
     "output_type": "execute_result"
    }
   ],
   "source": [
    "MergedDatasetsRenamed[MergedDatasetsRenamed['spend_activityfees'] > 2277].count()\n",
    "#drop 55 obs"
   ]
  },
  {
   "cell_type": "code",
   "execution_count": 35,
   "metadata": {},
   "outputs": [
    {
     "data": {
      "text/plain": [
       "mean       600.473384\n",
       "std       1309.281582\n",
       "count     2066.000000\n",
       "min          3.000000\n",
       "max      12000.000370\n",
       "Name: spend_examfees, dtype: float64"
      ]
     },
     "execution_count": 35,
     "metadata": {},
     "output_type": "execute_result"
    }
   ],
   "source": [
    "x = MergedDatasetsRenamed[MergedDatasetsRenamed['spend_examfees']!=0]\n",
    "x['spend_examfees'].describe().T[['mean', 'std', 'count', 'min', 'max']]"
   ]
  },
  {
   "cell_type": "code",
   "execution_count": 36,
   "metadata": {},
   "outputs": [
    {
     "data": {
      "text/plain": [
       "hhid                   49\n",
       "s1q2_x                 49\n",
       "spend_tuitionfees      49\n",
       "spend_textbooks        49\n",
       "spend_exercisebooks    49\n",
       "                       ..\n",
       "pgi                    49\n",
       "spg                    49\n",
       "weight_y.1             49\n",
       "popweight              49\n",
       "Dataset2               49\n",
       "Length: 144, dtype: int64"
      ]
     },
     "execution_count": 36,
     "metadata": {},
     "output_type": "execute_result"
    }
   ],
   "source": [
    "MergedDatasetsRenamed[MergedDatasetsRenamed['spend_examfees'] > 4527].count()\n",
    "#drop 49 observations"
   ]
  },
  {
   "cell_type": "code",
   "execution_count": 37,
   "metadata": {},
   "outputs": [
    {
     "data": {
      "text/plain": [
       "mean      7174.305352\n",
       "std      15398.841729\n",
       "count      393.000000\n",
       "min          7.000000\n",
       "max      60000.000000\n",
       "Name: spend_educfeedingprogram, dtype: float64"
      ]
     },
     "execution_count": 37,
     "metadata": {},
     "output_type": "execute_result"
    }
   ],
   "source": [
    "x = MergedDatasetsRenamed[MergedDatasetsRenamed['spend_educfeedingprogram']!=0]\n",
    "x['spend_educfeedingprogram'].describe().T[['mean', 'std', 'count', 'min', 'max']]"
   ]
  },
  {
   "cell_type": "code",
   "execution_count": 38,
   "metadata": {},
   "outputs": [
    {
     "data": {
      "text/plain": [
       "hhid                   16\n",
       "s1q2_x                 16\n",
       "spend_tuitionfees      16\n",
       "spend_textbooks        16\n",
       "spend_exercisebooks    16\n",
       "                       ..\n",
       "pgi                    16\n",
       "spg                    16\n",
       "weight_y.1             16\n",
       "popweight              16\n",
       "Dataset2               16\n",
       "Length: 144, dtype: int64"
      ]
     },
     "execution_count": 38,
     "metadata": {},
     "output_type": "execute_result"
    }
   ],
   "source": [
    "MergedDatasetsRenamed[MergedDatasetsRenamed['spend_educfeedingprogram'] > 53368].count()\n",
    "#drop 16 obs"
   ]
  },
  {
   "cell_type": "code",
   "execution_count": 39,
   "metadata": {},
   "outputs": [
    {
     "data": {
      "text/plain": [
       "mean      909.551790\n",
       "std      1742.728709\n",
       "count    1004.000000\n",
       "min        10.000000\n",
       "max      7000.000000\n",
       "Name: spend_othereduccharges, dtype: float64"
      ]
     },
     "execution_count": 39,
     "metadata": {},
     "output_type": "execute_result"
    }
   ],
   "source": [
    "x = MergedDatasetsRenamed[MergedDatasetsRenamed['spend_othereduccharges']!=0]\n",
    "x['spend_othereduccharges'].describe().T[['mean', 'std', 'count', 'min', 'max']]"
   ]
  },
  {
   "cell_type": "code",
   "execution_count": 40,
   "metadata": {},
   "outputs": [
    {
     "data": {
      "text/plain": [
       "hhid                   42\n",
       "s1q2_x                 42\n",
       "spend_tuitionfees      42\n",
       "spend_textbooks        42\n",
       "spend_exercisebooks    42\n",
       "                       ..\n",
       "pgi                    42\n",
       "spg                    42\n",
       "weight_y.1             42\n",
       "popweight              42\n",
       "Dataset2               42\n",
       "Length: 144, dtype: int64"
      ]
     },
     "execution_count": 40,
     "metadata": {},
     "output_type": "execute_result"
    }
   ],
   "source": [
    "MergedDatasetsRenamed[MergedDatasetsRenamed['spend_othereduccharges'] > 6135].count()\n",
    "#drop 42 observations"
   ]
  },
  {
   "cell_type": "code",
   "execution_count": 43,
   "metadata": {},
   "outputs": [
    {
     "data": {
      "text/plain": [
       "18080"
      ]
     },
     "execution_count": 43,
     "metadata": {},
     "output_type": "execute_result"
    }
   ],
   "source": [
    "MergedDatasetsRenamed['spend_othereduccharges'].count()\n",
    "#821 obs to change to NA in education dataset, still less than 1%"
   ]
  },
  {
   "cell_type": "code",
   "execution_count": 44,
   "metadata": {},
   "outputs": [
    {
     "data": {
      "text/plain": [
       "mean      277.977232\n",
       "std       212.250549\n",
       "count    7203.000000\n",
       "min        20.000000\n",
       "max      1600.000000\n",
       "Name: totalcost_purchasedfirewood, dtype: float64"
      ]
     },
     "execution_count": 44,
     "metadata": {},
     "output_type": "execute_result"
    }
   ],
   "source": [
    "x = MergedDatasetsRenamed[MergedDatasetsRenamed['totalcost_purchasedfirewood']!=0]\n",
    "x['totalcost_purchasedfirewood'].describe().T[['mean', 'std', 'count', 'min', 'max']]"
   ]
  },
  {
   "cell_type": "code",
   "execution_count": 45,
   "metadata": {},
   "outputs": [
    {
     "data": {
      "text/plain": [
       "hhid                   182\n",
       "s1q2_x                 182\n",
       "spend_tuitionfees      182\n",
       "spend_textbooks        182\n",
       "spend_exercisebooks    182\n",
       "                      ... \n",
       "pgi                    182\n",
       "spg                    182\n",
       "weight_y.1             182\n",
       "popweight              182\n",
       "Dataset2               182\n",
       "Length: 144, dtype: int64"
      ]
     },
     "execution_count": 45,
     "metadata": {},
     "output_type": "execute_result"
    }
   ],
   "source": [
    "MergedDatasetsRenamed[MergedDatasetsRenamed['totalcost_purchasedfirewood'] > 913].count()\n",
    "#drop 182 observations"
   ]
  },
  {
   "cell_type": "code",
   "execution_count": 46,
   "metadata": {},
   "outputs": [
    {
     "data": {
      "text/plain": [
       "mean      277.597278\n",
       "std       362.500800\n",
       "count    4996.000000\n",
       "min         1.000000\n",
       "max      4000.000000\n",
       "Name: totalcost_collectedfirewood, dtype: float64"
      ]
     },
     "execution_count": 46,
     "metadata": {},
     "output_type": "execute_result"
    }
   ],
   "source": [
    "x = MergedDatasetsRenamed[MergedDatasetsRenamed['totalcost_collectedfirewood']!=0]\n",
    "x['totalcost_collectedfirewood'].describe().T[['mean', 'std', 'count', 'min', 'max']]"
   ]
  },
  {
   "cell_type": "code",
   "execution_count": 48,
   "metadata": {},
   "outputs": [
    {
     "data": {
      "text/plain": [
       "hhid                   109\n",
       "s1q2_x                 109\n",
       "spend_tuitionfees      109\n",
       "spend_textbooks        109\n",
       "spend_exercisebooks    109\n",
       "                      ... \n",
       "pgi                    109\n",
       "spg                    109\n",
       "weight_y.1             109\n",
       "popweight              109\n",
       "Dataset2               109\n",
       "Length: 144, dtype: int64"
      ]
     },
     "execution_count": 48,
     "metadata": {},
     "output_type": "execute_result"
    }
   ],
   "source": [
    "MergedDatasetsRenamed[MergedDatasetsRenamed['totalcost_collectedfirewood'] > 1363].count()\n",
    "#drop 109 observations"
   ]
  },
  {
   "cell_type": "code",
   "execution_count": 49,
   "metadata": {},
   "outputs": [
    {
     "data": {
      "text/plain": [
       "mean     305.333333\n",
       "std      208.367745\n",
       "count     75.000000\n",
       "min       50.000000\n",
       "max      600.000000\n",
       "Name: totalcost_farmresidue, dtype: float64"
      ]
     },
     "execution_count": 49,
     "metadata": {},
     "output_type": "execute_result"
    }
   ],
   "source": [
    "x = MergedDatasetsRenamed[MergedDatasetsRenamed['totalcost_farmresidue']!=0]\n",
    "x['totalcost_farmresidue'].describe().T[['mean', 'std', 'count', 'min', 'max']]\n",
    "\n",
    "#no outliers"
   ]
  },
  {
   "cell_type": "code",
   "execution_count": 50,
   "metadata": {},
   "outputs": [
    {
     "data": {
      "text/plain": [
       "mean     187.222222\n",
       "std      131.026045\n",
       "count    144.000000\n",
       "min        1.000000\n",
       "max      400.000000\n",
       "Name: totalcost_wood/processwaste, dtype: float64"
      ]
     },
     "execution_count": 50,
     "metadata": {},
     "output_type": "execute_result"
    }
   ],
   "source": [
    "x = MergedDatasetsRenamed[MergedDatasetsRenamed['totalcost_wood/processwaste']!=0]\n",
    "x['totalcost_wood/processwaste'].describe().T[['mean', 'std', 'count', 'min', 'max']]\n",
    "\n",
    "#no outliers"
   ]
  },
  {
   "cell_type": "code",
   "execution_count": 51,
   "metadata": {},
   "outputs": [
    {
     "data": {
      "text/plain": [
       "mean       372.195996\n",
       "std        254.292202\n",
       "count    10990.000000\n",
       "min         20.000000\n",
       "max       2400.000000\n",
       "Name: totalcost_charcoal, dtype: float64"
      ]
     },
     "execution_count": 51,
     "metadata": {},
     "output_type": "execute_result"
    }
   ],
   "source": [
    "x = MergedDatasetsRenamed[MergedDatasetsRenamed['totalcost_charcoal']!=0]\n",
    "x['totalcost_charcoal'].describe().T[['mean', 'std', 'count', 'min', 'max']]"
   ]
  },
  {
   "cell_type": "code",
   "execution_count": 52,
   "metadata": {},
   "outputs": [
    {
     "data": {
      "text/plain": [
       "hhid                   139\n",
       "s1q2_x                 139\n",
       "spend_tuitionfees      139\n",
       "spend_textbooks        139\n",
       "spend_exercisebooks    139\n",
       "                      ... \n",
       "pgi                    139\n",
       "spg                    139\n",
       "weight_y.1             139\n",
       "popweight              139\n",
       "Dataset2               139\n",
       "Length: 144, dtype: int64"
      ]
     },
     "execution_count": 52,
     "metadata": {},
     "output_type": "execute_result"
    }
   ],
   "source": [
    "MergedDatasetsRenamed[MergedDatasetsRenamed['totalcost_charcoal'] > 1134].count()\n",
    "#drop 139 observations"
   ]
  },
  {
   "cell_type": "code",
   "execution_count": 53,
   "metadata": {},
   "outputs": [
    {
     "data": {
      "text/plain": [
       "mean      666.936937\n",
       "std       562.106093\n",
       "count     111.000000\n",
       "min       150.000000\n",
       "max      1600.000000\n",
       "Name: totalcost_kerosene/paraffin, dtype: float64"
      ]
     },
     "execution_count": 53,
     "metadata": {},
     "output_type": "execute_result"
    }
   ],
   "source": [
    "x = MergedDatasetsRenamed[MergedDatasetsRenamed['totalcost_kerosene/paraffin']!=0]\n",
    "x['totalcost_kerosene/paraffin'].describe().T[['mean', 'std', 'count', 'min', 'max']]\n",
    "\n",
    "#no outliers"
   ]
  },
  {
   "cell_type": "code",
   "execution_count": 57,
   "metadata": {},
   "outputs": [
    {
     "data": {
      "text/plain": [
       "mean     100.0\n",
       "std        0.0\n",
       "count     18.0\n",
       "min      100.0\n",
       "max      100.0\n",
       "Name: totalcost_diesel, dtype: float64"
      ]
     },
     "execution_count": 57,
     "metadata": {},
     "output_type": "execute_result"
    }
   ],
   "source": [
    "x = MergedDatasetsRenamed[MergedDatasetsRenamed['totalcost_diesel']!=0]\n",
    "x['totalcost_diesel'].describe().T[['mean', 'std', 'count', 'min', 'max']]\n",
    "#no outliers"
   ]
  },
  {
   "cell_type": "code",
   "execution_count": null,
   "metadata": {},
   "outputs": [],
   "source": [
    "#430 outliers for Energy dataset"
   ]
  }
 ],
 "metadata": {
  "kernelspec": {
   "display_name": "Python 3",
   "language": "python",
   "name": "python3"
  },
  "language_info": {
   "codemirror_mode": {
    "name": "ipython",
    "version": 3
   },
   "file_extension": ".py",
   "mimetype": "text/x-python",
   "name": "python",
   "nbconvert_exporter": "python",
   "pygments_lexer": "ipython3",
   "version": "3.7.6"
  }
 },
 "nbformat": 4,
 "nbformat_minor": 4
}
