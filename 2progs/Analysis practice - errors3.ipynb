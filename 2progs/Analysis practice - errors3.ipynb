{
 "cells": [
  {
   "cell_type": "code",
   "execution_count": 16,
   "metadata": {},
   "outputs": [],
   "source": [
    "%matplotlib inline\n",
    "\n",
    "import pandas as pd\n",
    "import numpy as np\n",
    "import matplotlib.pyplot as plt\n",
    "\n",
    "from sklearn.preprocessing import scale \n",
    "from sklearn.model_selection import train_test_split\n",
    "from sklearn.linear_model import Ridge, RidgeCV, Lasso, LassoCV\n",
    "from sklearn.metrics import mean_squared_error\n",
    "from sklearn.linear_model import ElasticNet\n",
    "from sklearn.model_selection import GridSearchCV\n",
    "from sklearn.metrics import confusion_matrix"
   ]
  },
  {
   "cell_type": "code",
   "execution_count": 17,
   "metadata": {},
   "outputs": [],
   "source": [
    "FinalMerge = pd.read_excel('../2progs/FinalMerge.xlsx',sheet_name='Sheet1',index_col = 0)"
   ]
  },
  {
   "cell_type": "code",
   "execution_count": 18,
   "metadata": {},
   "outputs": [],
   "source": [
    "#converting to floats\n",
    "FinalMerge['number_dwellings'] = FinalMerge['number_dwellings'].astype(float)\n",
    "FinalMerge['number_habitablerooms'] = FinalMerge['number_habitablerooms'].astype(float)\n",
    "FinalMerge['share_toilet_Yes'] = FinalMerge['share_toilet_Yes'].astype(float)\n",
    "FinalMerge['own_radio_Yes'] = FinalMerge['own_radio_Yes'].astype(float)\n",
    "FinalMerge['own_television_Yes'] = FinalMerge['own_television_Yes'].astype(float)\n",
    "FinalMerge['own_satelitedish_Yes'] = FinalMerge['own_satelitedish_Yes'].astype(float)\n",
    "FinalMerge['own_smartphone_Yes'] = FinalMerge['own_smartphone_Yes'].astype(float)\n",
    "FinalMerge['own_refrigerator_Yes'] = FinalMerge['own_refrigerator_Yes'].astype(float)\n",
    "FinalMerge['own_table_Yes'] = FinalMerge['own_table_Yes'].astype(float)\n",
    "FinalMerge['own_bed_Yes'] = FinalMerge['own_bed_Yes'].astype(float)\n",
    "FinalMerge['own_mattress_Yes'] = FinalMerge['own_mattress_Yes'].astype(float)\n",
    "FinalMerge['own_mosquitonet_Yes'] = FinalMerge['own_mosquitonet_Yes'].astype(float)\n",
    "FinalMerge['own_mattress_Yes'] = FinalMerge['own_mattress_Yes'].astype(float)\n",
    "FinalMerge['own_fan_Yes'] = FinalMerge['own_fan_Yes'].astype(float)\n",
    "FinalMerge['own_bicycle_Yes'] = FinalMerge['own_bicycle_Yes'].astype(float)\n",
    "FinalMerge['own_motorcycle_Yes'] = FinalMerge['own_motorcycle_Yes'].astype(float)\n",
    "FinalMerge['own_generator_Yes'] = FinalMerge['own_generator_Yes'].astype(float)\n",
    "FinalMerge['own_solarpanels_Yes'] = FinalMerge['own_solarpanels_Yes'].astype(float)\n",
    "FinalMerge['own_kerosenestove_Yes'] = FinalMerge['own_kerosenestove_Yes'].astype(float)\n",
    "FinalMerge['own_charcoaljiko_Yes'] = FinalMerge['own_charcoaljiko_Yes'].astype(float)\n",
    "FinalMerge['own_wheelbarrow_Yes'] = FinalMerge['own_wheelbarrow_Yes'].astype(float)\n",
    "FinalMerge['own_ironfencing_Yes'] = FinalMerge['own_ironfencing_Yes'].astype(float)\n",
    "FinalMerge['own_farmanimals_Yes'] = FinalMerge['own_farmanimals_Yes'].astype(float)\n",
    "FinalMerge['hh_purchasedfood7d_Yes'] = FinalMerge['own_farmanimals_Yes'].astype(float)\n",
    "FinalMerge['foodwasfree_Yes'] = FinalMerge['own_farmanimals_Yes'].astype(float)\n",
    "\n",
    "#for own_car variable, all of them were a no, so they were dropped\n",
    "\n",
    "#Rest of float variables for the unrestricted dataset \n",
    "FinalMerge['headFemale'] = FinalMerge['headFemale'].astype(float)\n",
    "FinalMerge['size'] = FinalMerge['size'].astype(float)\n",
    "FinalMerge['shareWithEarlyChildhood'] = FinalMerge['shareWithEarlyChildhood'].astype(float)\n",
    "FinalMerge['issue'] = FinalMerge['issue'].astype(float)\n",
    "FinalMerge['foodspent_localcurrecny'] = FinalMerge['foodspent_localcurrecny'].astype(float)\n",
    "FinalMerge['familysize1'] = FinalMerge['familysize1'].astype(float)\n",
    "FinalMerge['familysize2'] = FinalMerge['familysize2'].astype(float)\n",
    "FinalMerge['familysize3'] = FinalMerge['familysize3'].astype(float)\n",
    "FinalMerge['familysize4'] = FinalMerge['familysize4'].astype(float)\n",
    "FinalMerge['familysize5'] = FinalMerge['familysize5'].astype(float)\n",
    "FinalMerge['floor_material'] = FinalMerge['floor_material'].astype(float)\n",
    "FinalMerge['roof_material'] = FinalMerge['roof_material'].astype(float)\n",
    "FinalMerge['toilet_type'] = FinalMerge['toilet_type'].astype(float)\n",
    "FinalMerge['lighting_source'] = FinalMerge['lighting_source'].astype(float)\n",
    "FinalMerge['rentpaid_shillings'] = FinalMerge['rentpaid_shillings'].astype(float)\n",
    "FinalMerge['relatives_abroad_Yes'] = FinalMerge['relatives_abroad_Yes'].astype(float)\n",
    "FinalMerge['borrowedfrom_sources12mo_Yes'] = FinalMerge['borrowedfrom_sources12mo_Yes'].astype(float)\n",
    "FinalMerge['borrowedfrom_bank12mo_Yes'] = FinalMerge['borrowedfrom_bank12mo_Yes'].astype(float)\n",
    "FinalMerge['borrowedfrom_community_Yes'] = FinalMerge['borrowedfrom_community_Yes'].astype(float)\n",
    "FinalMerge['borrowedfrom_familyorfriends12mo_Yes'] = FinalMerge['borrowedfrom_familyorfriends12mo_Yes'].astype(float)\n",
    "FinalMerge['remittances_abroad_Yes'] = FinalMerge['remittances_abroad_Yes'].astype(float)\n",
    "FinalMerge['purchased_insurance_Yes'] = FinalMerge['purchased_insurance_Yes'].astype(float)\n",
    "FinalMerge['sellhhgoods_lackfood_Yes'] = FinalMerge['sellhhgoods_lackfood_Yes'].astype(float)\n",
    "FinalMerge['withdrawchildrenschool_lackfood_Yes'] = FinalMerge['withdrawchildrenschool_lackfood_Yes'].astype(float)\n",
    "FinalMerge['sellanimals:lackfood_Yes'] = FinalMerge['sellanimals:lackfood_Yes'].astype(float)\n",
    "FinalMerge['beg_lackfood_Yes'] = FinalMerge['beg_lackfood_Yes'].astype(float)\n",
    "FinalMerge['drikingwater_source'] = FinalMerge['drikingwater_source'].astype(float)\n",
    "FinalMerge['crowdindex_room'] = FinalMerge['crowdindex_room'].astype(float)\n",
    "FinalMerge['LCS_index'] = FinalMerge['LCS_index'].astype(float)\n",
    "FinalMerge['poorIPL'] = FinalMerge['poorIPL'].astype(float)\n",
    "#FinalMerge['childunder5_death5yrs'] = FinalMerge['childunder5_death5yrs'].astype(float)"
   ]
  },
  {
   "cell_type": "code",
   "execution_count": 19,
   "metadata": {},
   "outputs": [],
   "source": [
    "restricted_set = FinalMerge[['number_dwellings', 'number_habitablerooms', 'own_radio_Yes', \n",
    "                                       'own_television_Yes', 'own_satelitedish_Yes', 'own_smartphone_Yes', 'own_refrigerator_Yes',\n",
    "                                      'own_table_Yes', 'own_bed_Yes', 'own_mattress_Yes', 'own_mosquitonet_Yes', 'own_fan_Yes', 'own_bicycle_Yes',\n",
    "                                      'own_motorcycle_Yes', 'own_generator_Yes', 'own_solarpanels_Yes', 'own_kerosenestove_Yes',\n",
    "                                      'own_charcoaljiko_Yes', 'own_wheelbarrow_Yes', 'own_ironfencing_Yes', 'own_farmanimals_Yes', \n",
    "                            'headFemale', 'shareFemale','shareAgeZeroToFour','shareAgeFiveToNine', 'shareAgeTenToFourteen', \n",
    "    'shareAgeFifteenToTwentyfour', 'shareAgeTwentyfivetofourtynine', 'shareAgeFiftyPlus','shareMaleAgeTenToNineteen',\n",
    "    'shareFemaleAgeTenToNineteen', 'shareMaleAgeTwentytoFourtynine', 'shareFemaleAgeTwentytoFourtynine',\n",
    "    'shareWithNoEducation', 'shareWithEarlyChildhood', 'shareWithPrimary', 'shareWithSecondary', 'shareWithVocational',\n",
    "    'shareWithUniversity', 'shareWithOther',  'lighting_source', \n",
    "                            'floor_material', 'roof_material', 'wall_material', 'toilet_type', 'share_toilet_Yes', \n",
    "                             'foodwasfree_Yes','hh_purchasedfood7d_Yes']].fillna(0)\n"
   ]
  },
  {
   "cell_type": "code",
   "execution_count": 20,
   "metadata": {},
   "outputs": [],
   "source": [
    "ln_expenditure_per_capita = np.log(FinalMerge['Total_Spend']/FinalMerge['size'])\n",
    "y = ln_expenditure_per_capita\n",
    "X = restricted_set\n",
    "alphas = 10**np.linspace(10,-2,100)*0.5"
   ]
  },
  {
   "cell_type": "code",
   "execution_count": 21,
   "metadata": {},
   "outputs": [],
   "source": [
    "ridge = Ridge(normalize = True)\n",
    "coefs = []\n",
    "\n",
    "for a in alphas:\n",
    "    ridge.set_params(alpha = a)\n",
    "    ridge.fit(X, y)\n",
    "    coefs.append(ridge.coef_)"
   ]
  },
  {
   "cell_type": "code",
   "execution_count": 22,
   "metadata": {},
   "outputs": [],
   "source": [
    "# Split data into training and test sets\n",
    "X_train, X_test , y_train, y_test = train_test_split(X, y, test_size=0.25, random_state=1)\n",
    "\n",
    "ridgecv = RidgeCV(alphas = alphas, scoring = 'neg_mean_squared_error', normalize = True)\n",
    "ridgecv.fit(X_train, y_train)\n",
    "\n",
    "ridge4 = Ridge(alpha = ridgecv.alpha_, normalize = True)\n",
    "\n",
    "# why did we fit ridge4 twice?\n",
    "ridge4.fit(X_train, y_train)\n",
    "\n",
    "Y_test_ridge = ridge4.predict(X_test)\n",
    "Y_test_ridge = pd.Series(Y_test_ridge)\n",
    "Y_test_ridge = pd.DataFrame(Y_test_ridge, columns=['Y_Test_Ridge'])\n",
    "Y_test_ridge.reset_index(drop=True, inplace=True)\n",
    "\n",
    "\n",
    "y_test = pd.DataFrame(y_test, columns=['log(Total Spend/capita)'])\n",
    "y_test.reset_index(drop=True, inplace=True)\n",
    "\n",
    "data = pd.concat([y_test,Y_test_ridge],axis=1)\n",
    "\n"
   ]
  },
  {
   "cell_type": "code",
   "execution_count": 23,
   "metadata": {},
   "outputs": [
    {
     "data": {
      "text/plain": [
       "0.11764705882352941"
      ]
     },
     "execution_count": 23,
     "metadata": {},
     "output_type": "execute_result"
    }
   ],
   "source": [
    "# t= cuttoff percentage\n",
    "t=0.9\n",
    "\n",
    "\n",
    "#find the cuttoff values \n",
    "log_val = data.nsmallest(int(272*t), ['log(Total Spend/capita)']).max().iloc[0]\n",
    "ridge_val = data.nsmallest(int(272*t), ['Y_Test_Ridge']).max().iloc[1]\n",
    "\n",
    "#TODO: replace this with an if else statement...\n",
    "data.loc[data['log(Total Spend/capita)'] <= log_val, 'bottom expenditure'] = 1 \n",
    "data.loc[data['log(Total Spend/capita)'] > log_val, 'bottom expenditure'] = 0 \n",
    "\n",
    "data.loc[data['Y_Test_Ridge'] <= ridge_val, 'predicted bottom expenditure'] = 1 \n",
    "data.loc[data['Y_Test_Ridge'] > ridge_val, 'predicted bottom expenditure'] = 0\n",
    "\n",
    "matt=confusion_matrix(data['bottom expenditure'], data['predicted bottom expenditure'])\n",
    "\n",
    "error=(matt[0][1]+matt[1][0])/272\n",
    "\n",
    "error"
   ]
  },
  {
   "cell_type": "code",
   "execution_count": null,
   "metadata": {},
   "outputs": [],
   "source": []
  },
  {
   "cell_type": "code",
   "execution_count": null,
   "metadata": {},
   "outputs": [],
   "source": []
  }
 ],
 "metadata": {
  "kernelspec": {
   "display_name": "Python 3",
   "language": "python",
   "name": "python3"
  },
  "language_info": {
   "codemirror_mode": {
    "name": "ipython",
    "version": 3
   },
   "file_extension": ".py",
   "mimetype": "text/x-python",
   "name": "python",
   "nbconvert_exporter": "python",
   "pygments_lexer": "ipython3",
   "version": "3.7.6"
  }
 },
 "nbformat": 4,
 "nbformat_minor": 4
}
