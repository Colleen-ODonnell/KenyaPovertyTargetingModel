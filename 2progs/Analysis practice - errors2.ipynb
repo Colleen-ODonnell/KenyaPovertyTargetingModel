{
 "cells": [
  {
   "cell_type": "code",
   "execution_count": 248,
   "metadata": {},
   "outputs": [],
   "source": [
    "%matplotlib inline\n",
    "\n",
    "import pandas as pd\n",
    "import numpy as np\n",
    "import matplotlib.pyplot as plt\n",
    "\n",
    "from sklearn.preprocessing import scale \n",
    "from sklearn.model_selection import train_test_split\n",
    "from sklearn.linear_model import Ridge, RidgeCV, Lasso, LassoCV\n",
    "\n",
    "from sklearn.metrics import mean_squared_error\n",
    "from sklearn.linear_model import ElasticNet\n",
    "from sklearn.model_selection import GridSearchCV"
   ]
  },
  {
   "cell_type": "code",
   "execution_count": 249,
   "metadata": {},
   "outputs": [],
   "source": [
    "FinalMerge = pd.read_excel('../2progs/FinalMerge.xlsx',sheet_name='Sheet1',index_col = 0)"
   ]
  },
  {
   "cell_type": "code",
   "execution_count": 250,
   "metadata": {},
   "outputs": [],
   "source": [
    "#converting to floats\n",
    "FinalMerge['number_dwellings'] = FinalMerge['number_dwellings'].astype(float)\n",
    "FinalMerge['number_habitablerooms'] = FinalMerge['number_habitablerooms'].astype(float)\n",
    "FinalMerge['share_toilet_Yes'] = FinalMerge['share_toilet_Yes'].astype(float)\n",
    "FinalMerge['own_radio_Yes'] = FinalMerge['own_radio_Yes'].astype(float)\n",
    "FinalMerge['own_television_Yes'] = FinalMerge['own_television_Yes'].astype(float)\n",
    "FinalMerge['own_satelitedish_Yes'] = FinalMerge['own_satelitedish_Yes'].astype(float)\n",
    "FinalMerge['own_smartphone_Yes'] = FinalMerge['own_smartphone_Yes'].astype(float)\n",
    "FinalMerge['own_refrigerator_Yes'] = FinalMerge['own_refrigerator_Yes'].astype(float)\n",
    "FinalMerge['own_table_Yes'] = FinalMerge['own_table_Yes'].astype(float)\n",
    "FinalMerge['own_bed_Yes'] = FinalMerge['own_bed_Yes'].astype(float)\n",
    "FinalMerge['own_mattress_Yes'] = FinalMerge['own_mattress_Yes'].astype(float)\n",
    "FinalMerge['own_mosquitonet_Yes'] = FinalMerge['own_mosquitonet_Yes'].astype(float)\n",
    "FinalMerge['own_mattress_Yes'] = FinalMerge['own_mattress_Yes'].astype(float)\n",
    "FinalMerge['own_fan_Yes'] = FinalMerge['own_fan_Yes'].astype(float)\n",
    "FinalMerge['own_bicycle_Yes'] = FinalMerge['own_bicycle_Yes'].astype(float)\n",
    "FinalMerge['own_motorcycle_Yes'] = FinalMerge['own_motorcycle_Yes'].astype(float)\n",
    "FinalMerge['own_generator_Yes'] = FinalMerge['own_generator_Yes'].astype(float)\n",
    "FinalMerge['own_solarpanels_Yes'] = FinalMerge['own_solarpanels_Yes'].astype(float)\n",
    "FinalMerge['own_kerosenestove_Yes'] = FinalMerge['own_kerosenestove_Yes'].astype(float)\n",
    "FinalMerge['own_charcoaljiko_Yes'] = FinalMerge['own_charcoaljiko_Yes'].astype(float)\n",
    "FinalMerge['own_wheelbarrow_Yes'] = FinalMerge['own_wheelbarrow_Yes'].astype(float)\n",
    "FinalMerge['own_ironfencing_Yes'] = FinalMerge['own_ironfencing_Yes'].astype(float)\n",
    "FinalMerge['own_farmanimals_Yes'] = FinalMerge['own_farmanimals_Yes'].astype(float)\n",
    "FinalMerge['hh_purchasedfood7d_Yes'] = FinalMerge['own_farmanimals_Yes'].astype(float)\n",
    "FinalMerge['foodwasfree_Yes'] = FinalMerge['own_farmanimals_Yes'].astype(float)\n",
    "\n",
    "#for own_car variable, all of them were a no, so they were dropped\n",
    "\n",
    "#Rest of float variables for the unrestricted dataset \n",
    "FinalMerge['headFemale'] = FinalMerge['headFemale'].astype(float)\n",
    "FinalMerge['size'] = FinalMerge['size'].astype(float)\n",
    "FinalMerge['shareWithEarlyChildhood'] = FinalMerge['shareWithEarlyChildhood'].astype(float)\n",
    "FinalMerge['issue'] = FinalMerge['issue'].astype(float)\n",
    "FinalMerge['foodspent_localcurrecny'] = FinalMerge['foodspent_localcurrecny'].astype(float)\n",
    "FinalMerge['familysize1'] = FinalMerge['familysize1'].astype(float)\n",
    "FinalMerge['familysize2'] = FinalMerge['familysize2'].astype(float)\n",
    "FinalMerge['familysize3'] = FinalMerge['familysize3'].astype(float)\n",
    "FinalMerge['familysize4'] = FinalMerge['familysize4'].astype(float)\n",
    "FinalMerge['familysize5'] = FinalMerge['familysize5'].astype(float)\n",
    "FinalMerge['floor_material'] = FinalMerge['floor_material'].astype(float)\n",
    "FinalMerge['roof_material'] = FinalMerge['roof_material'].astype(float)\n",
    "FinalMerge['toilet_type'] = FinalMerge['toilet_type'].astype(float)\n",
    "FinalMerge['lighting_source'] = FinalMerge['lighting_source'].astype(float)\n",
    "FinalMerge['rentpaid_shillings'] = FinalMerge['rentpaid_shillings'].astype(float)\n",
    "FinalMerge['relatives_abroad_Yes'] = FinalMerge['relatives_abroad_Yes'].astype(float)\n",
    "FinalMerge['borrowedfrom_sources12mo_Yes'] = FinalMerge['borrowedfrom_sources12mo_Yes'].astype(float)\n",
    "FinalMerge['borrowedfrom_bank12mo_Yes'] = FinalMerge['borrowedfrom_bank12mo_Yes'].astype(float)\n",
    "FinalMerge['borrowedfrom_community_Yes'] = FinalMerge['borrowedfrom_community_Yes'].astype(float)\n",
    "FinalMerge['borrowedfrom_familyorfriends12mo_Yes'] = FinalMerge['borrowedfrom_familyorfriends12mo_Yes'].astype(float)\n",
    "FinalMerge['remittances_abroad_Yes'] = FinalMerge['remittances_abroad_Yes'].astype(float)\n",
    "FinalMerge['purchased_insurance_Yes'] = FinalMerge['purchased_insurance_Yes'].astype(float)\n",
    "FinalMerge['sellhhgoods_lackfood_Yes'] = FinalMerge['sellhhgoods_lackfood_Yes'].astype(float)\n",
    "FinalMerge['withdrawchildrenschool_lackfood_Yes'] = FinalMerge['withdrawchildrenschool_lackfood_Yes'].astype(float)\n",
    "FinalMerge['sellanimals:lackfood_Yes'] = FinalMerge['sellanimals:lackfood_Yes'].astype(float)\n",
    "FinalMerge['beg_lackfood_Yes'] = FinalMerge['beg_lackfood_Yes'].astype(float)\n",
    "FinalMerge['drikingwater_source'] = FinalMerge['drikingwater_source'].astype(float)\n",
    "FinalMerge['crowdindex_room'] = FinalMerge['crowdindex_room'].astype(float)\n",
    "FinalMerge['LCS_index'] = FinalMerge['LCS_index'].astype(float)\n",
    "FinalMerge['poorIPL'] = FinalMerge['poorIPL'].astype(float)\n",
    "#FinalMerge['childunder5_death5yrs'] = FinalMerge['childunder5_death5yrs'].astype(float)"
   ]
  },
  {
   "cell_type": "code",
   "execution_count": 251,
   "metadata": {},
   "outputs": [],
   "source": [
    "restricted_set = FinalMerge[['number_dwellings', 'number_habitablerooms', 'own_radio_Yes', \n",
    "                                       'own_television_Yes', 'own_satelitedish_Yes', 'own_smartphone_Yes', 'own_refrigerator_Yes',\n",
    "                                      'own_table_Yes', 'own_bed_Yes', 'own_mattress_Yes', 'own_mosquitonet_Yes', 'own_fan_Yes', 'own_bicycle_Yes',\n",
    "                                      'own_motorcycle_Yes', 'own_generator_Yes', 'own_solarpanels_Yes', 'own_kerosenestove_Yes',\n",
    "                                      'own_charcoaljiko_Yes', 'own_wheelbarrow_Yes', 'own_ironfencing_Yes', 'own_farmanimals_Yes', \n",
    "                            'headFemale', 'shareFemale','shareAgeZeroToFour','shareAgeFiveToNine', 'shareAgeTenToFourteen', \n",
    "    'shareAgeFifteenToTwentyfour', 'shareAgeTwentyfivetofourtynine', 'shareAgeFiftyPlus','shareMaleAgeTenToNineteen',\n",
    "    'shareFemaleAgeTenToNineteen', 'shareMaleAgeTwentytoFourtynine', 'shareFemaleAgeTwentytoFourtynine',\n",
    "    'shareWithNoEducation', 'shareWithEarlyChildhood', 'shareWithPrimary', 'shareWithSecondary', 'shareWithVocational',\n",
    "    'shareWithUniversity', 'shareWithOther',  'lighting_source', \n",
    "                            'floor_material', 'roof_material', 'wall_material', 'toilet_type', 'share_toilet_Yes', \n",
    "                             'foodwasfree_Yes','hh_purchasedfood7d_Yes']].fillna(0)"
   ]
  },
  {
   "cell_type": "code",
   "execution_count": 252,
   "metadata": {},
   "outputs": [],
   "source": [
    "ln_expenditure_per_capita = np.log(FinalMerge['Total_Spend']/FinalMerge['size'])"
   ]
  },
  {
   "cell_type": "code",
   "execution_count": 253,
   "metadata": {},
   "outputs": [],
   "source": [
    "y = ln_expenditure_per_capita\n",
    "\n",
    "X = restricted_set"
   ]
  },
  {
   "cell_type": "code",
   "execution_count": 254,
   "metadata": {},
   "outputs": [],
   "source": [
    "alphas = 10**np.linspace(10,-2,100)*0.5"
   ]
  },
  {
   "cell_type": "code",
   "execution_count": 255,
   "metadata": {},
   "outputs": [
    {
     "data": {
      "text/plain": [
       "(100, 48)"
      ]
     },
     "execution_count": 255,
     "metadata": {},
     "output_type": "execute_result"
    }
   ],
   "source": [
    "ridge = Ridge(normalize = True)\n",
    "coefs = []\n",
    "\n",
    "for a in alphas:\n",
    "    ridge.set_params(alpha = a)\n",
    "    ridge.fit(X, y)\n",
    "    coefs.append(ridge.coef_)\n",
    "    \n",
    "np.shape(coefs)"
   ]
  },
  {
   "cell_type": "code",
   "execution_count": 256,
   "metadata": {},
   "outputs": [],
   "source": [
    "# Split data into training and test sets\n",
    "X_train, X_test , y_train, y_test = train_test_split(X, y, test_size=0.25, random_state=1)"
   ]
  },
  {
   "cell_type": "code",
   "execution_count": 257,
   "metadata": {},
   "outputs": [
    {
     "data": {
      "text/plain": [
       "0.5748784976988678"
      ]
     },
     "execution_count": 257,
     "metadata": {},
     "output_type": "execute_result"
    }
   ],
   "source": [
    "\n",
    "ridgecv = RidgeCV(alphas = alphas, scoring = 'neg_mean_squared_error', normalize = True)\n",
    "ridgecv.fit(X_train, y_train)\n",
    "ridgecv.alpha_"
   ]
  },
  {
   "cell_type": "code",
   "execution_count": 258,
   "metadata": {},
   "outputs": [
    {
     "data": {
      "text/plain": [
       "0.6479434658191138"
      ]
     },
     "execution_count": 258,
     "metadata": {},
     "output_type": "execute_result"
    }
   ],
   "source": [
    "ridge4 = Ridge(alpha = ridgecv.alpha_, normalize = True)\n",
    "ridge4.fit(X_train, y_train)\n",
    "mean_squared_error(y_test, ridge4.predict(X_test))"
   ]
  },
  {
   "cell_type": "code",
   "execution_count": 259,
   "metadata": {},
   "outputs": [
    {
     "data": {
      "text/plain": [
       "number_dwellings                   -0.055619\n",
       "number_habitablerooms              -0.053202\n",
       "own_radio_Yes                       0.170266\n",
       "own_television_Yes                  0.010251\n",
       "own_satelitedish_Yes                0.443164\n",
       "own_smartphone_Yes                  0.033116\n",
       "own_refrigerator_Yes                0.159160\n",
       "own_table_Yes                       0.074546\n",
       "own_bed_Yes                         0.112672\n",
       "own_mattress_Yes                    0.042315\n",
       "own_mosquitonet_Yes                 0.012192\n",
       "own_fan_Yes                         0.090284\n",
       "own_bicycle_Yes                     0.146948\n",
       "own_motorcycle_Yes                  0.045459\n",
       "own_generator_Yes                   0.015386\n",
       "own_solarpanels_Yes                -0.037041\n",
       "own_kerosenestove_Yes               0.145400\n",
       "own_charcoaljiko_Yes                0.096964\n",
       "own_wheelbarrow_Yes                 0.123122\n",
       "own_ironfencing_Yes                -0.093742\n",
       "own_farmanimals_Yes                -0.012360\n",
       "headFemale                         -0.038270\n",
       "shareFemale                        -0.109802\n",
       "shareAgeZeroToFour                 -0.395346\n",
       "shareAgeFiveToNine                 -0.303184\n",
       "shareAgeTenToFourteen              -0.228166\n",
       "shareAgeFifteenToTwentyfour         0.299837\n",
       "shareAgeTwentyfivetofourtynine      0.156562\n",
       "shareAgeFiftyPlus                  -0.146727\n",
       "shareMaleAgeTenToNineteen           0.032735\n",
       "shareFemaleAgeTenToNineteen         0.001885\n",
       "shareMaleAgeTwentytoFourtynine      0.191553\n",
       "shareFemaleAgeTwentytoFourtynine    0.394052\n",
       "shareWithNoEducation               -0.163554\n",
       "shareWithEarlyChildhood            -0.695143\n",
       "shareWithPrimary                   -0.108864\n",
       "shareWithSecondary                  0.092732\n",
       "shareWithVocational                 0.321410\n",
       "shareWithUniversity                 0.243846\n",
       "shareWithOther                      0.097098\n",
       "lighting_source                    -0.019122\n",
       "floor_material                      0.009633\n",
       "roof_material                      -0.019501\n",
       "wall_material                      -0.048983\n",
       "toilet_type                         0.019420\n",
       "share_toilet_Yes                    0.054007\n",
       "foodwasfree_Yes                    -0.012360\n",
       "hh_purchasedfood7d_Yes             -0.012360\n",
       "dtype: float64"
      ]
     },
     "execution_count": 259,
     "metadata": {},
     "output_type": "execute_result"
    }
   ],
   "source": [
    "#ridge4.fit(X, y)\n",
    "pd.Series(ridge4.coef_, index = X.columns)"
   ]
  },
  {
   "cell_type": "code",
   "execution_count": 260,
   "metadata": {},
   "outputs": [],
   "source": [
    "Y_test_ridge = ridge4.predict(X_test)\n",
    "Y_test_ridge = pd.Series(Y_test_ridge)\n"
   ]
  },
  {
   "cell_type": "code",
   "execution_count": 261,
   "metadata": {},
   "outputs": [
    {
     "data": {
      "text/plain": [
       "0      7.506432\n",
       "1      6.751039\n",
       "2      6.728300\n",
       "3      6.848494\n",
       "4      6.777451\n",
       "         ...   \n",
       "268    6.898635\n",
       "269    6.958445\n",
       "270    6.959214\n",
       "271    6.953819\n",
       "272    6.876135\n",
       "Length: 273, dtype: float64"
      ]
     },
     "execution_count": 261,
     "metadata": {},
     "output_type": "execute_result"
    }
   ],
   "source": [
    "Y_test_ridge"
   ]
  },
  {
   "cell_type": "code",
   "execution_count": 262,
   "metadata": {},
   "outputs": [
    {
     "data": {
      "text/html": [
       "<div>\n",
       "<style scoped>\n",
       "    .dataframe tbody tr th:only-of-type {\n",
       "        vertical-align: middle;\n",
       "    }\n",
       "\n",
       "    .dataframe tbody tr th {\n",
       "        vertical-align: top;\n",
       "    }\n",
       "\n",
       "    .dataframe thead th {\n",
       "        text-align: right;\n",
       "    }\n",
       "</style>\n",
       "<table border=\"1\" class=\"dataframe\">\n",
       "  <thead>\n",
       "    <tr style=\"text-align: right;\">\n",
       "      <th></th>\n",
       "      <th>Y Test Ridge</th>\n",
       "    </tr>\n",
       "  </thead>\n",
       "  <tbody>\n",
       "    <tr>\n",
       "      <th>0</th>\n",
       "      <td>7.506432</td>\n",
       "    </tr>\n",
       "    <tr>\n",
       "      <th>1</th>\n",
       "      <td>6.751039</td>\n",
       "    </tr>\n",
       "    <tr>\n",
       "      <th>2</th>\n",
       "      <td>6.728300</td>\n",
       "    </tr>\n",
       "    <tr>\n",
       "      <th>3</th>\n",
       "      <td>6.848494</td>\n",
       "    </tr>\n",
       "    <tr>\n",
       "      <th>4</th>\n",
       "      <td>6.777451</td>\n",
       "    </tr>\n",
       "  </tbody>\n",
       "</table>\n",
       "</div>"
      ],
      "text/plain": [
       "   Y Test Ridge\n",
       "0      7.506432\n",
       "1      6.751039\n",
       "2      6.728300\n",
       "3      6.848494\n",
       "4      6.777451"
      ]
     },
     "execution_count": 262,
     "metadata": {},
     "output_type": "execute_result"
    }
   ],
   "source": [
    "Y_test_ridge = pd.DataFrame(Y_test_ridge, columns=['Y Test Ridge'])\n",
    "Y_test_ridge\n",
    "Y_test_ridge.reset_index(drop=True, inplace=True)\n",
    "Y_test_ridge.head()\n",
    "\n",
    "#scatter plot matching y test and y test ridge"
   ]
  },
  {
   "cell_type": "code",
   "execution_count": 263,
   "metadata": {},
   "outputs": [
    {
     "data": {
      "text/html": [
       "<div>\n",
       "<style scoped>\n",
       "    .dataframe tbody tr th:only-of-type {\n",
       "        vertical-align: middle;\n",
       "    }\n",
       "\n",
       "    .dataframe tbody tr th {\n",
       "        vertical-align: top;\n",
       "    }\n",
       "\n",
       "    .dataframe thead th {\n",
       "        text-align: right;\n",
       "    }\n",
       "</style>\n",
       "<table border=\"1\" class=\"dataframe\">\n",
       "  <thead>\n",
       "    <tr style=\"text-align: right;\">\n",
       "      <th></th>\n",
       "      <th>log(Total Spend/capita)</th>\n",
       "    </tr>\n",
       "  </thead>\n",
       "  <tbody>\n",
       "    <tr>\n",
       "      <th>0</th>\n",
       "      <td>9.011916</td>\n",
       "    </tr>\n",
       "    <tr>\n",
       "      <th>1</th>\n",
       "      <td>6.485500</td>\n",
       "    </tr>\n",
       "    <tr>\n",
       "      <th>2</th>\n",
       "      <td>7.130928</td>\n",
       "    </tr>\n",
       "    <tr>\n",
       "      <th>3</th>\n",
       "      <td>7.928423</td>\n",
       "    </tr>\n",
       "    <tr>\n",
       "      <th>4</th>\n",
       "      <td>7.178477</td>\n",
       "    </tr>\n",
       "  </tbody>\n",
       "</table>\n",
       "</div>"
      ],
      "text/plain": [
       "   log(Total Spend/capita)\n",
       "0                 9.011916\n",
       "1                 6.485500\n",
       "2                 7.130928\n",
       "3                 7.928423\n",
       "4                 7.178477"
      ]
     },
     "execution_count": 263,
     "metadata": {},
     "output_type": "execute_result"
    }
   ],
   "source": [
    "y_test = pd.DataFrame(y_test, columns=['log(Total Spend/capita)'])\n",
    "y_test.reset_index()\n",
    "y_test.reset_index(drop=True, inplace=True)\n",
    "y_test.head()"
   ]
  },
  {
   "cell_type": "code",
   "execution_count": 334,
   "metadata": {},
   "outputs": [
    {
     "data": {
      "text/plain": [
       "0.34558823529411764"
      ]
     },
     "execution_count": 334,
     "metadata": {},
     "output_type": "execute_result"
    }
   ],
   "source": [
    "data = pd.concat([y_test,Y_test_ridge],axis=1)\n",
    "\n",
    "#rank column-----sort behind scenes and gives order\n",
    "#divide ranks by the number of rows in the test dataset-----percentiles\n",
    "#subset 25 percentile rank people true spending rank----how many people ranked outside of 25 on the prediction\n",
    "data['true percentile'] = data['log(Total Spend/capita)'].rank(ascending = True)/data['log(Total Spend/capita)'].rank(ascending = True).max()\n",
    "data['predicted percentile'] = data['Y Test Ridge'].rank(ascending = True)/data['Y Test Ridge'].rank(ascending = True).max()\n",
    "data['exclusion error'] = np.nan\n",
    "data.loc[data['true percentile'] <= 0.5, data['exclusion error']] = 0\n",
    "data.loc[((data['true percentile'] <= 0.5) & (data['predicted percentile'] > 0.5)), data['exclusion error']] = 1\n",
    "data[np.nan].mean()   \n",
    "#exclusion error\n",
    "#for inclusion error, switch predicted and true----but confirm\n",
    "#definitions for inclusion and exclusion errors!\n",
    "#switch prediction and actual for inclusion, subset 25 ranked people on prediction, see what share were above 25 percentile in true"
   ]
  },
  {
   "cell_type": "code",
   "execution_count": 336,
   "metadata": {},
   "outputs": [
    {
     "data": {
      "text/plain": [
       "0.5136612021857924"
      ]
     },
     "execution_count": 336,
     "metadata": {},
     "output_type": "execute_result"
    }
   ],
   "source": [
    "#inclusion error\n",
    "data['true percentile'] = data['log(Total Spend/capita)'].rank(ascending = True)/data['log(Total Spend/capita)'].rank(ascending = True).max()\n",
    "data['predicted percentile'] = data['Y Test Ridge'].rank(ascending = True)/data['Y Test Ridge'].rank(ascending = True).max()\n",
    "data['inclusion error'] = np.nan\n",
    "data.loc[data['predicted percentile'] <= 0.5, data['inclusion error']] = 0\n",
    "data.loc[((data['predicted percentile'] <= 0.5) & (data['true percentile'] > 0.5)), data['inclusion error']] = 1\n",
    "data[np.nan].mean() "
   ]
  },
  {
   "cell_type": "code",
   "execution_count": 265,
   "metadata": {},
   "outputs": [
    {
     "data": {
      "text/plain": [
       "0.5136612021857924"
      ]
     },
     "execution_count": 265,
     "metadata": {},
     "output_type": "execute_result"
    }
   ],
   "source": [
    "#check?\n",
    "data['true percentile'] = data['log(Total Spend/capita)'].rank(ascending = True)/data['log(Total Spend/capita)'].rank(ascending = True).max()\n",
    "data['predicted percentile'] = data['Y Test Ridge'].rank(ascending = True)/data['Y Test Ridge'].rank(ascending = True).max()\n",
    "data['inclusion error'] = np.nan\n",
    "#data.loc[data['predicted percentile'] <= 0.5, data['inclusion error']] = 0\n",
    "data.loc[((data['predicted percentile'] <= 0.5) & (data['true percentile'] > 0.5)), data['inclusion error']] = 1\n",
    "data[np.nan].mean()   "
   ]
  },
  {
   "cell_type": "code",
   "execution_count": 266,
   "metadata": {},
   "outputs": [],
   "source": [
    "#Lasso Model - restricted set\n",
    "alphas = 10**np.linspace(10,-2,100)*0.5"
   ]
  },
  {
   "cell_type": "code",
   "execution_count": 267,
   "metadata": {},
   "outputs": [],
   "source": [
    "X_train, X_test , y_train, y_test = train_test_split(X, y, test_size=0.25, random_state=1)"
   ]
  },
  {
   "cell_type": "code",
   "execution_count": 268,
   "metadata": {},
   "outputs": [
    {
     "data": {
      "text/plain": [
       "Text(0, 0.5, 'weights')"
      ]
     },
     "execution_count": 268,
     "metadata": {},
     "output_type": "execute_result"
    },
    {
     "data": {
      "image/png": "[encoded data removed]",
      "text/plain": [
       "<Figure size 432x288 with 1 Axes>"
      ]
     },
     "metadata": {
      "needs_background": "light"
     },
     "output_type": "display_data"
    }
   ],
   "source": [
    "lasso = Lasso(max_iter = 10000, normalize = True)\n",
    "coefs = []\n",
    "\n",
    "for a in alphas:\n",
    "    lasso.set_params(alpha=a)\n",
    "    lasso.fit(scale(X_train), y_train)\n",
    "    coefs.append(lasso.coef_)\n",
    "    \n",
    "ax = plt.gca()\n",
    "ax.plot(alphas*2, coefs)\n",
    "ax.set_xscale('log')\n",
    "plt.axis('tight')\n",
    "plt.xlabel('alpha')\n",
    "plt.ylabel('weights')"
   ]
  },
  {
   "cell_type": "code",
   "execution_count": 269,
   "metadata": {},
   "outputs": [
    {
     "data": {
      "text/plain": [
       "0.677325657679509"
      ]
     },
     "execution_count": 269,
     "metadata": {},
     "output_type": "execute_result"
    }
   ],
   "source": [
    "lassocv = LassoCV(alphas = None, cv = 10, max_iter = 100000, normalize = True)\n",
    "lassocv.fit(X_train, y_train)\n",
    "\n",
    "lasso.set_params(alpha=lassocv.alpha_)\n",
    "lasso.fit(X_train, y_train)\n",
    "mean_squared_error(y_test, lasso.predict(X_test))"
   ]
  },
  {
   "cell_type": "code",
   "execution_count": 270,
   "metadata": {},
   "outputs": [
    {
     "data": {
      "text/plain": [
       "number_dwellings                   -0.016252\n",
       "number_habitablerooms              -0.047398\n",
       "own_radio_Yes                       0.162559\n",
       "own_television_Yes                  0.000000\n",
       "own_satelitedish_Yes                0.337009\n",
       "own_smartphone_Yes                  0.000000\n",
       "own_refrigerator_Yes                0.000000\n",
       "own_table_Yes                       0.056796\n",
       "own_bed_Yes                         0.052352\n",
       "own_mattress_Yes                    0.024395\n",
       "own_mosquitonet_Yes                 0.000000\n",
       "own_fan_Yes                         0.000000\n",
       "own_bicycle_Yes                     0.077095\n",
       "own_motorcycle_Yes                  0.000000\n",
       "own_generator_Yes                   0.000000\n",
       "own_solarpanels_Yes                -0.000000\n",
       "own_kerosenestove_Yes               0.077452\n",
       "own_charcoaljiko_Yes                0.095549\n",
       "own_wheelbarrow_Yes                 0.047650\n",
       "own_ironfencing_Yes                -0.000000\n",
       "own_farmanimals_Yes                -0.000000\n",
       "headFemale                         -0.000000\n",
       "shareFemale                        -0.015510\n",
       "shareAgeZeroToFour                 -0.238005\n",
       "shareAgeFiveToNine                 -0.094257\n",
       "shareAgeTenToFourteen              -0.000000\n",
       "shareAgeFifteenToTwentyfour         0.512555\n",
       "shareAgeTwentyfivetofourtynine      0.314733\n",
       "shareAgeFiftyPlus                   0.000000\n",
       "shareMaleAgeTenToNineteen           0.000000\n",
       "shareFemaleAgeTenToNineteen        -0.000000\n",
       "shareMaleAgeTwentytoFourtynine      0.343615\n",
       "shareFemaleAgeTwentytoFourtynine    0.440268\n",
       "shareWithNoEducation               -0.300994\n",
       "shareWithEarlyChildhood            -0.359745\n",
       "shareWithPrimary                   -0.195434\n",
       "shareWithSecondary                  0.000000\n",
       "shareWithVocational                 0.152680\n",
       "shareWithUniversity                 0.000000\n",
       "shareWithOther                      0.000000\n",
       "lighting_source                    -0.010593\n",
       "floor_material                      0.000000\n",
       "roof_material                      -0.000000\n",
       "wall_material                      -0.018927\n",
       "toilet_type                         0.000000\n",
       "share_toilet_Yes                    0.010057\n",
       "foodwasfree_Yes                    -0.000000\n",
       "hh_purchasedfood7d_Yes             -0.000000\n",
       "dtype: float64"
      ]
     },
     "execution_count": 270,
     "metadata": {},
     "output_type": "execute_result"
    }
   ],
   "source": [
    "# Some of the coefficients are now reduced to exactly zero.\n",
    "pd.Series(lasso.coef_, index=X.columns)\n"
   ]
  },
  {
   "cell_type": "code",
   "execution_count": 271,
   "metadata": {},
   "outputs": [],
   "source": [
    "Y_test_lasso = lasso.predict(X_test)\n",
    "Y_test_lasso = pd.Series(Y_test_lasso)"
   ]
  },
  {
   "cell_type": "code",
   "execution_count": 272,
   "metadata": {},
   "outputs": [
    {
     "data": {
      "text/html": [
       "<div>\n",
       "<style scoped>\n",
       "    .dataframe tbody tr th:only-of-type {\n",
       "        vertical-align: middle;\n",
       "    }\n",
       "\n",
       "    .dataframe tbody tr th {\n",
       "        vertical-align: top;\n",
       "    }\n",
       "\n",
       "    .dataframe thead th {\n",
       "        text-align: right;\n",
       "    }\n",
       "</style>\n",
       "<table border=\"1\" class=\"dataframe\">\n",
       "  <thead>\n",
       "    <tr style=\"text-align: right;\">\n",
       "      <th></th>\n",
       "      <th>Y Test Lasso</th>\n",
       "    </tr>\n",
       "  </thead>\n",
       "  <tbody>\n",
       "    <tr>\n",
       "      <th>0</th>\n",
       "      <td>7.635325</td>\n",
       "    </tr>\n",
       "    <tr>\n",
       "      <th>1</th>\n",
       "      <td>6.729276</td>\n",
       "    </tr>\n",
       "    <tr>\n",
       "      <th>2</th>\n",
       "      <td>6.794663</td>\n",
       "    </tr>\n",
       "    <tr>\n",
       "      <th>3</th>\n",
       "      <td>6.902330</td>\n",
       "    </tr>\n",
       "    <tr>\n",
       "      <th>4</th>\n",
       "      <td>6.754376</td>\n",
       "    </tr>\n",
       "  </tbody>\n",
       "</table>\n",
       "</div>"
      ],
      "text/plain": [
       "   Y Test Lasso\n",
       "0      7.635325\n",
       "1      6.729276\n",
       "2      6.794663\n",
       "3      6.902330\n",
       "4      6.754376"
      ]
     },
     "execution_count": 272,
     "metadata": {},
     "output_type": "execute_result"
    }
   ],
   "source": [
    "Y_test_lasso = pd.DataFrame(Y_test_lasso, columns=['Y Test Lasso'])\n",
    "Y_test_lasso\n",
    "Y_test_lasso.reset_index(drop=True, inplace=True)\n",
    "Y_test_lasso.head()"
   ]
  },
  {
   "cell_type": "code",
   "execution_count": 273,
   "metadata": {},
   "outputs": [
    {
     "data": {
      "text/html": [
       "<div>\n",
       "<style scoped>\n",
       "    .dataframe tbody tr th:only-of-type {\n",
       "        vertical-align: middle;\n",
       "    }\n",
       "\n",
       "    .dataframe tbody tr th {\n",
       "        vertical-align: top;\n",
       "    }\n",
       "\n",
       "    .dataframe thead th {\n",
       "        text-align: right;\n",
       "    }\n",
       "</style>\n",
       "<table border=\"1\" class=\"dataframe\">\n",
       "  <thead>\n",
       "    <tr style=\"text-align: right;\">\n",
       "      <th></th>\n",
       "      <th>log(Total Spend/capita)</th>\n",
       "    </tr>\n",
       "  </thead>\n",
       "  <tbody>\n",
       "    <tr>\n",
       "      <th>0</th>\n",
       "      <td>9.011916</td>\n",
       "    </tr>\n",
       "    <tr>\n",
       "      <th>1</th>\n",
       "      <td>6.485500</td>\n",
       "    </tr>\n",
       "    <tr>\n",
       "      <th>2</th>\n",
       "      <td>7.130928</td>\n",
       "    </tr>\n",
       "    <tr>\n",
       "      <th>3</th>\n",
       "      <td>7.928423</td>\n",
       "    </tr>\n",
       "    <tr>\n",
       "      <th>4</th>\n",
       "      <td>7.178477</td>\n",
       "    </tr>\n",
       "  </tbody>\n",
       "</table>\n",
       "</div>"
      ],
      "text/plain": [
       "   log(Total Spend/capita)\n",
       "0                 9.011916\n",
       "1                 6.485500\n",
       "2                 7.130928\n",
       "3                 7.928423\n",
       "4                 7.178477"
      ]
     },
     "execution_count": 273,
     "metadata": {},
     "output_type": "execute_result"
    }
   ],
   "source": [
    "y_test = pd.DataFrame(y_test, columns=['log(Total Spend/capita)'])\n",
    "y_test.reset_index()\n",
    "y_test.reset_index(drop=True, inplace=True)\n",
    "y_test.head()"
   ]
  },
  {
   "cell_type": "code",
   "execution_count": 274,
   "metadata": {},
   "outputs": [
    {
     "data": {
      "text/plain": [
       "0.36764705882352944"
      ]
     },
     "execution_count": 274,
     "metadata": {},
     "output_type": "execute_result"
    }
   ],
   "source": [
    "data_lasso = pd.concat([y_test,Y_test_lasso],axis=1)\n",
    "\n",
    "#rank column-----sort behind scenes and gives order\n",
    "#divide ranks by the number of rows in the test dataset-----percentiles\n",
    "#subset 25 percentile rank people true spending rank----how many people ranked outside of 25 on the prediction\n",
    "data_lasso['true percentile'] = data_lasso['log(Total Spend/capita)'].rank(ascending = True)/data_lasso['log(Total Spend/capita)'].rank(ascending = True).max()\n",
    "data_lasso['predicted percentile'] = data_lasso['Y Test Lasso'].rank(ascending = True)/data_lasso['Y Test Lasso'].rank(ascending = True).max()\n",
    "data_lasso['exclusion error'] = np.nan\n",
    "data_lasso.loc[data_lasso['true percentile'] <= 0.5, data_lasso['exclusion error']] = 0\n",
    "data_lasso.loc[((data_lasso['true percentile'] <= 0.5) & (data_lasso['predicted percentile'] > 0.5)), data_lasso['exclusion error']] = 1\n",
    "data_lasso[np.nan].mean() \n",
    "\n",
    "#exclusion error - lasso restricted"
   ]
  },
  {
   "cell_type": "code",
   "execution_count": 275,
   "metadata": {},
   "outputs": [],
   "source": [
    "X_train, X_test , y_train, y_test = train_test_split(X, y, test_size=0.25, random_state=1)"
   ]
  },
  {
   "cell_type": "code",
   "execution_count": 276,
   "metadata": {},
   "outputs": [
    {
     "name": "stderr",
     "output_type": "stream",
     "text": [
      "/Users/colleenodonnell/opt/anaconda3/lib/python3.7/site-packages/sklearn/linear_model/_coordinate_descent.py:531: ConvergenceWarning: Objective did not converge. You might want to increase the number of iterations. Duality gap: 0.11923043434353531, tolerance: 0.08230128528512223\n",
      "  positive)\n"
     ]
    },
    {
     "name": "stdout",
     "output_type": "stream",
     "text": [
      "Alpha:0.0001, R2:0.25, MSE:0.57, RMSE:0.75\n",
      "Alpha:0.0010, R2:0.25, MSE:0.57, RMSE:0.75\n",
      "Alpha:0.0100, R2:0.22, MSE:0.59, RMSE:0.77\n",
      "Alpha:0.1000, R2:0.06, MSE:0.71, RMSE:0.84\n",
      "Alpha:0.3000, R2:0.00, MSE:0.76, RMSE:0.87\n",
      "Alpha:0.5000, R2:0.00, MSE:0.76, RMSE:0.87\n",
      "Alpha:0.7000, R2:0.00, MSE:0.76, RMSE:0.87\n",
      "Alpha:1.0000, R2:0.00, MSE:0.76, RMSE:0.87\n"
     ]
    }
   ],
   "source": [
    "#Testing Alphas for Net Elastic Model\"\n",
    "alphas = [0.0001, 0.001, 0.01, 0.1, 0.3, 0.5, 0.7, 1]\n",
    "\n",
    "for a in alphas:\n",
    "    model = ElasticNet(alpha= a).fit(X,y)   \n",
    "    score = model.score(X, y)\n",
    "    pred_y = model.predict(X)\n",
    "    mse = mean_squared_error(y, pred_y)   \n",
    "    print(\"Alpha:{0:.4f}, R2:{1:.2f}, MSE:{2:.2f}, RMSE:{3:.2f}\"\n",
    "       .format(a, score, mse, np.sqrt(mse)))"
   ]
  },
  {
   "cell_type": "code",
   "execution_count": 277,
   "metadata": {},
   "outputs": [
    {
     "data": {
      "text/plain": [
       "{'alpha': 0.001, 'l1_ratio': 0.1}"
      ]
     },
     "execution_count": 277,
     "metadata": {},
     "output_type": "execute_result"
    }
   ],
   "source": [
    "#Testing Best Alpha \n",
    "elastic=ElasticNet(normalize=True)\n",
    "search=GridSearchCV(estimator=elastic,param_grid={'alpha':np.logspace(-5,2,8),\n",
    "        'l1_ratio':[.1,.2,.25,.4,.5,.6,.75,.8]},scoring='neg_mean_squared_error',n_jobs=1,refit=True,cv=10)\n",
    "search.fit(X,y)\n",
    "search.best_params_ "
   ]
  },
  {
   "cell_type": "code",
   "execution_count": 278,
   "metadata": {},
   "outputs": [
    {
     "name": "stdout",
     "output_type": "stream",
     "text": [
      "Mean Squared Error on test set 0.6573247271370394\n"
     ]
    },
    {
     "data": {
      "text/html": [
       "<div>\n",
       "<style scoped>\n",
       "    .dataframe tbody tr th:only-of-type {\n",
       "        vertical-align: middle;\n",
       "    }\n",
       "\n",
       "    .dataframe tbody tr th {\n",
       "        vertical-align: top;\n",
       "    }\n",
       "\n",
       "    .dataframe thead th {\n",
       "        text-align: right;\n",
       "    }\n",
       "</style>\n",
       "<table border=\"1\" class=\"dataframe\">\n",
       "  <thead>\n",
       "    <tr style=\"text-align: right;\">\n",
       "      <th></th>\n",
       "      <th>Columns</th>\n",
       "      <th>Coefficient Estimate</th>\n",
       "    </tr>\n",
       "  </thead>\n",
       "  <tbody>\n",
       "    <tr>\n",
       "      <th>0</th>\n",
       "      <td>number_dwellings</td>\n",
       "      <td>-0.035547</td>\n",
       "    </tr>\n",
       "    <tr>\n",
       "      <th>1</th>\n",
       "      <td>number_habitablerooms</td>\n",
       "      <td>-0.082086</td>\n",
       "    </tr>\n",
       "    <tr>\n",
       "      <th>2</th>\n",
       "      <td>own_radio_Yes</td>\n",
       "      <td>0.175708</td>\n",
       "    </tr>\n",
       "    <tr>\n",
       "      <th>3</th>\n",
       "      <td>own_television_Yes</td>\n",
       "      <td>0.000000</td>\n",
       "    </tr>\n",
       "    <tr>\n",
       "      <th>4</th>\n",
       "      <td>own_satelitedish_Yes</td>\n",
       "      <td>0.000000</td>\n",
       "    </tr>\n",
       "    <tr>\n",
       "      <th>5</th>\n",
       "      <td>own_smartphone_Yes</td>\n",
       "      <td>0.029221</td>\n",
       "    </tr>\n",
       "    <tr>\n",
       "      <th>6</th>\n",
       "      <td>own_refrigerator_Yes</td>\n",
       "      <td>0.000000</td>\n",
       "    </tr>\n",
       "    <tr>\n",
       "      <th>7</th>\n",
       "      <td>own_table_Yes</td>\n",
       "      <td>0.083139</td>\n",
       "    </tr>\n",
       "    <tr>\n",
       "      <th>8</th>\n",
       "      <td>own_bed_Yes</td>\n",
       "      <td>0.065464</td>\n",
       "    </tr>\n",
       "    <tr>\n",
       "      <th>9</th>\n",
       "      <td>own_mattress_Yes</td>\n",
       "      <td>0.054579</td>\n",
       "    </tr>\n",
       "    <tr>\n",
       "      <th>10</th>\n",
       "      <td>own_mosquitonet_Yes</td>\n",
       "      <td>0.000000</td>\n",
       "    </tr>\n",
       "    <tr>\n",
       "      <th>11</th>\n",
       "      <td>own_fan_Yes</td>\n",
       "      <td>0.000000</td>\n",
       "    </tr>\n",
       "    <tr>\n",
       "      <th>12</th>\n",
       "      <td>own_bicycle_Yes</td>\n",
       "      <td>0.041423</td>\n",
       "    </tr>\n",
       "    <tr>\n",
       "      <th>13</th>\n",
       "      <td>own_motorcycle_Yes</td>\n",
       "      <td>0.000000</td>\n",
       "    </tr>\n",
       "    <tr>\n",
       "      <th>14</th>\n",
       "      <td>own_generator_Yes</td>\n",
       "      <td>0.000000</td>\n",
       "    </tr>\n",
       "    <tr>\n",
       "      <th>15</th>\n",
       "      <td>own_solarpanels_Yes</td>\n",
       "      <td>-0.000000</td>\n",
       "    </tr>\n",
       "    <tr>\n",
       "      <th>16</th>\n",
       "      <td>own_kerosenestove_Yes</td>\n",
       "      <td>0.102071</td>\n",
       "    </tr>\n",
       "    <tr>\n",
       "      <th>17</th>\n",
       "      <td>own_charcoaljiko_Yes</td>\n",
       "      <td>0.136175</td>\n",
       "    </tr>\n",
       "    <tr>\n",
       "      <th>18</th>\n",
       "      <td>own_wheelbarrow_Yes</td>\n",
       "      <td>0.048432</td>\n",
       "    </tr>\n",
       "    <tr>\n",
       "      <th>19</th>\n",
       "      <td>own_ironfencing_Yes</td>\n",
       "      <td>-0.000000</td>\n",
       "    </tr>\n",
       "    <tr>\n",
       "      <th>20</th>\n",
       "      <td>own_farmanimals_Yes</td>\n",
       "      <td>-0.000000</td>\n",
       "    </tr>\n",
       "    <tr>\n",
       "      <th>21</th>\n",
       "      <td>headFemale</td>\n",
       "      <td>-0.024898</td>\n",
       "    </tr>\n",
       "    <tr>\n",
       "      <th>22</th>\n",
       "      <td>shareFemale</td>\n",
       "      <td>-0.025983</td>\n",
       "    </tr>\n",
       "    <tr>\n",
       "      <th>23</th>\n",
       "      <td>shareAgeZeroToFour</td>\n",
       "      <td>-0.183887</td>\n",
       "    </tr>\n",
       "    <tr>\n",
       "      <th>24</th>\n",
       "      <td>shareAgeFiveToNine</td>\n",
       "      <td>-0.028616</td>\n",
       "    </tr>\n",
       "    <tr>\n",
       "      <th>25</th>\n",
       "      <td>shareAgeTenToFourteen</td>\n",
       "      <td>-0.000000</td>\n",
       "    </tr>\n",
       "    <tr>\n",
       "      <th>26</th>\n",
       "      <td>shareAgeFifteenToTwentyfour</td>\n",
       "      <td>0.513829</td>\n",
       "    </tr>\n",
       "    <tr>\n",
       "      <th>27</th>\n",
       "      <td>shareAgeTwentyfivetofourtynine</td>\n",
       "      <td>0.329655</td>\n",
       "    </tr>\n",
       "    <tr>\n",
       "      <th>28</th>\n",
       "      <td>shareAgeFiftyPlus</td>\n",
       "      <td>0.000000</td>\n",
       "    </tr>\n",
       "    <tr>\n",
       "      <th>29</th>\n",
       "      <td>shareMaleAgeTenToNineteen</td>\n",
       "      <td>0.000000</td>\n",
       "    </tr>\n",
       "    <tr>\n",
       "      <th>30</th>\n",
       "      <td>shareFemaleAgeTenToNineteen</td>\n",
       "      <td>-0.000000</td>\n",
       "    </tr>\n",
       "    <tr>\n",
       "      <th>31</th>\n",
       "      <td>shareMaleAgeTwentytoFourtynine</td>\n",
       "      <td>0.286633</td>\n",
       "    </tr>\n",
       "    <tr>\n",
       "      <th>32</th>\n",
       "      <td>shareFemaleAgeTwentytoFourtynine</td>\n",
       "      <td>0.328651</td>\n",
       "    </tr>\n",
       "    <tr>\n",
       "      <th>33</th>\n",
       "      <td>shareWithNoEducation</td>\n",
       "      <td>-0.356033</td>\n",
       "    </tr>\n",
       "    <tr>\n",
       "      <th>34</th>\n",
       "      <td>shareWithEarlyChildhood</td>\n",
       "      <td>-0.000000</td>\n",
       "    </tr>\n",
       "    <tr>\n",
       "      <th>35</th>\n",
       "      <td>shareWithPrimary</td>\n",
       "      <td>-0.277383</td>\n",
       "    </tr>\n",
       "    <tr>\n",
       "      <th>36</th>\n",
       "      <td>shareWithSecondary</td>\n",
       "      <td>-0.000000</td>\n",
       "    </tr>\n",
       "    <tr>\n",
       "      <th>37</th>\n",
       "      <td>shareWithVocational</td>\n",
       "      <td>0.002210</td>\n",
       "    </tr>\n",
       "    <tr>\n",
       "      <th>38</th>\n",
       "      <td>shareWithUniversity</td>\n",
       "      <td>0.000000</td>\n",
       "    </tr>\n",
       "    <tr>\n",
       "      <th>39</th>\n",
       "      <td>shareWithOther</td>\n",
       "      <td>-0.000000</td>\n",
       "    </tr>\n",
       "    <tr>\n",
       "      <th>40</th>\n",
       "      <td>lighting_source</td>\n",
       "      <td>-0.025089</td>\n",
       "    </tr>\n",
       "    <tr>\n",
       "      <th>41</th>\n",
       "      <td>floor_material</td>\n",
       "      <td>0.018556</td>\n",
       "    </tr>\n",
       "    <tr>\n",
       "      <th>42</th>\n",
       "      <td>roof_material</td>\n",
       "      <td>-0.000000</td>\n",
       "    </tr>\n",
       "    <tr>\n",
       "      <th>43</th>\n",
       "      <td>wall_material</td>\n",
       "      <td>-0.061618</td>\n",
       "    </tr>\n",
       "    <tr>\n",
       "      <th>44</th>\n",
       "      <td>toilet_type</td>\n",
       "      <td>0.028537</td>\n",
       "    </tr>\n",
       "    <tr>\n",
       "      <th>45</th>\n",
       "      <td>share_toilet_Yes</td>\n",
       "      <td>0.061057</td>\n",
       "    </tr>\n",
       "    <tr>\n",
       "      <th>46</th>\n",
       "      <td>foodwasfree_Yes</td>\n",
       "      <td>-0.000000</td>\n",
       "    </tr>\n",
       "    <tr>\n",
       "      <th>47</th>\n",
       "      <td>hh_purchasedfood7d_Yes</td>\n",
       "      <td>-0.000000</td>\n",
       "    </tr>\n",
       "  </tbody>\n",
       "</table>\n",
       "</div>"
      ],
      "text/plain": [
       "                             Columns  Coefficient Estimate\n",
       "0                   number_dwellings             -0.035547\n",
       "1              number_habitablerooms             -0.082086\n",
       "2                      own_radio_Yes              0.175708\n",
       "3                 own_television_Yes              0.000000\n",
       "4               own_satelitedish_Yes              0.000000\n",
       "5                 own_smartphone_Yes              0.029221\n",
       "6               own_refrigerator_Yes              0.000000\n",
       "7                      own_table_Yes              0.083139\n",
       "8                        own_bed_Yes              0.065464\n",
       "9                   own_mattress_Yes              0.054579\n",
       "10               own_mosquitonet_Yes              0.000000\n",
       "11                       own_fan_Yes              0.000000\n",
       "12                   own_bicycle_Yes              0.041423\n",
       "13                own_motorcycle_Yes              0.000000\n",
       "14                 own_generator_Yes              0.000000\n",
       "15               own_solarpanels_Yes             -0.000000\n",
       "16             own_kerosenestove_Yes              0.102071\n",
       "17              own_charcoaljiko_Yes              0.136175\n",
       "18               own_wheelbarrow_Yes              0.048432\n",
       "19               own_ironfencing_Yes             -0.000000\n",
       "20               own_farmanimals_Yes             -0.000000\n",
       "21                        headFemale             -0.024898\n",
       "22                       shareFemale             -0.025983\n",
       "23                shareAgeZeroToFour             -0.183887\n",
       "24                shareAgeFiveToNine             -0.028616\n",
       "25             shareAgeTenToFourteen             -0.000000\n",
       "26       shareAgeFifteenToTwentyfour              0.513829\n",
       "27    shareAgeTwentyfivetofourtynine              0.329655\n",
       "28                 shareAgeFiftyPlus              0.000000\n",
       "29         shareMaleAgeTenToNineteen              0.000000\n",
       "30       shareFemaleAgeTenToNineteen             -0.000000\n",
       "31    shareMaleAgeTwentytoFourtynine              0.286633\n",
       "32  shareFemaleAgeTwentytoFourtynine              0.328651\n",
       "33              shareWithNoEducation             -0.356033\n",
       "34           shareWithEarlyChildhood             -0.000000\n",
       "35                  shareWithPrimary             -0.277383\n",
       "36                shareWithSecondary             -0.000000\n",
       "37               shareWithVocational              0.002210\n",
       "38               shareWithUniversity              0.000000\n",
       "39                    shareWithOther             -0.000000\n",
       "40                   lighting_source             -0.025089\n",
       "41                    floor_material              0.018556\n",
       "42                     roof_material             -0.000000\n",
       "43                     wall_material             -0.061618\n",
       "44                       toilet_type              0.028537\n",
       "45                  share_toilet_Yes              0.061057\n",
       "46                   foodwasfree_Yes             -0.000000\n",
       "47            hh_purchasedfood7d_Yes             -0.000000"
      ]
     },
     "execution_count": 278,
     "metadata": {},
     "output_type": "execute_result"
    }
   ],
   "source": [
    "# Train the model \n",
    "e_net= ElasticNet(alpha = 0.01) \n",
    "e_net.fit(X_train, y_train) \n",
    "  \n",
    "# calculate the prediction and mean square error \n",
    "y_pred_elastic = e_net.predict(X_test) \n",
    "mean_squared_error = np.mean((y_pred_elastic - y_test)**2) \n",
    "print(\"Mean Squared Error on test set\", mean_squared_error) \n",
    "  \n",
    "e_net_coeff = pd.DataFrame() \n",
    "e_net_coeff[\"Columns\"] = X_train.columns \n",
    "e_net_coeff['Coefficient Estimate'] = pd.Series(e_net.coef_) \n",
    "e_net_coeff "
   ]
  },
  {
   "cell_type": "code",
   "execution_count": 279,
   "metadata": {},
   "outputs": [
    {
     "data": {
      "image/png": "[encoded data removed]",
      "text/plain": [
       "<Figure size 1080x720 with 1 Axes>"
      ]
     },
     "metadata": {
      "needs_background": "light"
     },
     "output_type": "display_data"
    }
   ],
   "source": [
    "plt.figure(figsize= (15,10))\n",
    "plt_figure= pd.Series(e_net.coef_, index= X.columns)\n",
    "plt_figure.plot(kind='barh')\n",
    "plt.show()"
   ]
  },
  {
   "cell_type": "code",
   "execution_count": 280,
   "metadata": {},
   "outputs": [],
   "source": [
    "Y_test_elastic = pd.Series(y_pred_elastic)"
   ]
  },
  {
   "cell_type": "code",
   "execution_count": 281,
   "metadata": {},
   "outputs": [
    {
     "data": {
      "text/html": [
       "<div>\n",
       "<style scoped>\n",
       "    .dataframe tbody tr th:only-of-type {\n",
       "        vertical-align: middle;\n",
       "    }\n",
       "\n",
       "    .dataframe tbody tr th {\n",
       "        vertical-align: top;\n",
       "    }\n",
       "\n",
       "    .dataframe thead th {\n",
       "        text-align: right;\n",
       "    }\n",
       "</style>\n",
       "<table border=\"1\" class=\"dataframe\">\n",
       "  <thead>\n",
       "    <tr style=\"text-align: right;\">\n",
       "      <th></th>\n",
       "      <th>Y Test Elastic</th>\n",
       "    </tr>\n",
       "  </thead>\n",
       "  <tbody>\n",
       "    <tr>\n",
       "      <th>0</th>\n",
       "      <td>7.747257</td>\n",
       "    </tr>\n",
       "    <tr>\n",
       "      <th>1</th>\n",
       "      <td>6.704694</td>\n",
       "    </tr>\n",
       "    <tr>\n",
       "      <th>2</th>\n",
       "      <td>6.687111</td>\n",
       "    </tr>\n",
       "    <tr>\n",
       "      <th>3</th>\n",
       "      <td>6.844767</td>\n",
       "    </tr>\n",
       "    <tr>\n",
       "      <th>4</th>\n",
       "      <td>6.691913</td>\n",
       "    </tr>\n",
       "  </tbody>\n",
       "</table>\n",
       "</div>"
      ],
      "text/plain": [
       "   Y Test Elastic\n",
       "0        7.747257\n",
       "1        6.704694\n",
       "2        6.687111\n",
       "3        6.844767\n",
       "4        6.691913"
      ]
     },
     "execution_count": 281,
     "metadata": {},
     "output_type": "execute_result"
    }
   ],
   "source": [
    "Y_test_elastic = pd.DataFrame(Y_test_elastic, columns=['Y Test Elastic'])\n",
    "Y_test_elastic\n",
    "Y_test_elastic.reset_index(drop=True, inplace=True)\n",
    "Y_test_elastic.head()"
   ]
  },
  {
   "cell_type": "code",
   "execution_count": 282,
   "metadata": {},
   "outputs": [
    {
     "data": {
      "text/html": [
       "<div>\n",
       "<style scoped>\n",
       "    .dataframe tbody tr th:only-of-type {\n",
       "        vertical-align: middle;\n",
       "    }\n",
       "\n",
       "    .dataframe tbody tr th {\n",
       "        vertical-align: top;\n",
       "    }\n",
       "\n",
       "    .dataframe thead th {\n",
       "        text-align: right;\n",
       "    }\n",
       "</style>\n",
       "<table border=\"1\" class=\"dataframe\">\n",
       "  <thead>\n",
       "    <tr style=\"text-align: right;\">\n",
       "      <th></th>\n",
       "      <th>log(Total Spend/capita)</th>\n",
       "    </tr>\n",
       "  </thead>\n",
       "  <tbody>\n",
       "    <tr>\n",
       "      <th>0</th>\n",
       "      <td>9.011916</td>\n",
       "    </tr>\n",
       "    <tr>\n",
       "      <th>1</th>\n",
       "      <td>6.485500</td>\n",
       "    </tr>\n",
       "    <tr>\n",
       "      <th>2</th>\n",
       "      <td>7.130928</td>\n",
       "    </tr>\n",
       "    <tr>\n",
       "      <th>3</th>\n",
       "      <td>7.928423</td>\n",
       "    </tr>\n",
       "    <tr>\n",
       "      <th>4</th>\n",
       "      <td>7.178477</td>\n",
       "    </tr>\n",
       "  </tbody>\n",
       "</table>\n",
       "</div>"
      ],
      "text/plain": [
       "   log(Total Spend/capita)\n",
       "0                 9.011916\n",
       "1                 6.485500\n",
       "2                 7.130928\n",
       "3                 7.928423\n",
       "4                 7.178477"
      ]
     },
     "execution_count": 282,
     "metadata": {},
     "output_type": "execute_result"
    }
   ],
   "source": [
    "y_test = pd.DataFrame(y_test, columns=['log(Total Spend/capita)'])\n",
    "y_test.reset_index()\n",
    "y_test.reset_index(drop=True, inplace=True)\n",
    "y_test.head()"
   ]
  },
  {
   "cell_type": "code",
   "execution_count": 332,
   "metadata": {},
   "outputs": [
    {
     "data": {
      "text/plain": [
       "0.3382352941176471"
      ]
     },
     "execution_count": 332,
     "metadata": {},
     "output_type": "execute_result"
    }
   ],
   "source": [
    "data_elastic = pd.concat([y_test,Y_test_elastic],axis=1)\n",
    "\n",
    "#rank column-----sort behind scenes and gives order\n",
    "#divide ranks by the number of rows in the test dataset-----percentiles\n",
    "#subset 25 percentile rank people true spending rank----how many people ranked outside of 25 on the prediction\n",
    "data_elastic['true percentile'] = data_elastic['log(Total Spend/capita)'].rank(ascending = True)/data_elastic['log(Total Spend/capita)'].rank(ascending = True).max()\n",
    "data_elastic['predicted percentile'] = data_elastic['Y Test Elastic'].rank(ascending = True)/data_elastic['Y Test Elastic'].rank(ascending = True).max()\n",
    "data_elastic['exclusion error'] = np.nan\n",
    "data_elastic.loc[data_elastic['true percentile'] <= 0.5, data_elastic['exclusion error']] = 0\n",
    "data_elastic.loc[((data_elastic['true percentile'] <= 0.5) & (data_elastic['predicted percentile'] > 0.5)), data_elastic['exclusion error']] = 1\n",
    "data_elastic[np.nan].mean() \n",
    "\n",
    "#exclusion error - elastic net restricted"
   ]
  },
  {
   "cell_type": "code",
   "execution_count": 284,
   "metadata": {},
   "outputs": [],
   "source": [
    "#converting to floats\n",
    "FinalMerge['number_dwellings'] = FinalMerge['number_dwellings'].astype(float)\n",
    "FinalMerge['number_habitablerooms'] = FinalMerge['number_habitablerooms'].astype(float)\n",
    "FinalMerge['share_toilet_Yes'] = FinalMerge['share_toilet_Yes'].astype(float)\n",
    "FinalMerge['own_radio_Yes'] = FinalMerge['own_radio_Yes'].astype(float)\n",
    "FinalMerge['own_television_Yes'] = FinalMerge['own_television_Yes'].astype(float)\n",
    "FinalMerge['own_satelitedish_Yes'] = FinalMerge['own_satelitedish_Yes'].astype(float)\n",
    "FinalMerge['own_smartphone_Yes'] = FinalMerge['own_smartphone_Yes'].astype(float)\n",
    "FinalMerge['own_refrigerator_Yes'] = FinalMerge['own_refrigerator_Yes'].astype(float)\n",
    "FinalMerge['own_table_Yes'] = FinalMerge['own_table_Yes'].astype(float)\n",
    "FinalMerge['own_bed_Yes'] = FinalMerge['own_bed_Yes'].astype(float)\n",
    "FinalMerge['own_mattress_Yes'] = FinalMerge['own_mattress_Yes'].astype(float)\n",
    "FinalMerge['own_mosquitonet_Yes'] = FinalMerge['own_mosquitonet_Yes'].astype(float)\n",
    "FinalMerge['own_mattress_Yes'] = FinalMerge['own_mattress_Yes'].astype(float)\n",
    "FinalMerge['own_fan_Yes'] = FinalMerge['own_fan_Yes'].astype(float)\n",
    "FinalMerge['own_bicycle_Yes'] = FinalMerge['own_bicycle_Yes'].astype(float)\n",
    "FinalMerge['own_motorcycle_Yes'] = FinalMerge['own_motorcycle_Yes'].astype(float)\n",
    "FinalMerge['own_generator_Yes'] = FinalMerge['own_generator_Yes'].astype(float)\n",
    "FinalMerge['own_solarpanels_Yes'] = FinalMerge['own_solarpanels_Yes'].astype(float)\n",
    "FinalMerge['own_kerosenestove_Yes'] = FinalMerge['own_kerosenestove_Yes'].astype(float)\n",
    "FinalMerge['own_charcoaljiko_Yes'] = FinalMerge['own_charcoaljiko_Yes'].astype(float)\n",
    "FinalMerge['own_wheelbarrow_Yes'] = FinalMerge['own_wheelbarrow_Yes'].astype(float)\n",
    "FinalMerge['own_ironfencing_Yes'] = FinalMerge['own_ironfencing_Yes'].astype(float)\n",
    "FinalMerge['own_farmanimals_Yes'] = FinalMerge['own_farmanimals_Yes'].astype(float)\n",
    "FinalMerge['hh_purchasedfood7d_Yes'] = FinalMerge['own_farmanimals_Yes'].astype(float)\n",
    "FinalMerge['foodwasfree_Yes'] = FinalMerge['own_farmanimals_Yes'].astype(float)\n",
    "\n",
    "#for own_car variable, all of them were a no, so they were dropped\n",
    "\n",
    "#Rest of float variables for the unrestricted dataset \n",
    "FinalMerge['headFemale'] = FinalMerge['headFemale'].astype(float)\n",
    "FinalMerge['size'] = FinalMerge['size'].astype(float)\n",
    "FinalMerge['shareWithEarlyChildhood'] = FinalMerge['shareWithEarlyChildhood'].astype(float)\n",
    "FinalMerge['issue'] = FinalMerge['issue'].astype(float)\n",
    "FinalMerge['foodspent_localcurrecny'] = FinalMerge['foodspent_localcurrecny'].astype(float)\n",
    "FinalMerge['familysize1'] = FinalMerge['familysize1'].astype(float)\n",
    "FinalMerge['familysize2'] = FinalMerge['familysize2'].astype(float)\n",
    "FinalMerge['familysize3'] = FinalMerge['familysize3'].astype(float)\n",
    "FinalMerge['familysize4'] = FinalMerge['familysize4'].astype(float)\n",
    "FinalMerge['familysize5'] = FinalMerge['familysize5'].astype(float)\n",
    "FinalMerge['floor_material'] = FinalMerge['floor_material'].astype(float)\n",
    "FinalMerge['roof_material'] = FinalMerge['roof_material'].astype(float)\n",
    "FinalMerge['toilet_type'] = FinalMerge['toilet_type'].astype(float)\n",
    "FinalMerge['lighting_source'] = FinalMerge['lighting_source'].astype(float)\n",
    "FinalMerge['rentpaid_shillings'] = FinalMerge['rentpaid_shillings'].astype(float)\n",
    "FinalMerge['relatives_abroad_Yes'] = FinalMerge['relatives_abroad_Yes'].astype(float)\n",
    "FinalMerge['borrowedfrom_sources12mo_Yes'] = FinalMerge['borrowedfrom_sources12mo_Yes'].astype(float)\n",
    "FinalMerge['borrowedfrom_bank12mo_Yes'] = FinalMerge['borrowedfrom_bank12mo_Yes'].astype(float)\n",
    "FinalMerge['borrowedfrom_community_Yes'] = FinalMerge['borrowedfrom_community_Yes'].astype(float)\n",
    "FinalMerge['borrowedfrom_familyorfriends12mo_Yes'] = FinalMerge['borrowedfrom_familyorfriends12mo_Yes'].astype(float)\n",
    "FinalMerge['remittances_abroad_Yes'] = FinalMerge['remittances_abroad_Yes'].astype(float)\n",
    "FinalMerge['purchased_insurance_Yes'] = FinalMerge['purchased_insurance_Yes'].astype(float)\n",
    "FinalMerge['sellhhgoods_lackfood_Yes'] = FinalMerge['sellhhgoods_lackfood_Yes'].astype(float)\n",
    "FinalMerge['withdrawchildrenschool_lackfood_Yes'] = FinalMerge['withdrawchildrenschool_lackfood_Yes'].astype(float)\n",
    "FinalMerge['sellanimals:lackfood_Yes'] = FinalMerge['sellanimals:lackfood_Yes'].astype(float)\n",
    "FinalMerge['beg_lackfood_Yes'] = FinalMerge['beg_lackfood_Yes'].astype(float)\n",
    "FinalMerge['drikingwater_source'] = FinalMerge['drikingwater_source'].astype(float)\n",
    "FinalMerge['crowdindex_room'] = FinalMerge['crowdindex_room'].astype(float)\n",
    "FinalMerge['LCS_index'] = FinalMerge['LCS_index'].astype(float)\n",
    "FinalMerge['poorIPL'] = FinalMerge['poorIPL'].astype(float)\n",
    "FinalMerge['childunder5_death5yrs_Yes'] = FinalMerge['childunder5_death5yrs_Yes'].astype(float)\n",
    "FinalMerge['sellfemaleanimal_last_Yes'] = FinalMerge['sellfemaleanimal_last_Yes'].astype(float)\n",
    "FinalMerge['wall_material'] = FinalMerge['wall_material'].astype(float)\n",
    "FinalMerge['relatives_outsidekenya_Yes'] = FinalMerge['relatives_outsidekenya_Yes'].astype(float)\n",
    "FinalMerge['own_bankaccount_Yes'] = FinalMerge['own_bankaccount_Yes'].astype(float)\n",
    "FinalMerge['healthandeduc_reduction_Yes'] = FinalMerge['healthandeduc_reduction_Yes'].astype(float)\n",
    "FinalMerge['own_bankaccount_Yes'] = FinalMerge['own_bankaccount_Yes'].astype(float)\n",
    "FinalMerge['sellassets_lackfood_Yes'] = FinalMerge['sellassets_lackfood_Yes'].astype(float)\n",
    "FinalMerge['borrowmoneyfood_lackfood_Yes'] = FinalMerge['borrowmoneyfood_lackfood_Yes'].astype(float)\n",
    "FinalMerge['sellhouseland_lackfood_Yes'] = FinalMerge['sellhouseland_lackfood_Yes'].astype(float)\n",
    "FinalMerge['spendsavings:lackfood_Yes'] = FinalMerge['spendsavings:lackfood_Yes'].astype(float)\n",
    "FinalMerge['drinkingwater_insufficientquanities_Yes'] = FinalMerge['drinkingwater_insufficientquanities_Yes'].astype(float)\n",
    "FinalMerge['childunder5_death5yrs'] = FinalMerge['childunder5_death5yrs_Yes'].astype(float)"
   ]
  },
  {
   "cell_type": "code",
   "execution_count": 285,
   "metadata": {},
   "outputs": [],
   "source": [
    "#would be for unrestricted set\n",
    "unwanted = FinalMerge.columns[FinalMerge.columns.str.startswith('spend_')]\n",
    "FinalMerge.drop(unwanted, axis=1, inplace=True)\n",
    "\n",
    "unwanted2 = FinalMerge.columns[FinalMerge.columns.str.endswith('TotalSpend')]\n",
    "FinalMerge.drop(unwanted2, axis=1, inplace=True)\n",
    "\n",
    "unwanted3 = FinalMerge.columns[FinalMerge.columns.str.startswith('q_')]\n",
    "FinalMerge.drop(unwanted3, axis=1, inplace=True)\n",
    "\n",
    "unwanted4 = FinalMerge.columns[FinalMerge.columns.str.startswith('totalcost')]\n",
    "FinalMerge.drop(unwanted4, axis=1, inplace=True)\n",
    "\n",
    "unwanted5 = FinalMerge.columns[FinalMerge.columns.str.startswith('Dataset')]\n",
    "FinalMerge.drop(unwanted5, axis=1, inplace=True)\n",
    "\n",
    "unwanted6 = FinalMerge.columns[FinalMerge.columns.str.startswith('hhsize')]\n",
    "FinalMerge.drop(unwanted6, axis=1, inplace=True)\n",
    "\n",
    "unwanted7 = FinalMerge.columns[FinalMerge.columns.str.startswith('s1q2')]\n",
    "FinalMerge.drop(unwanted7, axis=1, inplace=True)\n",
    "\n",
    "unwanted8 = FinalMerge.columns[FinalMerge.columns.str.startswith('weight')]\n",
    "FinalMerge.drop(unwanted8, axis=1, inplace=True)\n",
    "\n",
    "unwanted9 = FinalMerge.columns[FinalMerge.columns.str.startswith('hhid')]\n",
    "FinalMerge.drop(unwanted9, axis=1, inplace=True)\n",
    "\n",
    "unwanted10 = FinalMerge.columns[FinalMerge.columns.str.startswith('popweight')]\n",
    "FinalMerge.drop(unwanted10, axis=1, inplace=True)\n",
    "\n",
    "unwanted11 = FinalMerge.columns[FinalMerge.columns.str.startswith('hhlocation')]\n",
    "FinalMerge.drop(unwanted11, axis=1, inplace=True)\n",
    "\n",
    "unwanted12 = FinalMerge.columns[FinalMerge.columns.str.startswith('improved_sanitation')]\n",
    "FinalMerge.drop(unwanted12, axis=1, inplace=True)\n",
    "\n",
    "unwanted13 = FinalMerge.columns[FinalMerge.columns.str.startswith('improved_water')]\n",
    "FinalMerge.drop(unwanted13, axis=1, inplace=True)\n",
    "\n",
    "unwanted14 = FinalMerge.columns[FinalMerge.columns.str.startswith('s1q5')]\n",
    "FinalMerge.drop(unwanted14, axis=1, inplace=True)\n",
    "\n",
    "unwanted15 = FinalMerge.columns[FinalMerge.columns.str.startswith('s12q19')]\n",
    "FinalMerge.drop(unwanted15, axis=1, inplace=True)\n",
    "\n",
    "unwanted16 = FinalMerge.columns[FinalMerge.columns.str.startswith('s12q20')]\n",
    "FinalMerge.drop(unwanted16, axis=1, inplace=True)\n",
    "\n",
    "unwanted17 = FinalMerge.columns[FinalMerge.columns.str.startswith('s12q21')]\n",
    "FinalMerge.drop(unwanted17, axis=1, inplace=True)\n",
    "\n",
    "#why are there variables that aren't named?\n",
    "Remove_extra_vars = FinalMerge.columns[FinalMerge.columns.str.endswith('_No')]\n",
    "FinalMerge.drop(Remove_extra_vars, axis=1, inplace=True)\n",
    "\n",
    "Remove_extra_vars2 = FinalMerge.columns[FinalMerge.columns.str.endswith('_nan')]\n",
    "FinalMerge.drop(Remove_extra_vars2, axis=1, inplace=True)"
   ]
  },
  {
   "cell_type": "code",
   "execution_count": 286,
   "metadata": {},
   "outputs": [
    {
     "data": {
      "text/html": [
       "<div>\n",
       "<style scoped>\n",
       "    .dataframe tbody tr th:only-of-type {\n",
       "        vertical-align: middle;\n",
       "    }\n",
       "\n",
       "    .dataframe tbody tr th {\n",
       "        vertical-align: top;\n",
       "    }\n",
       "\n",
       "    .dataframe thead th {\n",
       "        text-align: right;\n",
       "    }\n",
       "</style>\n",
       "<table border=\"1\" class=\"dataframe\">\n",
       "  <thead>\n",
       "    <tr style=\"text-align: right;\">\n",
       "      <th></th>\n",
       "      <th>size</th>\n",
       "      <th>headFemale</th>\n",
       "      <th>shareFemale</th>\n",
       "      <th>shareAgeZeroToFour</th>\n",
       "      <th>shareAgeFiveToNine</th>\n",
       "      <th>shareAgeTenToFourteen</th>\n",
       "      <th>shareAgeFifteenToTwentyfour</th>\n",
       "      <th>shareAgeTwentyfivetofourtynine</th>\n",
       "      <th>shareAgeFiftyPlus</th>\n",
       "      <th>shareMaleAgeTenToNineteen</th>\n",
       "      <th>...</th>\n",
       "      <th>borrowmoneyfood_lackfood_Yes</th>\n",
       "      <th>sellhouseland_lackfood_Yes</th>\n",
       "      <th>withdrawchildrenschool_lackfood_Yes</th>\n",
       "      <th>sellanimals:lackfood_Yes</th>\n",
       "      <th>sellfemaleanimal_last_Yes</th>\n",
       "      <th>beg_lackfood_Yes</th>\n",
       "      <th>share_toilet_Yes</th>\n",
       "      <th>childunder5_death5yrs_Yes</th>\n",
       "      <th>Total_Spend</th>\n",
       "      <th>childunder5_death5yrs</th>\n",
       "    </tr>\n",
       "  </thead>\n",
       "  <tbody>\n",
       "    <tr>\n",
       "      <th>0</th>\n",
       "      <td>5.0</td>\n",
       "      <td>1.0</td>\n",
       "      <td>0.800000</td>\n",
       "      <td>0.200000</td>\n",
       "      <td>0.400000</td>\n",
       "      <td>0.200000</td>\n",
       "      <td>0.000000</td>\n",
       "      <td>0.200000</td>\n",
       "      <td>0.000000</td>\n",
       "      <td>0.000000</td>\n",
       "      <td>...</td>\n",
       "      <td>1.0</td>\n",
       "      <td>0.0</td>\n",
       "      <td>0.0</td>\n",
       "      <td>0.0</td>\n",
       "      <td>0.0</td>\n",
       "      <td>0.0</td>\n",
       "      <td>1.0</td>\n",
       "      <td>0.0</td>\n",
       "      <td>28773.994501</td>\n",
       "      <td>0.0</td>\n",
       "    </tr>\n",
       "    <tr>\n",
       "      <th>1</th>\n",
       "      <td>6.0</td>\n",
       "      <td>1.0</td>\n",
       "      <td>0.166667</td>\n",
       "      <td>0.000000</td>\n",
       "      <td>0.000000</td>\n",
       "      <td>0.166667</td>\n",
       "      <td>0.666667</td>\n",
       "      <td>0.166667</td>\n",
       "      <td>0.000000</td>\n",
       "      <td>0.666667</td>\n",
       "      <td>...</td>\n",
       "      <td>1.0</td>\n",
       "      <td>0.0</td>\n",
       "      <td>0.0</td>\n",
       "      <td>1.0</td>\n",
       "      <td>1.0</td>\n",
       "      <td>0.0</td>\n",
       "      <td>1.0</td>\n",
       "      <td>0.0</td>\n",
       "      <td>2984.158150</td>\n",
       "      <td>0.0</td>\n",
       "    </tr>\n",
       "    <tr>\n",
       "      <th>2</th>\n",
       "      <td>6.0</td>\n",
       "      <td>1.0</td>\n",
       "      <td>0.833333</td>\n",
       "      <td>0.166667</td>\n",
       "      <td>0.333333</td>\n",
       "      <td>0.333333</td>\n",
       "      <td>0.000000</td>\n",
       "      <td>0.166667</td>\n",
       "      <td>0.000000</td>\n",
       "      <td>0.000000</td>\n",
       "      <td>...</td>\n",
       "      <td>0.0</td>\n",
       "      <td>0.0</td>\n",
       "      <td>0.0</td>\n",
       "      <td>0.0</td>\n",
       "      <td>0.0</td>\n",
       "      <td>0.0</td>\n",
       "      <td>0.0</td>\n",
       "      <td>0.0</td>\n",
       "      <td>1782.654090</td>\n",
       "      <td>0.0</td>\n",
       "    </tr>\n",
       "    <tr>\n",
       "      <th>3</th>\n",
       "      <td>14.0</td>\n",
       "      <td>1.0</td>\n",
       "      <td>0.714286</td>\n",
       "      <td>0.285714</td>\n",
       "      <td>0.285714</td>\n",
       "      <td>0.142857</td>\n",
       "      <td>0.142857</td>\n",
       "      <td>0.071429</td>\n",
       "      <td>0.071429</td>\n",
       "      <td>0.071429</td>\n",
       "      <td>...</td>\n",
       "      <td>1.0</td>\n",
       "      <td>0.0</td>\n",
       "      <td>0.0</td>\n",
       "      <td>0.0</td>\n",
       "      <td>0.0</td>\n",
       "      <td>0.0</td>\n",
       "      <td>0.0</td>\n",
       "      <td>0.0</td>\n",
       "      <td>2559.810690</td>\n",
       "      <td>0.0</td>\n",
       "    </tr>\n",
       "    <tr>\n",
       "      <th>4</th>\n",
       "      <td>2.0</td>\n",
       "      <td>0.0</td>\n",
       "      <td>0.500000</td>\n",
       "      <td>0.000000</td>\n",
       "      <td>0.000000</td>\n",
       "      <td>0.000000</td>\n",
       "      <td>0.500000</td>\n",
       "      <td>0.500000</td>\n",
       "      <td>0.000000</td>\n",
       "      <td>0.000000</td>\n",
       "      <td>...</td>\n",
       "      <td>1.0</td>\n",
       "      <td>0.0</td>\n",
       "      <td>0.0</td>\n",
       "      <td>1.0</td>\n",
       "      <td>0.0</td>\n",
       "      <td>0.0</td>\n",
       "      <td>1.0</td>\n",
       "      <td>0.0</td>\n",
       "      <td>12906.885089</td>\n",
       "      <td>0.0</td>\n",
       "    </tr>\n",
       "  </tbody>\n",
       "</table>\n",
       "<p>5 rows × 98 columns</p>\n",
       "</div>"
      ],
      "text/plain": [
       "   size  headFemale  shareFemale  shareAgeZeroToFour  shareAgeFiveToNine  \\\n",
       "0   5.0         1.0     0.800000            0.200000            0.400000   \n",
       "1   6.0         1.0     0.166667            0.000000            0.000000   \n",
       "2   6.0         1.0     0.833333            0.166667            0.333333   \n",
       "3  14.0         1.0     0.714286            0.285714            0.285714   \n",
       "4   2.0         0.0     0.500000            0.000000            0.000000   \n",
       "\n",
       "   shareAgeTenToFourteen  shareAgeFifteenToTwentyfour  \\\n",
       "0               0.200000                     0.000000   \n",
       "1               0.166667                     0.666667   \n",
       "2               0.333333                     0.000000   \n",
       "3               0.142857                     0.142857   \n",
       "4               0.000000                     0.500000   \n",
       "\n",
       "   shareAgeTwentyfivetofourtynine  shareAgeFiftyPlus  \\\n",
       "0                        0.200000           0.000000   \n",
       "1                        0.166667           0.000000   \n",
       "2                        0.166667           0.000000   \n",
       "3                        0.071429           0.071429   \n",
       "4                        0.500000           0.000000   \n",
       "\n",
       "   shareMaleAgeTenToNineteen  ...  borrowmoneyfood_lackfood_Yes  \\\n",
       "0                   0.000000  ...                           1.0   \n",
       "1                   0.666667  ...                           1.0   \n",
       "2                   0.000000  ...                           0.0   \n",
       "3                   0.071429  ...                           1.0   \n",
       "4                   0.000000  ...                           1.0   \n",
       "\n",
       "   sellhouseland_lackfood_Yes  withdrawchildrenschool_lackfood_Yes  \\\n",
       "0                         0.0                                  0.0   \n",
       "1                         0.0                                  0.0   \n",
       "2                         0.0                                  0.0   \n",
       "3                         0.0                                  0.0   \n",
       "4                         0.0                                  0.0   \n",
       "\n",
       "   sellanimals:lackfood_Yes  sellfemaleanimal_last_Yes  beg_lackfood_Yes  \\\n",
       "0                       0.0                        0.0               0.0   \n",
       "1                       1.0                        1.0               0.0   \n",
       "2                       0.0                        0.0               0.0   \n",
       "3                       0.0                        0.0               0.0   \n",
       "4                       1.0                        0.0               0.0   \n",
       "\n",
       "   share_toilet_Yes  childunder5_death5yrs_Yes   Total_Spend  \\\n",
       "0               1.0                        0.0  28773.994501   \n",
       "1               1.0                        0.0   2984.158150   \n",
       "2               0.0                        0.0   1782.654090   \n",
       "3               0.0                        0.0   2559.810690   \n",
       "4               1.0                        0.0  12906.885089   \n",
       "\n",
       "   childunder5_death5yrs  \n",
       "0                    0.0  \n",
       "1                    0.0  \n",
       "2                    0.0  \n",
       "3                    0.0  \n",
       "4                    0.0  \n",
       "\n",
       "[5 rows x 98 columns]"
      ]
     },
     "execution_count": 286,
     "metadata": {},
     "output_type": "execute_result"
    }
   ],
   "source": [
    "Unrestricted = pd.DataFrame(FinalMerge)\n",
    "Unrestricted.head()"
   ]
  },
  {
   "cell_type": "code",
   "execution_count": 287,
   "metadata": {},
   "outputs": [],
   "source": [
    "y = ln_expenditure_per_capita\n",
    "\n",
    "x = Unrestricted"
   ]
  },
  {
   "cell_type": "code",
   "execution_count": 288,
   "metadata": {},
   "outputs": [],
   "source": [
    "Unrestricted = Unrestricted.astype(float)"
   ]
  },
  {
   "cell_type": "code",
   "execution_count": 289,
   "metadata": {},
   "outputs": [
    {
     "data": {
      "text/plain": [
       "(8, 98)"
      ]
     },
     "execution_count": 289,
     "metadata": {},
     "output_type": "execute_result"
    }
   ],
   "source": [
    "#ridge - unrestricted\n",
    "ridge = Ridge(normalize = True)\n",
    "coefs = []\n",
    "\n",
    "for a in alphas:\n",
    "    ridge.set_params(alpha = a)\n",
    "    ridge.fit(x, y)\n",
    "    coefs.append(ridge.coef_)\n",
    "    \n",
    "np.shape(coefs)"
   ]
  },
  {
   "cell_type": "code",
   "execution_count": 290,
   "metadata": {},
   "outputs": [],
   "source": [
    "#Perform all three tests with unrestricted set\n",
    "x_train, x_test , y_train, y_test = train_test_split(x, y, test_size=0.25, random_state=1)"
   ]
  },
  {
   "cell_type": "code",
   "execution_count": 291,
   "metadata": {},
   "outputs": [
    {
     "data": {
      "text/plain": [
       "Ridge(alpha=0.3, normalize=True)"
      ]
     },
     "execution_count": 291,
     "metadata": {},
     "output_type": "execute_result"
    }
   ],
   "source": [
    "#cross validation to choose optimal alpha\n",
    "ridgecv = RidgeCV(alphas = alphas, scoring = 'neg_mean_squared_error', normalize = True)\n",
    "ridgecv.fit(x_train, y_train)\n",
    "ridgecv.alpha_\n",
    "\n",
    "#Test MSE w/ optimal alpha\n",
    "ridge4 = Ridge(alpha = ridgecv.alpha_, normalize = True)\n",
    "ridge4.fit(x_train, y_train)"
   ]
  },
  {
   "cell_type": "code",
   "execution_count": 292,
   "metadata": {},
   "outputs": [
    {
     "data": {
      "text/plain": [
       "size                        -0.022614\n",
       "headFemale                  -0.006679\n",
       "shareFemale                 -0.024441\n",
       "shareAgeZeroToFour          -0.152188\n",
       "shareAgeFiveToNine          -0.094946\n",
       "                               ...   \n",
       "beg_lackfood_Yes             0.008855\n",
       "share_toilet_Yes             0.030787\n",
       "childunder5_death5yrs_Yes   -0.030215\n",
       "Total_Spend                  0.000021\n",
       "childunder5_death5yrs       -0.030215\n",
       "Length: 98, dtype: float64"
      ]
     },
     "execution_count": 292,
     "metadata": {},
     "output_type": "execute_result"
    }
   ],
   "source": [
    "# Ridge Model - Unrestricted Data Set  \n",
    "#Fit ridge model w/ optimal alpha \n",
    "ridge4.fit(x, y)\n",
    "pd.Series(ridge.coef_, index = x.columns)"
   ]
  },
  {
   "cell_type": "code",
   "execution_count": 293,
   "metadata": {},
   "outputs": [],
   "source": [
    "Y_test_ridge_ur = ridge4.predict(x_test)\n",
    "Y_test_ridge_ur = pd.Series(Y_test_ridge_ur)"
   ]
  },
  {
   "cell_type": "code",
   "execution_count": 294,
   "metadata": {},
   "outputs": [
    {
     "data": {
      "text/html": [
       "<div>\n",
       "<style scoped>\n",
       "    .dataframe tbody tr th:only-of-type {\n",
       "        vertical-align: middle;\n",
       "    }\n",
       "\n",
       "    .dataframe tbody tr th {\n",
       "        vertical-align: top;\n",
       "    }\n",
       "\n",
       "    .dataframe thead th {\n",
       "        text-align: right;\n",
       "    }\n",
       "</style>\n",
       "<table border=\"1\" class=\"dataframe\">\n",
       "  <thead>\n",
       "    <tr style=\"text-align: right;\">\n",
       "      <th></th>\n",
       "      <th>Y Test Ridge</th>\n",
       "    </tr>\n",
       "  </thead>\n",
       "  <tbody>\n",
       "    <tr>\n",
       "      <th>0</th>\n",
       "      <td>8.777367</td>\n",
       "    </tr>\n",
       "    <tr>\n",
       "      <th>1</th>\n",
       "      <td>6.234928</td>\n",
       "    </tr>\n",
       "    <tr>\n",
       "      <th>2</th>\n",
       "      <td>6.981234</td>\n",
       "    </tr>\n",
       "    <tr>\n",
       "      <th>3</th>\n",
       "      <td>7.476583</td>\n",
       "    </tr>\n",
       "    <tr>\n",
       "      <th>4</th>\n",
       "      <td>7.376419</td>\n",
       "    </tr>\n",
       "  </tbody>\n",
       "</table>\n",
       "</div>"
      ],
      "text/plain": [
       "   Y Test Ridge\n",
       "0      8.777367\n",
       "1      6.234928\n",
       "2      6.981234\n",
       "3      7.476583\n",
       "4      7.376419"
      ]
     },
     "execution_count": 294,
     "metadata": {},
     "output_type": "execute_result"
    }
   ],
   "source": [
    "Y_test_ridge_ur = pd.DataFrame(Y_test_ridge_ur, columns=['Y Test Ridge'])\n",
    "Y_test_ridge_ur\n",
    "Y_test_ridge_ur.reset_index(drop=True, inplace=True)\n",
    "Y_test_ridge_ur.head()"
   ]
  },
  {
   "cell_type": "code",
   "execution_count": 295,
   "metadata": {},
   "outputs": [
    {
     "data": {
      "text/html": [
       "<div>\n",
       "<style scoped>\n",
       "    .dataframe tbody tr th:only-of-type {\n",
       "        vertical-align: middle;\n",
       "    }\n",
       "\n",
       "    .dataframe tbody tr th {\n",
       "        vertical-align: top;\n",
       "    }\n",
       "\n",
       "    .dataframe thead th {\n",
       "        text-align: right;\n",
       "    }\n",
       "</style>\n",
       "<table border=\"1\" class=\"dataframe\">\n",
       "  <thead>\n",
       "    <tr style=\"text-align: right;\">\n",
       "      <th></th>\n",
       "      <th>log(Total Spend/capita)</th>\n",
       "    </tr>\n",
       "  </thead>\n",
       "  <tbody>\n",
       "    <tr>\n",
       "      <th>0</th>\n",
       "      <td>9.011916</td>\n",
       "    </tr>\n",
       "    <tr>\n",
       "      <th>1</th>\n",
       "      <td>6.485500</td>\n",
       "    </tr>\n",
       "    <tr>\n",
       "      <th>2</th>\n",
       "      <td>7.130928</td>\n",
       "    </tr>\n",
       "    <tr>\n",
       "      <th>3</th>\n",
       "      <td>7.928423</td>\n",
       "    </tr>\n",
       "    <tr>\n",
       "      <th>4</th>\n",
       "      <td>7.178477</td>\n",
       "    </tr>\n",
       "  </tbody>\n",
       "</table>\n",
       "</div>"
      ],
      "text/plain": [
       "   log(Total Spend/capita)\n",
       "0                 9.011916\n",
       "1                 6.485500\n",
       "2                 7.130928\n",
       "3                 7.928423\n",
       "4                 7.178477"
      ]
     },
     "execution_count": 295,
     "metadata": {},
     "output_type": "execute_result"
    }
   ],
   "source": [
    "y_test = pd.DataFrame(y_test, columns=['log(Total Spend/capita)'])\n",
    "y_test.reset_index()\n",
    "y_test.reset_index(drop=True, inplace=True)\n",
    "y_test.head()"
   ]
  },
  {
   "cell_type": "code",
   "execution_count": 330,
   "metadata": {},
   "outputs": [
    {
     "data": {
      "text/plain": [
       "0.14705882352941177"
      ]
     },
     "execution_count": 330,
     "metadata": {},
     "output_type": "execute_result"
    }
   ],
   "source": [
    "data_ur = pd.concat([y_test,Y_test_ridge_ur],axis=1)\n",
    "\n",
    "\n",
    "data_ur['true percentile'] = data_ur['log(Total Spend/capita)'].rank(ascending = True)/data_ur['log(Total Spend/capita)'].rank(ascending = True).max()\n",
    "data_ur['predicted percentile'] = data_ur['Y Test Ridge'].rank(ascending = True)/data_ur['Y Test Ridge'].rank(ascending = True).max()\n",
    "data_ur['exclusion error'] = np.nan\n",
    "data_ur.loc[data_ur['true percentile'] <= 0.25, data_ur['exclusion error']] = 0\n",
    "data_ur.loc[((data_ur['true percentile'] <= 0.25) & (data_ur['predicted percentile'] > 0.25)), data_ur['exclusion error']] = 1\n",
    "data_ur[np.nan].mean()   "
   ]
  },
  {
   "cell_type": "code",
   "execution_count": 297,
   "metadata": {},
   "outputs": [],
   "source": [
    "#Lasso - unrestricted\n",
    "alphas = 10**np.linspace(10,-2,100)*0.5"
   ]
  },
  {
   "cell_type": "code",
   "execution_count": 298,
   "metadata": {},
   "outputs": [
    {
     "data": {
      "text/plain": [
       "Lasso(alpha=0.0010605394792862768, max_iter=10000, normalize=True)"
      ]
     },
     "execution_count": 298,
     "metadata": {},
     "output_type": "execute_result"
    }
   ],
   "source": [
    "lassocv = LassoCV(alphas = None, cv = 10, max_iter = 100000, normalize = True)\n",
    "lassocv.fit(x_train, y_train)\n",
    "\n",
    "lasso.set_params(alpha= lassocv.alpha_)\n",
    "lasso.fit(x_train, y_train)"
   ]
  },
  {
   "cell_type": "code",
   "execution_count": 299,
   "metadata": {},
   "outputs": [
    {
     "data": {
      "text/plain": [
       "size                        -0.112561\n",
       "headFemale                  -0.000000\n",
       "shareFemale                 -0.082216\n",
       "shareAgeZeroToFour          -0.174115\n",
       "shareAgeFiveToNine          -0.000000\n",
       "                               ...   \n",
       "beg_lackfood_Yes            -0.000000\n",
       "share_toilet_Yes             0.000000\n",
       "childunder5_death5yrs_Yes   -0.000000\n",
       "Total_Spend                  0.000042\n",
       "childunder5_death5yrs       -0.000000\n",
       "Length: 98, dtype: float64"
      ]
     },
     "execution_count": 299,
     "metadata": {},
     "output_type": "execute_result"
    }
   ],
   "source": [
    "pd.Series(lasso.coef_, index= x.columns)"
   ]
  },
  {
   "cell_type": "code",
   "execution_count": 300,
   "metadata": {},
   "outputs": [],
   "source": [
    "Y_test_lasso_ur = lasso.predict(x_test)\n",
    "Y_test_lasso_ur = pd.Series(Y_test_lasso_ur)"
   ]
  },
  {
   "cell_type": "code",
   "execution_count": 301,
   "metadata": {},
   "outputs": [
    {
     "data": {
      "text/html": [
       "<div>\n",
       "<style scoped>\n",
       "    .dataframe tbody tr th:only-of-type {\n",
       "        vertical-align: middle;\n",
       "    }\n",
       "\n",
       "    .dataframe tbody tr th {\n",
       "        vertical-align: top;\n",
       "    }\n",
       "\n",
       "    .dataframe thead th {\n",
       "        text-align: right;\n",
       "    }\n",
       "</style>\n",
       "<table border=\"1\" class=\"dataframe\">\n",
       "  <thead>\n",
       "    <tr style=\"text-align: right;\">\n",
       "      <th></th>\n",
       "      <th>Y Test Lasso</th>\n",
       "    </tr>\n",
       "  </thead>\n",
       "  <tbody>\n",
       "    <tr>\n",
       "      <th>0</th>\n",
       "      <td>8.334149</td>\n",
       "    </tr>\n",
       "    <tr>\n",
       "      <th>1</th>\n",
       "      <td>6.283303</td>\n",
       "    </tr>\n",
       "    <tr>\n",
       "      <th>2</th>\n",
       "      <td>7.095689</td>\n",
       "    </tr>\n",
       "    <tr>\n",
       "      <th>3</th>\n",
       "      <td>7.415849</td>\n",
       "    </tr>\n",
       "    <tr>\n",
       "      <th>4</th>\n",
       "      <td>7.240991</td>\n",
       "    </tr>\n",
       "  </tbody>\n",
       "</table>\n",
       "</div>"
      ],
      "text/plain": [
       "   Y Test Lasso\n",
       "0      8.334149\n",
       "1      6.283303\n",
       "2      7.095689\n",
       "3      7.415849\n",
       "4      7.240991"
      ]
     },
     "execution_count": 301,
     "metadata": {},
     "output_type": "execute_result"
    }
   ],
   "source": [
    "Y_test_lasso_ur = pd.DataFrame(Y_test_lasso_ur, columns=['Y Test Lasso'])\n",
    "Y_test_lasso_ur\n",
    "Y_test_lasso_ur.reset_index(drop=True, inplace=True)\n",
    "Y_test_lasso_ur.head()"
   ]
  },
  {
   "cell_type": "code",
   "execution_count": 302,
   "metadata": {},
   "outputs": [
    {
     "data": {
      "text/html": [
       "<div>\n",
       "<style scoped>\n",
       "    .dataframe tbody tr th:only-of-type {\n",
       "        vertical-align: middle;\n",
       "    }\n",
       "\n",
       "    .dataframe tbody tr th {\n",
       "        vertical-align: top;\n",
       "    }\n",
       "\n",
       "    .dataframe thead th {\n",
       "        text-align: right;\n",
       "    }\n",
       "</style>\n",
       "<table border=\"1\" class=\"dataframe\">\n",
       "  <thead>\n",
       "    <tr style=\"text-align: right;\">\n",
       "      <th></th>\n",
       "      <th>log(Total Spend/capita)</th>\n",
       "    </tr>\n",
       "  </thead>\n",
       "  <tbody>\n",
       "    <tr>\n",
       "      <th>0</th>\n",
       "      <td>9.011916</td>\n",
       "    </tr>\n",
       "    <tr>\n",
       "      <th>1</th>\n",
       "      <td>6.485500</td>\n",
       "    </tr>\n",
       "    <tr>\n",
       "      <th>2</th>\n",
       "      <td>7.130928</td>\n",
       "    </tr>\n",
       "    <tr>\n",
       "      <th>3</th>\n",
       "      <td>7.928423</td>\n",
       "    </tr>\n",
       "    <tr>\n",
       "      <th>4</th>\n",
       "      <td>7.178477</td>\n",
       "    </tr>\n",
       "  </tbody>\n",
       "</table>\n",
       "</div>"
      ],
      "text/plain": [
       "   log(Total Spend/capita)\n",
       "0                 9.011916\n",
       "1                 6.485500\n",
       "2                 7.130928\n",
       "3                 7.928423\n",
       "4                 7.178477"
      ]
     },
     "execution_count": 302,
     "metadata": {},
     "output_type": "execute_result"
    }
   ],
   "source": [
    "y_test = pd.DataFrame(y_test, columns=['log(Total Spend/capita)'])\n",
    "y_test.reset_index()\n",
    "y_test.reset_index(drop=True, inplace=True)\n",
    "y_test.head()"
   ]
  },
  {
   "cell_type": "code",
   "execution_count": 333,
   "metadata": {},
   "outputs": [
    {
     "data": {
      "text/plain": [
       "0.11029411764705882"
      ]
     },
     "execution_count": 333,
     "metadata": {},
     "output_type": "execute_result"
    }
   ],
   "source": [
    "data_lasso_ur = pd.concat([y_test,Y_test_lasso_ur],axis=1)\n",
    "\n",
    "\n",
    "data_lasso_ur['true percentile'] = data_lasso_ur['log(Total Spend/capita)'].rank(ascending = True)/data_lasso_ur['log(Total Spend/capita)'].rank(ascending = True).max()\n",
    "data_lasso_ur['predicted percentile'] = data_lasso_ur['Y Test Lasso'].rank(ascending = True)/data_lasso_ur['Y Test Lasso'].rank(ascending = True).max()\n",
    "data_lasso_ur['exclusion error'] = np.nan\n",
    "data_lasso_ur.loc[data_lasso_ur['true percentile'] <= 0.5, data_lasso_ur['exclusion error']] = 0\n",
    "data_lasso_ur.loc[((data_lasso_ur['true percentile'] <= 0.5) & (data_lasso_ur['predicted percentile'] > 0.5)), data_lasso_ur['exclusion error']] = 1\n",
    "data_lasso_ur[np.nan].mean() \n"
   ]
  },
  {
   "cell_type": "code",
   "execution_count": 317,
   "metadata": {},
   "outputs": [],
   "source": [
    "X_train, X_test , y_train, y_test = train_test_split(X, y, test_size=0.25, random_state=1)"
   ]
  },
  {
   "cell_type": "code",
   "execution_count": 318,
   "metadata": {},
   "outputs": [
    {
     "data": {
      "text/plain": [
       "{'alpha': 0.0001, 'l1_ratio': 0.5}"
      ]
     },
     "execution_count": 318,
     "metadata": {},
     "output_type": "execute_result"
    }
   ],
   "source": [
    "\n",
    "elastic=ElasticNet(normalize=True, max_iter = 100000)\n",
    "search=GridSearchCV(estimator=elastic,param_grid={'alpha':np.logspace(-5,2,8),\n",
    "        'l1_ratio':[.1,.2,.25,.4,.5,.6,.75,.8]},scoring='neg_mean_squared_error',n_jobs=1,refit=True,cv=10)\n",
    "search.fit(x,y)\n",
    "search.best_params_"
   ]
  },
  {
   "cell_type": "code",
   "execution_count": 319,
   "metadata": {},
   "outputs": [
    {
     "data": {
      "text/plain": [
       "0.23771327984954588"
      ]
     },
     "execution_count": 319,
     "metadata": {},
     "output_type": "execute_result"
    }
   ],
   "source": [
    "abs(search.best_score_)"
   ]
  },
  {
   "cell_type": "code",
   "execution_count": 320,
   "metadata": {},
   "outputs": [
    {
     "data": {
      "text/html": [
       "<div>\n",
       "<style scoped>\n",
       "    .dataframe tbody tr th:only-of-type {\n",
       "        vertical-align: middle;\n",
       "    }\n",
       "\n",
       "    .dataframe tbody tr th {\n",
       "        vertical-align: top;\n",
       "    }\n",
       "\n",
       "    .dataframe thead th {\n",
       "        text-align: right;\n",
       "    }\n",
       "</style>\n",
       "<table border=\"1\" class=\"dataframe\">\n",
       "  <thead>\n",
       "    <tr style=\"text-align: right;\">\n",
       "      <th></th>\n",
       "      <th>Columns</th>\n",
       "      <th>Coefficient Estimate</th>\n",
       "    </tr>\n",
       "  </thead>\n",
       "  <tbody>\n",
       "    <tr>\n",
       "      <th>0</th>\n",
       "      <td>size</td>\n",
       "      <td>-0.133557</td>\n",
       "    </tr>\n",
       "    <tr>\n",
       "      <th>1</th>\n",
       "      <td>headFemale</td>\n",
       "      <td>-0.021965</td>\n",
       "    </tr>\n",
       "    <tr>\n",
       "      <th>2</th>\n",
       "      <td>shareFemale</td>\n",
       "      <td>-0.089314</td>\n",
       "    </tr>\n",
       "    <tr>\n",
       "      <th>3</th>\n",
       "      <td>shareAgeZeroToFour</td>\n",
       "      <td>-0.102770</td>\n",
       "    </tr>\n",
       "    <tr>\n",
       "      <th>4</th>\n",
       "      <td>shareAgeFiveToNine</td>\n",
       "      <td>-0.000000</td>\n",
       "    </tr>\n",
       "    <tr>\n",
       "      <th>...</th>\n",
       "      <td>...</td>\n",
       "      <td>...</td>\n",
       "    </tr>\n",
       "    <tr>\n",
       "      <th>93</th>\n",
       "      <td>beg_lackfood_Yes</td>\n",
       "      <td>-0.000000</td>\n",
       "    </tr>\n",
       "    <tr>\n",
       "      <th>94</th>\n",
       "      <td>share_toilet_Yes</td>\n",
       "      <td>0.000000</td>\n",
       "    </tr>\n",
       "    <tr>\n",
       "      <th>95</th>\n",
       "      <td>childunder5_death5yrs_Yes</td>\n",
       "      <td>-0.000000</td>\n",
       "    </tr>\n",
       "    <tr>\n",
       "      <th>96</th>\n",
       "      <td>Total_Spend</td>\n",
       "      <td>0.000044</td>\n",
       "    </tr>\n",
       "    <tr>\n",
       "      <th>97</th>\n",
       "      <td>childunder5_death5yrs</td>\n",
       "      <td>-0.000000</td>\n",
       "    </tr>\n",
       "  </tbody>\n",
       "</table>\n",
       "<p>98 rows × 2 columns</p>\n",
       "</div>"
      ],
      "text/plain": [
       "                      Columns  Coefficient Estimate\n",
       "0                        size             -0.133557\n",
       "1                  headFemale             -0.021965\n",
       "2                 shareFemale             -0.089314\n",
       "3          shareAgeZeroToFour             -0.102770\n",
       "4          shareAgeFiveToNine             -0.000000\n",
       "..                        ...                   ...\n",
       "93           beg_lackfood_Yes             -0.000000\n",
       "94           share_toilet_Yes              0.000000\n",
       "95  childunder5_death5yrs_Yes             -0.000000\n",
       "96                Total_Spend              0.000044\n",
       "97      childunder5_death5yrs             -0.000000\n",
       "\n",
       "[98 rows x 2 columns]"
      ]
     },
     "execution_count": 320,
     "metadata": {},
     "output_type": "execute_result"
    }
   ],
   "source": [
    "# Elastic Model - Unrestricted Dataset \n",
    "e_net= ElasticNet(alpha = 0.01, max_iter = 100000) \n",
    "e_net.fit(x_train, y_train) \n",
    "  \n",
    "# calculate the prediction and mean square error \n",
    "y_pred_elastic = e_net.predict(x_test) \n",
    "mean_squared_error = np.mean((y_pred_elastic - y_test)**2) \n",
    "  \n",
    "e_net_coeff = pd.DataFrame() \n",
    "e_net_coeff[\"Columns\"] = x_train.columns \n",
    "e_net_coeff['Coefficient Estimate'] = pd.Series(e_net.coef_) \n",
    "e_net_coeff "
   ]
  },
  {
   "cell_type": "code",
   "execution_count": 321,
   "metadata": {},
   "outputs": [],
   "source": [
    "Y_test_elastic_ur = pd.Series(y_pred_elastic)"
   ]
  },
  {
   "cell_type": "code",
   "execution_count": 322,
   "metadata": {},
   "outputs": [
    {
     "data": {
      "text/html": [
       "<div>\n",
       "<style scoped>\n",
       "    .dataframe tbody tr th:only-of-type {\n",
       "        vertical-align: middle;\n",
       "    }\n",
       "\n",
       "    .dataframe tbody tr th {\n",
       "        vertical-align: top;\n",
       "    }\n",
       "\n",
       "    .dataframe thead th {\n",
       "        text-align: right;\n",
       "    }\n",
       "</style>\n",
       "<table border=\"1\" class=\"dataframe\">\n",
       "  <thead>\n",
       "    <tr style=\"text-align: right;\">\n",
       "      <th></th>\n",
       "      <th>Y Test Elastic Net</th>\n",
       "    </tr>\n",
       "  </thead>\n",
       "  <tbody>\n",
       "    <tr>\n",
       "      <th>0</th>\n",
       "      <td>8.514482</td>\n",
       "    </tr>\n",
       "    <tr>\n",
       "      <th>1</th>\n",
       "      <td>6.051731</td>\n",
       "    </tr>\n",
       "    <tr>\n",
       "      <th>2</th>\n",
       "      <td>7.072013</td>\n",
       "    </tr>\n",
       "    <tr>\n",
       "      <th>3</th>\n",
       "      <td>7.415589</td>\n",
       "    </tr>\n",
       "    <tr>\n",
       "      <th>4</th>\n",
       "      <td>7.501650</td>\n",
       "    </tr>\n",
       "  </tbody>\n",
       "</table>\n",
       "</div>"
      ],
      "text/plain": [
       "   Y Test Elastic Net\n",
       "0            8.514482\n",
       "1            6.051731\n",
       "2            7.072013\n",
       "3            7.415589\n",
       "4            7.501650"
      ]
     },
     "execution_count": 322,
     "metadata": {},
     "output_type": "execute_result"
    }
   ],
   "source": [
    "Y_test_elastic_ur = pd.DataFrame(Y_test_elastic_ur, columns=['Y Test Elastic Net'])\n",
    "Y_test_elastic_ur\n",
    "Y_test_elastic_ur.reset_index(drop=True, inplace=True)\n",
    "Y_test_elastic_ur.head()"
   ]
  },
  {
   "cell_type": "code",
   "execution_count": 323,
   "metadata": {},
   "outputs": [
    {
     "data": {
      "text/html": [
       "<div>\n",
       "<style scoped>\n",
       "    .dataframe tbody tr th:only-of-type {\n",
       "        vertical-align: middle;\n",
       "    }\n",
       "\n",
       "    .dataframe tbody tr th {\n",
       "        vertical-align: top;\n",
       "    }\n",
       "\n",
       "    .dataframe thead th {\n",
       "        text-align: right;\n",
       "    }\n",
       "</style>\n",
       "<table border=\"1\" class=\"dataframe\">\n",
       "  <thead>\n",
       "    <tr style=\"text-align: right;\">\n",
       "      <th></th>\n",
       "      <th>log(Total Spend/capita)</th>\n",
       "    </tr>\n",
       "  </thead>\n",
       "  <tbody>\n",
       "    <tr>\n",
       "      <th>0</th>\n",
       "      <td>9.011916</td>\n",
       "    </tr>\n",
       "    <tr>\n",
       "      <th>1</th>\n",
       "      <td>6.485500</td>\n",
       "    </tr>\n",
       "    <tr>\n",
       "      <th>2</th>\n",
       "      <td>7.130928</td>\n",
       "    </tr>\n",
       "    <tr>\n",
       "      <th>3</th>\n",
       "      <td>7.928423</td>\n",
       "    </tr>\n",
       "    <tr>\n",
       "      <th>4</th>\n",
       "      <td>7.178477</td>\n",
       "    </tr>\n",
       "  </tbody>\n",
       "</table>\n",
       "</div>"
      ],
      "text/plain": [
       "   log(Total Spend/capita)\n",
       "0                 9.011916\n",
       "1                 6.485500\n",
       "2                 7.130928\n",
       "3                 7.928423\n",
       "4                 7.178477"
      ]
     },
     "execution_count": 323,
     "metadata": {},
     "output_type": "execute_result"
    }
   ],
   "source": [
    "y_test = pd.DataFrame(y_test, columns=['log(Total Spend/capita)'])\n",
    "y_test.reset_index()\n",
    "y_test.reset_index(drop=True, inplace=True)\n",
    "y_test.head()"
   ]
  },
  {
   "cell_type": "code",
   "execution_count": 327,
   "metadata": {},
   "outputs": [
    {
     "data": {
      "text/plain": [
       "0.14705882352941177"
      ]
     },
     "execution_count": 327,
     "metadata": {},
     "output_type": "execute_result"
    }
   ],
   "source": [
    "data_elastic_ur = pd.concat([y_test,Y_test_elastic_ur],axis=1)\n",
    "\n",
    "\n",
    "data_elastic_ur['true percentile'] = data_elastic_ur['log(Total Spend/capita)'].rank(ascending = True)/data_elastic_ur['log(Total Spend/capita)'].rank(ascending = True).max()\n",
    "data_elastic_ur['predicted percentile'] = data_elastic_ur['Y Test Elastic Net'].rank(ascending = True)/data_elastic_ur['Y Test Elastic Net'].rank(ascending = True).max()\n",
    "data_elastic_ur['exclusion error'] = np.nan\n",
    "data_elastic_ur.loc[data_elastic_ur['true percentile'] <= 0.25, data_elastic_ur['exclusion error']] = 0\n",
    "data_elastic_ur.loc[((data_elastic_ur['true percentile'] <= 0.25) & (data_elastic_ur['predicted percentile'] > 0.25)), data_elastic_ur['exclusion error']] = 1\n",
    "data_elastic_ur[np.nan].mean()     "
   ]
  },
  {
   "cell_type": "code",
   "execution_count": null,
   "metadata": {},
   "outputs": [],
   "source": []
  }
 ],
 "metadata": {
  "kernelspec": {
   "display_name": "Python 3",
   "language": "python",
   "name": "python3"
  },
  "language_info": {
   "codemirror_mode": {
    "name": "ipython",
    "version": 3
   },
   "file_extension": ".py",
   "mimetype": "text/x-python",
   "name": "python",
   "nbconvert_exporter": "python",
   "pygments_lexer": "ipython3",
   "version": "3.7.6"
  }
 },
 "nbformat": 4,
 "nbformat_minor": 4
}
