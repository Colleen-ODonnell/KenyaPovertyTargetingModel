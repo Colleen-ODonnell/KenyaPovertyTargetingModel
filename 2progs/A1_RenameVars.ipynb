{
 "cells": [
  {
   "cell_type": "code",
   "execution_count": 14,
   "metadata": {},
   "outputs": [
    {
     "ename": "ModuleNotFoundError",
     "evalue": "No module named 'seaborn'",
     "output_type": "error",
     "traceback": [
      "\u001b[0;31m---------------------------------------------------------------------------\u001b[0m",
      "\u001b[0;31mModuleNotFoundError\u001b[0m                       Traceback (most recent call last)",
      "\u001b[0;32m<ipython-input-14-0e919de7038c>\u001b[0m in \u001b[0;36m<module>\u001b[0;34m\u001b[0m\n\u001b[1;32m      1\u001b[0m \u001b[0;32mimport\u001b[0m \u001b[0mnumpy\u001b[0m \u001b[0;32mas\u001b[0m \u001b[0mnp\u001b[0m\u001b[0;34m\u001b[0m\u001b[0;34m\u001b[0m\u001b[0m\n\u001b[1;32m      2\u001b[0m \u001b[0;32mimport\u001b[0m \u001b[0mpandas\u001b[0m \u001b[0;32mas\u001b[0m \u001b[0mpd\u001b[0m\u001b[0;34m\u001b[0m\u001b[0;34m\u001b[0m\u001b[0m\n\u001b[0;32m----> 3\u001b[0;31m \u001b[0;32mimport\u001b[0m \u001b[0mseaborn\u001b[0m \u001b[0;32mas\u001b[0m \u001b[0msns\u001b[0m\u001b[0;34m\u001b[0m\u001b[0;34m\u001b[0m\u001b[0m\n\u001b[0m\u001b[1;32m      4\u001b[0m \u001b[0;32mimport\u001b[0m \u001b[0mmatplotlib\u001b[0m\u001b[0;34m.\u001b[0m\u001b[0mpyplot\u001b[0m \u001b[0;32mas\u001b[0m \u001b[0mplt\u001b[0m\u001b[0;34m\u001b[0m\u001b[0;34m\u001b[0m\u001b[0m\n\u001b[1;32m      5\u001b[0m \u001b[0;32mimport\u001b[0m \u001b[0mpandas\u001b[0m \u001b[0;32mas\u001b[0m \u001b[0mpd\u001b[0m\u001b[0;34m\u001b[0m\u001b[0;34m\u001b[0m\u001b[0m\n",
      "\u001b[0;31mModuleNotFoundError\u001b[0m: No module named 'seaborn'"
     ]
    }
   ],
   "source": [
    "import numpy as np\n",
    "import pandas as pd\n",
    "import seaborn as sns\n",
    "import matplotlib.pyplot as plt\n",
    "import pandas as pd\n",
    "from sklearn import datasets\n",
    "import statsmodels.api as sm\n",
    "\n",
    "%matplotlib inline"
   ]
  },
  {
   "cell_type": "code",
   "execution_count": 15,
   "metadata": {},
   "outputs": [],
   "source": [
    "Education = pd.read_csv('../1data/KSPS/UNHCR-KEN-2018-SEA-Kalobeyei-Education.csv')\n",
    "Energy = pd.read_csv('../1data/KSPS/UNHCR-KEN-2018-SEA-Kalobeyei-Energy.csv')           \n",
    "Food = pd.read_csv('../1data/KSPS/UNHCR-KEN-2018-SEA-Kalobeyei-Food.csv')            \n",
    "Household = pd.read_csv('../1data/KSPS/UNHCR-KEN-2018-SEA-Kalobeyei-Household.csv') \n",
    "Member = pd.read_csv('../1data/KSPS/UNHCR-KEN-2018-SEA-Kalobeyei-Member.csv')\n",
    "Nonfood = pd.read_csv('../1data/KSPS/UNHCR-KEN-2018-SEA-Kalobeyei-Nonfood.csv') "
   ]
  },
  {
   "cell_type": "code",
   "execution_count": 16,
   "metadata": {},
   "outputs": [],
   "source": [
    "#Food Rename\n",
    "Food= Food.rename(columns={\"s12q1\":\"hh_purchasedfood7d\", \"s12q2\":\"amountfood_purchased7d\", \n",
    "                     \"s12q4\":\"foodspent_localcurrecny\", \"s12q6\": \"foodconsumed7d\",\"s12q7\": \"foodwasfree\", \n",
    "                     \"cons_q_kg\": \"quantityfood_consumedkg\", \n",
    "                     \"cons_q_kg_pc\": \"quantityfood_consumedkg\"}) "
   ]
  },
  {
   "cell_type": "code",
   "execution_count": 17,
   "metadata": {},
   "outputs": [],
   "source": [
    "Food = Food.drop([\"mod_opt\", \"item_id\", \"item_name\", \"s12q2_a\", \n",
    "                  \"s12q6_1\", \"purc_conv2kg\",\n",
    "                  \"national_uv_2015_16\", \"purc_uv_med_2018_19\", \"cons_conv2kg\", \n",
    "                  \"purc_uv\"], axis=1)"
   ]
  },
  {
   "cell_type": "code",
   "execution_count": 18,
   "metadata": {},
   "outputs": [],
   "source": [
    "Nonfood = Nonfood.rename(columns={\"s1q2\":\"hhlocation\", \n",
    "                        \"s12q9\":\"purchased\", \n",
    "                        \"s12q10\": \"cost\"})\n",
    "\n",
    "Nonfood = Nonfood.drop(['weight','g_recall','nfcons_value',\n",
    "                        'nfcons_value_capita','popweight',\n",
    "                        's12q11'], axis=1)"
   ]
  },
  {
   "cell_type": "code",
   "execution_count": 19,
   "metadata": {},
   "outputs": [],
   "source": [
    "#Energy Rename\n",
    "Energy = Energy.rename(columns={\"s1q2\":\"hhlocation\", \"s12q12a\":\"q_purchased_firewoodused\", \n",
    "                       \"s12q12b\": \"totalcost_purchasedfirewood\",\n",
    "                     \"s12q13a\": \"q_collected_firewoodused\",\"s12q13b\": \"totalcost_collectedfirewood\",\n",
    "                      \"s12q14a\": \"q_farmresidue_used\", \"s12q14b\": 'totalcost_farmresidue',\n",
    "                      's12q15a':'q_wood/processwaste_used', 's12q15b': 'totalcost_wood/processwaste',\n",
    "                      's12q16a': 'q_charcoal_used', 's12q16b': 'totalcost_charcoal',\n",
    "                      's12q17a': 'q_kerosene/paraffin_used', 's12q17b': 'totalcost_kerosene/paraffin',\n",
    "                      's12q18a': 'q_lpg_used', 's12q18b': 'totalcost_lpg', \n",
    "                      's12q19a': 'q_electricity_used', 's12q19b': 'totalcost_electricity',\n",
    "                      's12q20a': 'q_petrol_used', 's12q20b': 'totalcost_petrol',\n",
    "                       's12q21a': 'q_diesel_used', 's12q21b': 'totalcost_diesel'}) "
   ]
  },
  {
   "cell_type": "code",
   "execution_count": 20,
   "metadata": {},
   "outputs": [],
   "source": [
    "Energy = Energy.drop(['s12q12', 's12q12a_1', 's12q13', 's12q13a_1', 's12q14', 's12q14a_1',\n",
    "            's12q15', 's12q15a_1', 's12q16', 's12q16a_1', 's12q17', 's12q18'], axis = 1)"
   ]
  },
  {
   "cell_type": "code",
   "execution_count": 21,
   "metadata": {},
   "outputs": [],
   "source": [
    "#Education Rename\n",
    "Education = Education.rename(columns={'s4q10': 'spend_tuitionfees', 's4q11': 'spend_textbooks', \n",
    "                         's4q12': 'spend_exercisebooks', 's4q13': 'spend_schooluniform',\n",
    "                         's4q14': 'spend_schoolboardingfees', 's4q15': 'spend_schooltransport',\n",
    "                         's4q16': 'spend_extratuition', 's4q17': 'spend_PTA', \n",
    "                         's4q18': 'spend_pocketmoney', 's4q19': 'spend_cautionmoney',\n",
    "                         's4q20': 'spend_educmedicalfee', 's4q21': 'spend_activityfees',\n",
    "                         's4q22': 'spend_examfees', 's4q23': 'spend_educfeedingprogram',\n",
    "                         's4q24': 'spend_othereduccharges'})"
   ]
  },
  {
   "cell_type": "code",
   "execution_count": 22,
   "metadata": {},
   "outputs": [],
   "source": [
    "#Household Rename \n",
    "Household= Household.rename(columns={\"s6q1\": \"number_dwellings\", \"s6q2\": \"number_habitablerooms\", \n",
    "                          \"s6q3\":\"floor_material\", \"s6q4\":\"roof_material\", \"s6q5\":\"wall_material\",\n",
    "                          \"s6q6\":\"drikingwater_source\", \"s6q7\": \"drinkingwater_insufficientquanities\", \n",
    "                          \"s6q8\": \"toilet_type\", \"s6q9\": \"share_toilet\", \"s6q11\": \"lighting_source\", \n",
    "                          \"s6q13\": \"payrent_dwelling\", \"s6q14\": \"rentpaid_shillings\", \"s7q1\": \"own_radio\",\n",
    "                          \"s7q2\": \"own_television\", \"s7q3\": \"own_satelitedish\", \"s7q4\": \"own_smartphone\",\n",
    "                          \"s7q5\":\"own_refrigerator\", \"s7q6\": \"own_table\", \"s7q7\": \"own_bed\", \"s7q8\": \"own_mattress\", \n",
    "                          \"s7q9\":\"own_mosquitonet\", \"s7q10\":\"own_fan\", \"s7q11\": \"own_bicycle\", \"s7q12\":\"own_motorcycle\", \n",
    "                          \"s7q13\": \"own_car\", \"s7q14\": \"own_generator\", \"s7q15\": \"own_solarpanels\", \"s7q16\": \"own_kerosenestove\",\n",
    "                          \"s7q17\": \"own_charcoaljiko\", \"s7q18\": \"own_wheelbarrow\", \"s7q19\": \"own_ironfencing\", \n",
    "                          \"s7q20\": \"own_farmanimals\", \"s8q1\": \"relatives_abroad\", \"s8q2\": \"relatives_outsidekenya\", \n",
    "                          \"s8q3\": \"own_bankaccount\", \"s8q4\": \"borrowedfrom_sources12mo\", \"s8q4_1\": \"borrowedfrom_bank12mo\", \n",
    "                          \"s8q4_2\": \"borrowedfrom_community\", \"s8q4_3\": \"borrowedfrom_familyorfriends12mo\", \"s8q5\": \"remittances_abroad\", \n",
    "                          \"s8q6\": \"purchased_insurance\", \"s9q1\":\"childunder5_death5yrs\", \"s11q1\": \"sellhhgoods_lackfood\", \n",
    "                          \"s11q2\": \"healthandeduc_reduction\", \"s11q3\": \"sellassets_lackfood\", \"s11q4\": \"spendsavings:lackfood\", \n",
    "                         \"s11q5\": \"borrowmoneyfood_lackfood\", \"s11q6\": \"sellhouseland_lackfood\", \"s11q7\": \"withdrawchildrenschool_lackfood\", \n",
    "                         \"s11q8\":\"sellanimals:lackfood\", \"s11q9\": \"sellfemaleanimal_last\", \"s11q10\": \"beg_lackfood\"})"
   ]
  },
  {
   "cell_type": "code",
   "execution_count": 23,
   "metadata": {},
   "outputs": [],
   "source": [
    "Household = Household.drop(['s10q1', 's10q2', 's10q3', 's10q4', 's10q5', 's10q6', 's10q7',\n",
    "                         's10q8', 's10q9', 's11q1_a', 's11q2_a', 's11q3_a', 's11q4_a',\n",
    "                         's11q5_a', 's11q6_a', 's11q6_a', 's11q7_a', 's11q8_a', 's11q9_a', 's11q10_a', \n",
    "                           'hh_fcon', 'hh_nfcon', 'hh_con', 'hh_con2011', 'hh_con2011_pd'], axis=1)"
   ]
  },
  {
   "cell_type": "code",
   "execution_count": 24,
   "metadata": {},
   "outputs": [],
   "source": [
    "# Member cleaning\n",
    "Member = Member.rename(columns={\"s1q2\":\"hhlocation\",\n",
    "                                \"s1q5\":\"interviewConsent\",\n",
    "                                \"s2q8\":\"mainRespondent\",\n",
    "                                \"s2q18\":\"hhHead\",\n",
    "                            #Demographic\n",
    "                                \"s2q11\":\"gender\",\n",
    "                                \"s2q12\":\"ageRange\",\n",
    "                                \"s2q13\":\"countryOfOrigin\",\n",
    "                            #Education\n",
    "                                \"s4q1\":\"anyEducation\",\n",
    "                                \"s4q2\":\"currentlyInSchool\",\n",
    "                                \"s4q3\":\"currentGrade\",\n",
    "                                \"s4q4\":\"highestEducation\",\n",
    "                            ## Education -- Skills\n",
    "                                \"s4q5\":\"speaks\",\n",
    "                                \"s4q6\":\"reads\",\n",
    "                                \"s4q7\":\"writes\",\n",
    "                                \"s4q8\":\"usesTech\",\n",
    "                                \"s4q9\":\"drives\",\n",
    "                            # Employment \n",
    "                                \"s5q1\":\"employee\",\n",
    "                                \"s5q2\":\"employer\",\n",
    "                                \"s5q3\":\"farmWorker\",\n",
    "                                \"s5q4\":\"farmHelper\",\n",
    "                                \"s5q5\":\"apprentice\",\n",
    "                                \"s5q6\":\"volunteer\",\n",
    "                                \"s5q20\":\"occupationStatus\",\n",
    "                                \"s5q24\":\"numberOfIncomeActivities7days\",\n",
    "                            # Disabilities\n",
    "                                \"s9q2\":\"DifficultSeeing\",\n",
    "                                \"s9q2_a\":\"glasses\",\n",
    "                                \"s9q3\":\"DifficultHearing\",\n",
    "                                \"s9q3_a\":\"hearingAid\",\n",
    "                                \"s9q4\":\"difficultWalking\",\n",
    "                                \"s9q5\":\"difficultMemory\",\n",
    "                                \"s9q6\":\"difficultSelfCare\",\n",
    "                                \"s9q7\":\"difficultCommunicate\"})\n",
    "\n",
    "\n",
    "Member = Member.drop(['weight',\n",
    "# s5q7-14 ask about absenteeism at work\n",
    "'s5q7','s5q8','s5q9','s5q10','s5q11','s5q12','s5q13_1','s5q13_2','s5q13_3','s5q14','s5q14_b',\n",
    "# s5q17-19 asks about what steps were taken in subject's job search\n",
    "'s5q17','s5q18','s5q19',\n",
    "# s5q22 \"How soon would he/she be able to start work if offered one\"                 \n",
    "'s5q22',\n",
    "# s5q23 is covered in s5q20\n",
    "'s5q23',\n",
    "# Dr. told me to remove these\n",
    "'s5q25','s5q15','s5q16','s5q21','mainRespondent',\n",
    "# Mean was 1                    \n",
    "'interviewConsent' ,  \n",
    "# Included in other sets\n",
    "'ind_unique','indid','hhlocation',\"s2q7a\"\n",
    "], axis=1)"
   ]
  },
  {
   "cell_type": "code",
   "execution_count": 25,
   "metadata": {},
   "outputs": [],
   "source": [
    "Food.to_excel('../2progs/Excel_Files/A1_FoodRenamed.xlsx',sheet_name='Sheet1')\n",
    "Nonfood.to_excel('../2progs/Excel_Files/A2_NonfoodRenamed.xlsx',sheet_name='Sheet1')\n",
    "Energy.to_excel('../2progs/A3_EnergyRenamed.xlsx',sheet_name='Sheet1')\n",
    "Education.to_excel('../2progs/Excel_Files/A4_EducationRenamed.xlsx',sheet_name='Sheet1')\n",
    "Household.to_excel('../2progs/Excel_Files/A5_HouseholdRenamed.xlsx',sheet_name='Sheet1')\n",
    "Member.to_excel('../2progs/Excel_Files/A6_MemberRenamed.xlsx',sheet_name='Sheet1')"
   ]
  },
  {
   "cell_type": "code",
   "execution_count": null,
   "metadata": {},
   "outputs": [],
   "source": []
  }
 ],
 "metadata": {
  "kernelspec": {
   "display_name": "Python 3",
   "language": "python",
   "name": "python3"
  },
  "language_info": {
   "codemirror_mode": {
    "name": "ipython",
    "version": 3
   },
   "file_extension": ".py",
   "mimetype": "text/x-python",
   "name": "python",
   "nbconvert_exporter": "python",
   "pygments_lexer": "ipython3",
   "version": "3.7.6"
  }
 },
 "nbformat": 4,
 "nbformat_minor": 4
}
