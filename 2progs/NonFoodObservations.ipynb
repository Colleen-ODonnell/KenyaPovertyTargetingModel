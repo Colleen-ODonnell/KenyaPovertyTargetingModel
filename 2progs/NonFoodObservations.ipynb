{
 "cells": [
  {
   "cell_type": "code",
   "execution_count": 1,
   "metadata": {},
   "outputs": [],
   "source": [
    "import numpy as np\n",
    "import pandas as pd\n",
    "import seaborn as sns\n",
    "import matplotlib.pyplot as plt\n",
    "%matplotlib inline"
   ]
  },
  {
   "cell_type": "code",
   "execution_count": 2,
   "metadata": {},
   "outputs": [],
   "source": [
    "MergedDatasetsRenamed = pd.read_excel('../2progs/MergedDatasetwDummies.xlsx',sheet_name='Sheet1',index_col = 0)\n",
    "Nonfood = pd.read_excel('../2progs/Nonfood.xlsx',sheet_name='Sheet1',index_col = 0)"
   ]
  },
  {
   "cell_type": "code",
   "execution_count": 3,
   "metadata": {},
   "outputs": [],
   "source": [
    "Nonfood = Nonfood.rename(columns={\"s1q2\":\"hhlocation\", \n",
    "                        \"s12q9\":\"purchased\", \n",
    "                        \"s12q10\": \"cost\"})"
   ]
  },
  {
   "cell_type": "code",
   "execution_count": 4,
   "metadata": {},
   "outputs": [],
   "source": [
    "MergedDatasetsRenamed['nonfoodTotalspend'] = Nonfood['cost']"
   ]
  },
  {
   "cell_type": "code",
   "execution_count": 5,
   "metadata": {},
   "outputs": [],
   "source": [
    "MergedDatasetsRenamed['energyTotalspend'] = MergedDatasetsRenamed[['totalcost_purchasedfirewood', 'totalcost_collectedfirewood', \n",
    "                                              'totalcost_farmresidue', 'totalcost_wood/processwaste', \n",
    "                                              'totalcost_charcoal','totalcost_kerosene/paraffin', 'totalcost_lpg', \n",
    "                                              'totalcost_electricity', 'totalcost_petrol', 'totalcost_diesel']].sum(axis = 1)"
   ]
  },
  {
   "cell_type": "code",
   "execution_count": 6,
   "metadata": {},
   "outputs": [],
   "source": [
    "MergedDatasetsRenamed['foodTotalspend'] = MergedDatasetsRenamed['foodspent_localcurrecny']"
   ]
  },
  {
   "cell_type": "code",
   "execution_count": 7,
   "metadata": {},
   "outputs": [],
   "source": [
    "MergedDatasetsRenamed['educationTotalspend'] = MergedDatasetsRenamed[['spend_tuitionfees', 'spend_textbooks', \n",
    "                                                           'spend_exercisebooks', 'spend_schooluniform', \n",
    "                                                           'spend_schoolboardingfees', 'spend_schooltransport', \n",
    "                                                           'spend_extratuition', 'spend_PTA', 'spend_pocketmoney', \n",
    "                                                           'spend_cautionmoney', 'spend_educmedicalfee', \n",
    "                                                           'spend_activityfees', 'spend_examfees', \n",
    "                                                           'spend_educfeedingprogram', 'spend_othereduccharges']].sum(axis = 1)"
   ]
  },
  {
   "cell_type": "code",
   "execution_count": 8,
   "metadata": {},
   "outputs": [
    {
     "data": {
      "text/html": [
       "<div>\n",
       "<style scoped>\n",
       "    .dataframe tbody tr th:only-of-type {\n",
       "        vertical-align: middle;\n",
       "    }\n",
       "\n",
       "    .dataframe tbody tr th {\n",
       "        vertical-align: top;\n",
       "    }\n",
       "\n",
       "    .dataframe thead th {\n",
       "        text-align: right;\n",
       "    }\n",
       "</style>\n",
       "<table border=\"1\" class=\"dataframe\">\n",
       "  <thead>\n",
       "    <tr style=\"text-align: right;\">\n",
       "      <th></th>\n",
       "      <th>Mean</th>\n",
       "      <th>Std</th>\n",
       "      <th>N</th>\n",
       "    </tr>\n",
       "  </thead>\n",
       "  <tbody>\n",
       "    <tr>\n",
       "      <th>Energy Total Spend</th>\n",
       "      <td>383.242257</td>\n",
       "      <td>342.650045</td>\n",
       "      <td>18080.0</td>\n",
       "    </tr>\n",
       "    <tr>\n",
       "      <th>Food Total Spend</th>\n",
       "      <td>355.027789</td>\n",
       "      <td>441.010358</td>\n",
       "      <td>14826.0</td>\n",
       "    </tr>\n",
       "    <tr>\n",
       "      <th>Education Total Spend</th>\n",
       "      <td>2546.969193</td>\n",
       "      <td>8477.636666</td>\n",
       "      <td>18080.0</td>\n",
       "    </tr>\n",
       "    <tr>\n",
       "      <th>Nonfood Total Spend</th>\n",
       "      <td>33.807527</td>\n",
       "      <td>127.999596</td>\n",
       "      <td>10991.0</td>\n",
       "    </tr>\n",
       "  </tbody>\n",
       "</table>\n",
       "</div>"
      ],
      "text/plain": [
       "                              Mean          Std        N\n",
       "Energy Total Spend      383.242257   342.650045  18080.0\n",
       "Food Total Spend        355.027789   441.010358  14826.0\n",
       "Education Total Spend  2546.969193  8477.636666  18080.0\n",
       "Nonfood Total Spend      33.807527   127.999596  10991.0"
      ]
     },
     "execution_count": 8,
     "metadata": {},
     "output_type": "execute_result"
    }
   ],
   "source": [
    "MergedDatasetsRenamed[['energyTotalspend', 'foodTotalspend','educationTotalspend', 'nonfoodTotalspend']].describe().T[['mean', 'std', 'count']].set_axis(['Energy Total Spend', 'Food Total Spend', 'Education Total Spend', 'Nonfood Total Spend'], axis = 'index').set_axis(['Mean', 'Std', 'N'], axis='columns')"
   ]
  },
  {
   "cell_type": "code",
   "execution_count": null,
   "metadata": {},
   "outputs": [],
   "source": []
  }
 ],
 "metadata": {
  "kernelspec": {
   "display_name": "Python 3",
   "language": "python",
   "name": "python3"
  },
  "language_info": {
   "codemirror_mode": {
    "name": "ipython",
    "version": 3
   },
   "file_extension": ".py",
   "mimetype": "text/x-python",
   "name": "python",
   "nbconvert_exporter": "python",
   "pygments_lexer": "ipython3",
   "version": "3.8.3"
  }
 },
 "nbformat": 4,
 "nbformat_minor": 4
}
