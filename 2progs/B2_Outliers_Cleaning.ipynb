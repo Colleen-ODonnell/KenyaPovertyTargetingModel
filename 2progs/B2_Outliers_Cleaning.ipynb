{
 "cells": [
  {
   "cell_type": "code",
   "execution_count": 58,
   "metadata": {},
   "outputs": [],
   "source": [
    "import numpy as np\n",
    "import pandas as pd\n",
    "import seaborn as sns\n",
    "import matplotlib.pyplot as plt\n",
    "%matplotlib inline"
   ]
  },
  {
   "cell_type": "code",
   "execution_count": 59,
   "metadata": {},
   "outputs": [],
   "source": [
    "MergedDatasetsRenamed = pd.read_excel('../2progs/MergedDatasetsRenamed.xlsx',sheet_name='Sheet1',index_col = 0)"
   ]
  },
  {
   "cell_type": "code",
   "execution_count": 60,
   "metadata": {},
   "outputs": [],
   "source": [
    "Education =  pd.DataFrame(MergedDatasetsRenamed, columns= ['educationTotalspend','hhsize_x', 's1q2_y',\n",
    "                                                           'spend_tuitionfees', 'spend_textbooks', \n",
    "                                                           'spend_exercisebooks','spend_schooluniform', \n",
    "                                                           'spend_schoolboardingfees', 'spend_schooltransport',\n",
    "                                                           'spend_extratuition', 'spend_PTA', 'spend_pocketmoney', \n",
    "                                                           'spend_cautionmoney','spend_educmedicalfee', \n",
    "                                                           'spend_activityfees', 'spend_examfees', \n",
    "                                                           'spend_educfeedingprogram','spend_othereduccharges'])"
   ]
  },
  {
   "cell_type": "code",
   "execution_count": 76,
   "metadata": {},
   "outputs": [
    {
     "data": {
      "text/html": [
       "<div>\n",
       "<style scoped>\n",
       "    .dataframe tbody tr th:only-of-type {\n",
       "        vertical-align: middle;\n",
       "    }\n",
       "\n",
       "    .dataframe tbody tr th {\n",
       "        vertical-align: top;\n",
       "    }\n",
       "\n",
       "    .dataframe thead th {\n",
       "        text-align: right;\n",
       "    }\n",
       "</style>\n",
       "<table border=\"1\" class=\"dataframe\">\n",
       "  <thead>\n",
       "    <tr style=\"text-align: right;\">\n",
       "      <th></th>\n",
       "      <th>hhid</th>\n",
       "      <th>s1q2_x</th>\n",
       "      <th>spend_tuitionfees</th>\n",
       "      <th>spend_textbooks</th>\n",
       "      <th>spend_exercisebooks</th>\n",
       "      <th>spend_schooluniform</th>\n",
       "      <th>spend_schoolboardingfees</th>\n",
       "      <th>spend_schooltransport</th>\n",
       "      <th>spend_extratuition</th>\n",
       "      <th>spend_PTA</th>\n",
       "      <th>...</th>\n",
       "      <th>hh_con</th>\n",
       "      <th>hh_con2011</th>\n",
       "      <th>hh_con2011_pd</th>\n",
       "      <th>pline_ipl</th>\n",
       "      <th>poorIPL</th>\n",
       "      <th>pgi</th>\n",
       "      <th>spg</th>\n",
       "      <th>weight_y.1</th>\n",
       "      <th>popweight</th>\n",
       "      <th>Dataset2</th>\n",
       "    </tr>\n",
       "  </thead>\n",
       "  <tbody>\n",
       "  </tbody>\n",
       "</table>\n",
       "<p>0 rows × 144 columns</p>\n",
       "</div>"
      ],
      "text/plain": [
       "Empty DataFrame\n",
       "Columns: [hhid, s1q2_x, spend_tuitionfees, spend_textbooks, spend_exercisebooks, spend_schooluniform, spend_schoolboardingfees, spend_schooltransport, spend_extratuition, spend_PTA, spend_pocketmoney, spend_cautionmoney, spend_educmedicalfee, spend_activityfees, spend_examfees, spend_educfeedingprogram, spend_othereduccharges, hhsize_x, weight_x, popweight_x, Dataset4, hhlocation, q_purchased_firewoodused, totalcost_purchasedfirewood, q_collected_firewoodused, totalcost_collectedfirewood, q_farmresidue_used, totalcost_farmresidue, q_wood/processwaste_used, totalcost_wood/processwaste, q_charcoal_used, totalcost_charcoal, q_kerosene/paraffin_used, totalcost_kerosene/paraffin, q_lpg_used, totalcost_lpg, s12q19, q_electricity_used, totalcost_electricity, s12q20, q_petrol_used, totalcost_petrol, s12q21, q_diesel_used, totalcost_diesel, hhsize_y, weight_y, Dataset3, s1q2_y, hhsize_x.1, hhmod, hh_purchasedfood7d, amountfood_purchased7d, foodspent_localcurrecny, s12q5, foodconsumed7d, s12q6_a, foodwasfree, wfp, purc_q_kg, purc_q_kg_pc, quantityfood_consumedkg, quantityfood_consumedkg_pc, fcons_value, fcons_value_capita, weight_x.1, popweight_y, Dataset1, hhsize_y.1, familysize1, familysize2, familysize3, familysize4, familysize5, s1q2, number_dwellings, number_habitablerooms, floor_material, roof_material, wall_material, drikingwater_source, drinkingwater_insufficientquanities, toilet_type, share_toilet, lighting_source, payrent_dwelling, rentpaid_shillings, own_radio, own_television, own_satelitedish, own_smartphone, own_refrigerator, own_table, own_bed, own_mattress, own_mosquitonet, own_fan, own_bicycle, own_motorcycle, own_car, ...]\n",
       "Index: []\n",
       "\n",
       "[0 rows x 144 columns]"
      ]
     },
     "execution_count": 76,
     "metadata": {},
     "output_type": "execute_result"
    }
   ],
   "source": [
    "MergedDatasetsRenamed[MergedDatasetsRenamed['spend_tuitionfees'] > 34673]"
   ]
  },
  {
   "cell_type": "code",
   "execution_count": 66,
   "metadata": {},
   "outputs": [],
   "source": [
    "#Change outliers to NAs\n",
    "\n",
    "MergedDatasetsRenamed['spend_tuitionfees'] = MergedDatasetsRenamed.loc[(MergedDatasetsRenamed.spend_tuitionfees > 34673),'spend_tuitionfees']= np.nan"
   ]
  },
  {
   "cell_type": "code",
   "execution_count": 67,
   "metadata": {},
   "outputs": [
    {
     "data": {
      "text/html": [
       "<div>\n",
       "<style scoped>\n",
       "    .dataframe tbody tr th:only-of-type {\n",
       "        vertical-align: middle;\n",
       "    }\n",
       "\n",
       "    .dataframe tbody tr th {\n",
       "        vertical-align: top;\n",
       "    }\n",
       "\n",
       "    .dataframe thead th {\n",
       "        text-align: right;\n",
       "    }\n",
       "</style>\n",
       "<table border=\"1\" class=\"dataframe\">\n",
       "  <thead>\n",
       "    <tr style=\"text-align: right;\">\n",
       "      <th></th>\n",
       "      <th>hhid</th>\n",
       "      <th>s1q2_x</th>\n",
       "      <th>spend_tuitionfees</th>\n",
       "      <th>spend_textbooks</th>\n",
       "      <th>spend_exercisebooks</th>\n",
       "      <th>spend_schooluniform</th>\n",
       "      <th>spend_schoolboardingfees</th>\n",
       "      <th>spend_schooltransport</th>\n",
       "      <th>spend_extratuition</th>\n",
       "      <th>spend_PTA</th>\n",
       "      <th>...</th>\n",
       "      <th>hh_con</th>\n",
       "      <th>hh_con2011</th>\n",
       "      <th>hh_con2011_pd</th>\n",
       "      <th>pline_ipl</th>\n",
       "      <th>poorIPL</th>\n",
       "      <th>pgi</th>\n",
       "      <th>spg</th>\n",
       "      <th>weight_y.1</th>\n",
       "      <th>popweight</th>\n",
       "      <th>Dataset2</th>\n",
       "    </tr>\n",
       "  </thead>\n",
       "  <tbody>\n",
       "    <tr>\n",
       "      <th>5471</th>\n",
       "      <td>1717</td>\n",
       "      <td>Village 3</td>\n",
       "      <td>NaN</td>\n",
       "      <td>3499.999878</td>\n",
       "      <td>49.999998</td>\n",
       "      <td>1.0</td>\n",
       "      <td>0.0</td>\n",
       "      <td>9999.999756</td>\n",
       "      <td>0.0</td>\n",
       "      <td>0.0</td>\n",
       "      <td>...</td>\n",
       "      <td>2910.2168</td>\n",
       "      <td>51.498955</td>\n",
       "      <td>1.693116</td>\n",
       "      <td>1.9</td>\n",
       "      <td>Poor</td>\n",
       "      <td>0.167023</td>\n",
       "      <td>0.027897</td>\n",
       "      <td>5.557169</td>\n",
       "      <td>55.571686</td>\n",
       "      <td>Household</td>\n",
       "    </tr>\n",
       "  </tbody>\n",
       "</table>\n",
       "<p>1 rows × 144 columns</p>\n",
       "</div>"
      ],
      "text/plain": [
       "      hhid     s1q2_x  spend_tuitionfees  spend_textbooks  \\\n",
       "5471  1717  Village 3                NaN      3499.999878   \n",
       "\n",
       "      spend_exercisebooks  spend_schooluniform  spend_schoolboardingfees  \\\n",
       "5471            49.999998                  1.0                       0.0   \n",
       "\n",
       "      spend_schooltransport  spend_extratuition  spend_PTA  ...     hh_con  \\\n",
       "5471            9999.999756                 0.0        0.0  ...  2910.2168   \n",
       "\n",
       "      hh_con2011  hh_con2011_pd  pline_ipl  poorIPL       pgi       spg  \\\n",
       "5471   51.498955       1.693116        1.9     Poor  0.167023  0.027897   \n",
       "\n",
       "      weight_y.1  popweight   Dataset2  \n",
       "5471    5.557169  55.571686  Household  \n",
       "\n",
       "[1 rows x 144 columns]"
      ]
     },
     "execution_count": 67,
     "metadata": {},
     "output_type": "execute_result"
    }
   ],
   "source": [
    "MergedDatasetsRenamed.iloc[[5471]]"
   ]
  },
  {
   "cell_type": "code",
   "execution_count": 68,
   "metadata": {},
   "outputs": [
    {
     "data": {
      "text/html": [
       "<div>\n",
       "<style scoped>\n",
       "    .dataframe tbody tr th:only-of-type {\n",
       "        vertical-align: middle;\n",
       "    }\n",
       "\n",
       "    .dataframe tbody tr th {\n",
       "        vertical-align: top;\n",
       "    }\n",
       "\n",
       "    .dataframe thead th {\n",
       "        text-align: right;\n",
       "    }\n",
       "</style>\n",
       "<table border=\"1\" class=\"dataframe\">\n",
       "  <thead>\n",
       "    <tr style=\"text-align: right;\">\n",
       "      <th></th>\n",
       "      <th>hhid</th>\n",
       "      <th>s1q2_x</th>\n",
       "      <th>spend_tuitionfees</th>\n",
       "      <th>spend_textbooks</th>\n",
       "      <th>spend_exercisebooks</th>\n",
       "      <th>spend_schooluniform</th>\n",
       "      <th>spend_schoolboardingfees</th>\n",
       "      <th>spend_schooltransport</th>\n",
       "      <th>spend_extratuition</th>\n",
       "      <th>spend_PTA</th>\n",
       "      <th>...</th>\n",
       "      <th>hh_con</th>\n",
       "      <th>hh_con2011</th>\n",
       "      <th>hh_con2011_pd</th>\n",
       "      <th>pline_ipl</th>\n",
       "      <th>poorIPL</th>\n",
       "      <th>pgi</th>\n",
       "      <th>spg</th>\n",
       "      <th>weight_y.1</th>\n",
       "      <th>popweight</th>\n",
       "      <th>Dataset2</th>\n",
       "    </tr>\n",
       "  </thead>\n",
       "  <tbody>\n",
       "    <tr>\n",
       "      <th>4078</th>\n",
       "      <td>1281</td>\n",
       "      <td>Village 1</td>\n",
       "      <td>NaN</td>\n",
       "      <td>2000.0</td>\n",
       "      <td>0.0</td>\n",
       "      <td>4200.0</td>\n",
       "      <td>0.0</td>\n",
       "      <td>0.0</td>\n",
       "      <td>0.0</td>\n",
       "      <td>0.0</td>\n",
       "      <td>...</td>\n",
       "      <td>3448.3696</td>\n",
       "      <td>61.022064</td>\n",
       "      <td>2.006205</td>\n",
       "      <td>1.9</td>\n",
       "      <td>Non-poor</td>\n",
       "      <td>0.043269</td>\n",
       "      <td>0.001872</td>\n",
       "      <td>5.557169</td>\n",
       "      <td>77.800362</td>\n",
       "      <td>Household</td>\n",
       "    </tr>\n",
       "  </tbody>\n",
       "</table>\n",
       "<p>1 rows × 144 columns</p>\n",
       "</div>"
      ],
      "text/plain": [
       "      hhid     s1q2_x  spend_tuitionfees  spend_textbooks  \\\n",
       "4078  1281  Village 1                NaN           2000.0   \n",
       "\n",
       "      spend_exercisebooks  spend_schooluniform  spend_schoolboardingfees  \\\n",
       "4078                  0.0               4200.0                       0.0   \n",
       "\n",
       "      spend_schooltransport  spend_extratuition  spend_PTA  ...     hh_con  \\\n",
       "4078                    0.0                 0.0        0.0  ...  3448.3696   \n",
       "\n",
       "      hh_con2011  hh_con2011_pd  pline_ipl   poorIPL       pgi       spg  \\\n",
       "4078   61.022064       2.006205        1.9  Non-poor  0.043269  0.001872   \n",
       "\n",
       "      weight_y.1  popweight   Dataset2  \n",
       "4078    5.557169  77.800362  Household  \n",
       "\n",
       "[1 rows x 144 columns]"
      ]
     },
     "execution_count": 68,
     "metadata": {},
     "output_type": "execute_result"
    }
   ],
   "source": [
    "MergedDatasetsRenamed.iloc[[4078]]"
   ]
  },
  {
   "cell_type": "code",
   "execution_count": 69,
   "metadata": {},
   "outputs": [],
   "source": [
    "#Change outliers to NAs\n",
    "MergedDatasetsRenamed['spend_textbooks'] = MergedDatasetsRenamed.loc[(MergedDatasetsRenamed.spend_textbooks > 5614),'spend_textbooks']= np.nan\n",
    "\n"
   ]
  },
  {
   "cell_type": "code",
   "execution_count": 70,
   "metadata": {},
   "outputs": [],
   "source": [
    "#Change outliers to NAs\n",
    "\n",
    "MergedDatasetsRenamed['spend_exercisebooks'] = MergedDatasetsRenamed.loc[(MergedDatasetsRenamed.spend_exercisebooks > 3845),'spend_exercisebooks']= np.nan\n",
    "\n"
   ]
  },
  {
   "cell_type": "code",
   "execution_count": 71,
   "metadata": {},
   "outputs": [],
   "source": [
    "#Change outliers to NAs\n",
    "\n",
    "MergedDatasetsRenamed['spend_schooluniform'] = MergedDatasetsRenamed.loc[(MergedDatasetsRenamed.spend_schooluniform > 7563),'spend_schooluniform']= np.nan\n",
    "\n"
   ]
  },
  {
   "cell_type": "code",
   "execution_count": 72,
   "metadata": {},
   "outputs": [],
   "source": [
    "#Change outliers to NAs\n",
    "\n",
    "MergedDatasetsRenamed['spend_schooltransport'] = MergedDatasetsRenamed.loc[(MergedDatasetsRenamed.spend_schooltransport > 41465),'spend_schooltransport']= np.nan\n",
    "\n"
   ]
  },
  {
   "cell_type": "code",
   "execution_count": 73,
   "metadata": {},
   "outputs": [],
   "source": [
    "#Change outliers to NAs\n",
    "\n",
    "MergedDatasetsRenamed['spend_PTA'] = MergedDatasetsRenamed.loc[(MergedDatasetsRenamed.spend_PTA > 1577),'spend_PTA']= np.nan\n",
    "\n"
   ]
  },
  {
   "cell_type": "code",
   "execution_count": 77,
   "metadata": {},
   "outputs": [],
   "source": [
    "#Change outliers to NAs\n",
    "\n",
    "MergedDatasetsRenamed['spend_PTA'] = MergedDatasetsRenamed.loc[(MergedDatasetsRenamed.spend_PTA > 1577),'spend_PTA']= np.nan\n",
    "\n"
   ]
  },
  {
   "cell_type": "code",
   "execution_count": 78,
   "metadata": {},
   "outputs": [],
   "source": [
    "#Change outliers to NAs\n",
    "\n",
    "MergedDatasetsRenamed['spend_pocketmoney'] = MergedDatasetsRenamed.loc[(MergedDatasetsRenamed.spend_pocketmoney > 17225),'spend_pocketmoney']= np.nan\n",
    "\n"
   ]
  },
  {
   "cell_type": "code",
   "execution_count": 79,
   "metadata": {},
   "outputs": [],
   "source": [
    "#Change outliers to NAs\n",
    "\n",
    "MergedDatasetsRenamed['spend_cautionmoney'] = MergedDatasetsRenamed.loc[(MergedDatasetsRenamed.spend_cautionmoney > 4989),'spend_cautionmoney']= np.nan\n",
    "\n"
   ]
  },
  {
   "cell_type": "code",
   "execution_count": 80,
   "metadata": {},
   "outputs": [],
   "source": [
    "#Change outliers to NAs\n",
    "\n",
    "MergedDatasetsRenamed['spend_educmedicalfee'] = MergedDatasetsRenamed.loc[(MergedDatasetsRenamed.spend_educmedicalfee > 12576),'spend_educmedicalfee']= np.nan\n",
    "\n"
   ]
  },
  {
   "cell_type": "code",
   "execution_count": 81,
   "metadata": {},
   "outputs": [],
   "source": [
    "#Change outliers to NAs\n",
    "\n",
    "MergedDatasetsRenamed['spend_activityfees'] = MergedDatasetsRenamed.loc[(MergedDatasetsRenamed.spend_activityfees > 2277),'spend_activityfees']= np.nan\n",
    "\n"
   ]
  },
  {
   "cell_type": "code",
   "execution_count": 83,
   "metadata": {},
   "outputs": [],
   "source": [
    "#Change outliers to NAs\n",
    "\n",
    "MergedDatasetsRenamed['spend_examfees'] = MergedDatasetsRenamed.loc[(MergedDatasetsRenamed.spend_examfees > 4527),'spend_examfees']= np.nan\n",
    "\n"
   ]
  },
  {
   "cell_type": "code",
   "execution_count": 84,
   "metadata": {},
   "outputs": [],
   "source": [
    "#Change outliers to NAs\n",
    "\n",
    "MergedDatasetsRenamed['spend_educfeedingprogram'] = MergedDatasetsRenamed.loc[(MergedDatasetsRenamed.spend_educfeedingprogram > 53368),'spend_educfeedingprogram']= np.nan\n",
    "\n"
   ]
  },
  {
   "cell_type": "code",
   "execution_count": 85,
   "metadata": {},
   "outputs": [],
   "source": [
    "#Change outliers to NAs\n",
    "\n",
    "MergedDatasetsRenamed['spend_othereduccharges'] = MergedDatasetsRenamed.loc[(MergedDatasetsRenamed.spend_othereduccharges > 6135),'spend_othereduccharges']= np.nan\n",
    "\n"
   ]
  },
  {
   "cell_type": "code",
   "execution_count": 87,
   "metadata": {},
   "outputs": [],
   "source": [
    "#Energy Dataset - switching outliers to NAs\n",
    "\n",
    "MergedDatasetsRenamed['totalcost_purchasedfirewood'] = MergedDatasetsRenamed.loc[(MergedDatasetsRenamed.totalcost_purchasedfirewood > 913),'totalcost_purchasedfirewood']= np.nan\n",
    "\n",
    "MergedDatasetsRenamed['totalcost_collectedfirewood'] = MergedDatasetsRenamed.loc[(MergedDatasetsRenamed.totalcost_collectedfirewood > 1363),'totalcost_collectedfirewood']= np.nan\n",
    "\n",
    "MergedDatasetsRenamed['totalcost_charcoal'] = MergedDatasetsRenamed.loc[(MergedDatasetsRenamed.totalcost_charcoal > 1134),'totalcost_charcoal']= np.nan\n",
    "\n",
    "\n"
   ]
  },
  {
   "cell_type": "code",
   "execution_count": null,
   "metadata": {},
   "outputs": [],
   "source": [
    "#430 outliers for Energy dataset\n",
    "#821 outliers for Education dataset (outlier defined as observations were more than 3 SD away from mean excluding 0's)\n",
    "#still changing less than 1% of dataset (dataset has 18080 observations)"
   ]
  }
 ],
 "metadata": {
  "kernelspec": {
   "display_name": "Python 3",
   "language": "python",
   "name": "python3"
  },
  "language_info": {
   "codemirror_mode": {
    "name": "ipython",
    "version": 3
   },
   "file_extension": ".py",
   "mimetype": "text/x-python",
   "name": "python",
   "nbconvert_exporter": "python",
   "pygments_lexer": "ipython3",
   "version": "3.7.6"
  }
 },
 "nbformat": 4,
 "nbformat_minor": 4
}
