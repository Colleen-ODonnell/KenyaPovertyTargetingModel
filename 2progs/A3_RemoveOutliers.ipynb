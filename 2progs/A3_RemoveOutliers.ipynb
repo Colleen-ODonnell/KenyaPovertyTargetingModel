{
 "cells": [
  {
   "cell_type": "code",
   "execution_count": 1,
   "metadata": {},
   "outputs": [
    {
     "ename": "ModuleNotFoundError",
     "evalue": "No module named 'seaborn'",
     "output_type": "error",
     "traceback": [
      "\u001b[0;31m---------------------------------------------------------------------------\u001b[0m",
      "\u001b[0;31mModuleNotFoundError\u001b[0m                       Traceback (most recent call last)",
      "\u001b[0;32m<ipython-input-1-0e919de7038c>\u001b[0m in \u001b[0;36m<module>\u001b[0;34m\u001b[0m\n\u001b[1;32m      1\u001b[0m \u001b[0;32mimport\u001b[0m \u001b[0mnumpy\u001b[0m \u001b[0;32mas\u001b[0m \u001b[0mnp\u001b[0m\u001b[0;34m\u001b[0m\u001b[0;34m\u001b[0m\u001b[0m\n\u001b[1;32m      2\u001b[0m \u001b[0;32mimport\u001b[0m \u001b[0mpandas\u001b[0m \u001b[0;32mas\u001b[0m \u001b[0mpd\u001b[0m\u001b[0;34m\u001b[0m\u001b[0;34m\u001b[0m\u001b[0m\n\u001b[0;32m----> 3\u001b[0;31m \u001b[0;32mimport\u001b[0m \u001b[0mseaborn\u001b[0m \u001b[0;32mas\u001b[0m \u001b[0msns\u001b[0m\u001b[0;34m\u001b[0m\u001b[0;34m\u001b[0m\u001b[0m\n\u001b[0m\u001b[1;32m      4\u001b[0m \u001b[0;32mimport\u001b[0m \u001b[0mmatplotlib\u001b[0m\u001b[0;34m.\u001b[0m\u001b[0mpyplot\u001b[0m \u001b[0;32mas\u001b[0m \u001b[0mplt\u001b[0m\u001b[0;34m\u001b[0m\u001b[0;34m\u001b[0m\u001b[0m\n\u001b[1;32m      5\u001b[0m \u001b[0;32mimport\u001b[0m \u001b[0mpandas\u001b[0m \u001b[0;32mas\u001b[0m \u001b[0mpd\u001b[0m\u001b[0;34m\u001b[0m\u001b[0;34m\u001b[0m\u001b[0m\n",
      "\u001b[0;31mModuleNotFoundError\u001b[0m: No module named 'seaborn'"
     ]
    }
   ],
   "source": [
    "import numpy as np\n",
    "import pandas as pd\n",
    "import seaborn as sns\n",
    "import matplotlib.pyplot as plt\n",
    "import pandas as pd\n",
    "from sklearn import datasets\n",
    "import statsmodels.api as sm\n",
    "\n",
    "%matplotlib inline"
   ]
  },
  {
   "cell_type": "code",
   "execution_count": 2,
   "metadata": {},
   "outputs": [],
   "source": [
    "Food = pd.read_excel('../2progs/Excel_Files/A1_FoodRenamed.xlsx',sheet_name='Sheet1')\n",
    "Education = pd.read_excel('../2progs/Excel_Files/A4_EducationRenamed.xlsx',sheet_name='Sheet1')\n",
    "Energy = pd.read_excel('../2progs/A3_EnergyRenamed.xlsx',sheet_name='Sheet1')\n",
    "Nonfood = pd.read_excel('../2progs/Excel_Files/A2_NonfoodRenamed.xlsx',sheet_name='Sheet1')"
   ]
  },
  {
   "cell_type": "code",
   "execution_count": 3,
   "metadata": {},
   "outputs": [],
   "source": [
    "#Education - Change outliers to NAs \n",
    "Education.loc[(Education.spend_tuitionfees > 34673),'spend_tuitionfees'] = np.nan\n",
    "Education.loc[(Education.spend_textbooks > 5614),'spend_textbooks']=  np.nan\n",
    "Education.loc[(Education.spend_exercisebooks > 3845),'spend_exercisebooks']=  np.nan\n",
    "Education.loc[(Education.spend_schooluniform > 7563),'spend_schooluniform']=  np.nan\n",
    "Education.loc[(Education.spend_schooltransport > 41465),'spend_schooltransport']=  np.nan\n",
    "Education.loc[(Education.spend_PTA > 1577),'spend_PTA']=  np.nan\n",
    "Education.loc[(Education.spend_pocketmoney > 17225),'spend_pocketmoney']=  np.nan\n",
    "Education.loc[(Education.spend_cautionmoney > 4989),'spend_cautionmoney']=  np.nan\n",
    "Education.loc[(Education.spend_educmedicalfee > 12576),'spend_educmedicalfee']=  np.nan\n",
    "Education.loc[(Education.spend_activityfees > 2277),'spend_activityfees']= np.nan\n",
    "Education.loc[(Education.spend_examfees > 4527),'spend_examfees']=  np.nan\n",
    "Education.loc[(Education.spend_educfeedingprogram > 53368),'spend_educfeedingprogram']=  np.nan\n",
    "Education.loc[(Education.spend_othereduccharges > 6135),'spend_othereduccharges']=  np.nan\n",
    "\n",
    "#Energy - Change outliers to NAs \n",
    "Energy.loc[(Energy.totalcost_purchasedfirewood > 913),'totalcost_purchasedfirewood']=  np.nan\n",
    "Energy.loc[(Energy.totalcost_collectedfirewood > 1363),'totalcost_collectedfirewood']=  np.nan\n",
    "Energy.loc[(Energy.totalcost_charcoal > 1134),'totalcost_charcoal']=  np.nan\n",
    "\n",
    "#Food - Change outliers to NAs \n",
    "\n",
    "Food.loc[(Food.amountfood_purchased7d > 1255), 'amountfood_purchased7d']=  np.nan\n",
    "Food.loc[(Food.foodspent_localcurrecny > 2065), 'foodspent_localcurrecny']=  np.nan\n",
    "Food.loc[(Food.foodconsumed7d > 542), 'foodconsumed7d']=  np.nan\n",
    "Food.loc[(Food.foodconsumed7d > 2.9), 'quantityfood_consumedkg_pc']=  np.nan\n",
    "\n",
    "#NonFood - Change outliers to NAs \n",
    "Nonfood.loc[(Nonfood.cost > 346.36), 'cost']= np.nan "
   ]
  },
  {
   "cell_type": "code",
   "execution_count": 5,
   "metadata": {},
   "outputs": [],
   "source": [
    "Food.to_excel('../2progs/Excel_Files/B2_FoodRemoveOutliers.xlsx',sheet_name='Sheet1')\n",
    "Nonfood.to_excel('../2progs/Excel_Files/B3_NonfoodRemoveOutliers.xlsx',sheet_name='Sheet1')\n",
    "Energy.to_excel('../2progs/B4_EnergyRemoveOutliers.xlsx',sheet_name='Sheet1')\n",
    "Education.to_excel('../2progs/Excel_Files/B5_EducationRemoveOutliers.xlsx',sheet_name='Sheet1')\n"
   ]
  },
  {
   "cell_type": "code",
   "execution_count": null,
   "metadata": {},
   "outputs": [],
   "source": []
  }
 ],
 "metadata": {
  "kernelspec": {
   "display_name": "Python 3",
   "language": "python",
   "name": "python3"
  },
  "language_info": {
   "codemirror_mode": {
    "name": "ipython",
    "version": 3
   },
   "file_extension": ".py",
   "mimetype": "text/x-python",
   "name": "python",
   "nbconvert_exporter": "python",
   "pygments_lexer": "ipython3",
   "version": "3.7.6"
  }
 },
 "nbformat": 4,
 "nbformat_minor": 4
}
