{
 "cells": [
  {
   "cell_type": "code",
   "execution_count": null,
   "metadata": {},
   "outputs": [],
   "source": [
    "%matplotlib inline\n",
    "\n",
    "import pandas as pd\n",
    "import numpy as np\n",
    "import matplotlib.pyplot as plt\n",
    "\n",
    "from sklearn.preprocessing import scale \n",
    "from sklearn.model_selection import train_test_split\n",
    "from sklearn.linear_model import Ridge, RidgeCV, Lasso, LassoCV\n",
    "\n",
    "from sklearn.metrics import mean_squared_error\n",
    "from sklearn.linear_model import ElasticNet\n",
    "from sklearn.model_selection import GridSearchCV"
   ]
  },
  {
   "cell_type": "code",
   "execution_count": null,
   "metadata": {},
   "outputs": [],
   "source": [
    "FinalMerge = pd.read_excel('../2progs/Excel_Files/C3_FinalMerge.xlsx',sheet_name='Sheet1',index_col = 0)"
   ]
  },
  {
   "cell_type": "code",
   "execution_count": null,
   "metadata": {},
   "outputs": [],
   "source": [
    "unwanted = FinalMerge.columns[FinalMerge.columns.str.startswith('spend_')]\n",
    "FinalMerge.drop(unwanted, axis=1, inplace=True)\n",
    "\n",
    "unwanted2 = FinalMerge.columns[FinalMerge.columns.str.endswith('TotalSpend')]\n",
    "FinalMerge.drop(unwanted2, axis=1, inplace=True)\n",
    "\n",
    "unwanted3 = FinalMerge.columns[FinalMerge.columns.str.startswith('q_')]\n",
    "FinalMerge.drop(unwanted3, axis=1, inplace=True)\n",
    "\n",
    "unwanted4 = FinalMerge.columns[FinalMerge.columns.str.startswith('totalcost')]\n",
    "FinalMerge.drop(unwanted4, axis=1, inplace=True)\n",
    "\n",
    "unwanted5 = FinalMerge.columns[FinalMerge.columns.str.startswith('Dataset')]\n",
    "FinalMerge.drop(unwanted5, axis=1, inplace=True)\n",
    "\n",
    "unwanted6 = FinalMerge.columns[FinalMerge.columns.str.startswith('hhsize')]\n",
    "FinalMerge.drop(unwanted6, axis=1, inplace=True)\n",
    "\n",
    "unwanted7 = FinalMerge.columns[FinalMerge.columns.str.startswith('s1q2')]\n",
    "FinalMerge.drop(unwanted7, axis=1, inplace=True)\n",
    "\n",
    "unwanted8 = FinalMerge.columns[FinalMerge.columns.str.startswith('weight')]\n",
    "FinalMerge.drop(unwanted8, axis=1, inplace=True)\n",
    "\n",
    "unwanted9 = FinalMerge.columns[FinalMerge.columns.str.startswith('hhid')]\n",
    "FinalMerge.drop(unwanted9, axis=1, inplace=True)\n",
    "\n",
    "unwanted10 = FinalMerge.columns[FinalMerge.columns.str.startswith('popweight')]\n",
    "FinalMerge.drop(unwanted10, axis=1, inplace=True)\n",
    "\n",
    "unwanted11 = FinalMerge.columns[FinalMerge.columns.str.startswith('hhlocation')]\n",
    "FinalMerge.drop(unwanted11, axis=1, inplace=True)\n",
    "\n",
    "unwanted12 = FinalMerge.columns[FinalMerge.columns.str.startswith('improved_sanitation')]\n",
    "FinalMerge.drop(unwanted12, axis=1, inplace=True)\n",
    "\n",
    "unwanted13 = FinalMerge.columns[FinalMerge.columns.str.startswith('improved_water')]\n",
    "FinalMerge.drop(unwanted13, axis=1, inplace=True)\n",
    "\n",
    "unwanted14 = FinalMerge.columns[FinalMerge.columns.str.startswith('s1q5')]\n",
    "FinalMerge.drop(unwanted14, axis=1, inplace=True)\n",
    "\n",
    "unwanted15 = FinalMerge.columns[FinalMerge.columns.str.startswith('s12q19')]\n",
    "FinalMerge.drop(unwanted15, axis=1, inplace=True)\n",
    "\n",
    "unwanted16 = FinalMerge.columns[FinalMerge.columns.str.startswith('s12q20')]\n",
    "FinalMerge.drop(unwanted16, axis=1, inplace=True)\n",
    "\n",
    "unwanted17 = FinalMerge.columns[FinalMerge.columns.str.startswith('s12q21')]\n",
    "FinalMerge.drop(unwanted17, axis=1, inplace=True)\n",
    "\n",
    "unwanted18 = FinalMerge.columns[FinalMerge.columns.str.startswith('foodspent_localcurrecny')]\n",
    "FinalMerge.drop(unwanted18, axis=1, inplace=True)\n",
    "\n",
    "unwanted19 = FinalMerge.columns[FinalMerge.columns.str.startswith('issue')]\n",
    "FinalMerge.drop(unwanted19, axis=1, inplace=True)\n",
    "\n",
    "unwanted20 = FinalMerge.columns[FinalMerge.columns.str.startswith('cost')]\n",
    "FinalMerge.drop(unwanted20, axis=1, inplace=True)\n",
    "\n",
    "unwanted22 = FinalMerge.columns[FinalMerge.columns.str.startswith('hh_fcon')]\n",
    "FinalMerge.drop(unwanted22, axis=1, inplace=True)\n",
    "\n",
    "unwanted23 = FinalMerge.columns[FinalMerge.columns.str.startswith('hh_nfcon')]\n",
    "FinalMerge.drop(unwanted23, axis=1, inplace=True)\n",
    "\n",
    "unwanted24 = FinalMerge.columns[FinalMerge.columns.str.startswith('childunder5_death5yrs')]\n",
    "FinalMerge.drop(unwanted24, axis=1, inplace=True)\n",
    "\n",
    "#why are there variables that aren't named?\n",
    "Remove_extra_vars = FinalMerge.columns[FinalMerge.columns.str.endswith('_No')]\n",
    "FinalMerge.drop(Remove_extra_vars, axis=1, inplace=True)\n",
    "\n",
    "Remove_extra_vars2 = FinalMerge.columns[FinalMerge.columns.str.endswith('_nan')]\n",
    "FinalMerge.drop(Remove_extra_vars2, axis=1, inplace=True)\n",
    "\n"
   ]
  },
  {
   "cell_type": "code",
   "execution_count": null,
   "metadata": {},
   "outputs": [],
   "source": [
    "Unrestricted = pd.DataFrame(FinalMerge)\n",
    "Unrestricted.head()"
   ]
  },
  {
   "cell_type": "code",
   "execution_count": null,
   "metadata": {},
   "outputs": [],
   "source": [
    "unwanted21 = Unrestricted.columns[Unrestricted.columns.str.startswith('Total_Spend')]\n",
    "Unrestricted.drop(unwanted21, axis=1, inplace=True)\n",
    "Unrestricted"
   ]
  },
  {
   "cell_type": "code",
   "execution_count": 1,
   "metadata": {},
   "outputs": [
    {
     "ename": "NameError",
     "evalue": "name 'Unrestricted' is not defined",
     "output_type": "error",
     "traceback": [
      "\u001b[0;31m---------------------------------------------------------------------------\u001b[0m",
      "\u001b[0;31mNameError\u001b[0m                                 Traceback (most recent call last)",
      "\u001b[0;32m<ipython-input-1-c7c2bec16dac>\u001b[0m in \u001b[0;36m<module>\u001b[0;34m\u001b[0m\n\u001b[0;32m----> 1\u001b[0;31m \u001b[0mprint\u001b[0m\u001b[0;34m(\u001b[0m\u001b[0mUnrestricted\u001b[0m\u001b[0;34m.\u001b[0m\u001b[0mdescribe\u001b[0m\u001b[0;34m(\u001b[0m\u001b[0;34m)\u001b[0m\u001b[0;34m.\u001b[0m\u001b[0mT\u001b[0m\u001b[0;34m[\u001b[0m\u001b[0;34m[\u001b[0m\u001b[0;34m'mean'\u001b[0m\u001b[0;34m,\u001b[0m \u001b[0;34m'std'\u001b[0m\u001b[0;34m,\u001b[0m \u001b[0;34m'count'\u001b[0m\u001b[0;34m]\u001b[0m\u001b[0;34m]\u001b[0m\u001b[0;34m.\u001b[0m\u001b[0mround\u001b[0m\u001b[0;34m(\u001b[0m\u001b[0;36m2\u001b[0m\u001b[0;34m)\u001b[0m\u001b[0;34m.\u001b[0m\u001b[0mto_latex\u001b[0m\u001b[0;34m(\u001b[0m\u001b[0;34m)\u001b[0m\u001b[0;34m)\u001b[0m\u001b[0;34m\u001b[0m\u001b[0;34m\u001b[0m\u001b[0m\n\u001b[0m",
      "\u001b[0;31mNameError\u001b[0m: name 'Unrestricted' is not defined"
     ]
    }
   ],
   "source": [
    "print(Unrestricted.describe().T[['mean', 'std', 'count']].round(2).to_latex())"
   ]
  },
  {
   "cell_type": "code",
   "execution_count": null,
   "metadata": {},
   "outputs": [],
   "source": [
    "\n",
    "print(Unrestricted.describe().T[['mean', 'std', 'count']].set_axis(['Size of Household', 'Head of Household - Female', 'Share of Household - Female',\n",
    "                                                               '% Members Aged 0-4', '% Members Aged 5-9','% Members Aged 10-14', '% Members Aged 15-24', '% Members Aged 25-49',\n",
    "                                                                '% Members Over Age 50', '% Male Members Aged 10-19', '% Female Members Aged 10-19',\n",
    "                                                               '% Male Members Aged 20-49', '% Female Members Aged 20-49', '% Members Age Not Available',  '% Members with No Education',\n",
    "                                                                '% Members with Early Childhood Education', '% Members with Primary Education',\n",
    "                                                                '% Members with Secondary Education',  '% Members with Vocational Education',\n",
    "                                                                '% Members with University Education',  '% Members with Other Education','% Member who Speak', '% Members who Read',  \n",
    "                                                                  '% Members who Write', 'Household Purchased Food in last 7 days', 'Receives Free Food', 'Size of Family 1 ', 'Size of Family 2 ', 'Size of Family 3 ', 'Size of Family 4', \n",
    "                                                                  'Size of Family 5', 'Number of Dwellings', 'Number of Habitable Rooms', \n",
    "                                        'Number of Dwellings', 'Number of Habitable Rooms', 'Owns Floor Material', 'Owns Roof Material', 'Owns Wall Material', 'Drinking Water Source', \n",
    "                                                                  'Toilet Type', 'Lighting Source', 'Household Members Per Room ', 'Livelihood Coping Strategy Index', \n",
    "                                                                  'Asset index based on PCA', 'International Poverty Line (2011)', 'Being below the International Poverty line (2011)'\n",
    "                                                                  'Poverty gap from matched cons aggregate and international Povertly Line', 'Poverty severity from cons aggregate and international Poverty Line', \n",
    "                                                                  'Owns Radio', 'Owns Television', 'Insufficient Drinking Water', 'Owns a Satelite Dish', 'Owns a Smartphone', 'Owns a Refrigerator', 'Owns a Table', 'Owns a Bed',\n",
    "                                                               'Owns a Mattress', 'Owns a Mosquito Net', 'Owns a Fan', 'Owns a Bicycle', 'Owns a Motorcycle',\n",
    "                                                               'Owns a Generator', 'Owns Solar Panels', 'Owns Kerosene Stove', 'Owns Charcoal', 'Owns a Wheelbarrow',\n",
    "                                                               'Owns Iron Fencing', 'Owns Farm Animals', 'Relatives Aborad', 'Relatives Outside Kenya', 'Owns Bank Account', 'Borrowed from Sources Past 12 Months', \n",
    "                                                                  'Borrowed from Bank Past 12 Months', 'Borrowed from Community Past 12 Months', 'Borrowed from Family/Friends Past 12 Months', \n",
    "                                                                  'Remittances from Aborad', 'Purchased Insurance', 'Sell Goods Lack of Food', 'Health and Education Reducation Lack Food', 'Sell Assets Lack Food', \n",
    "                                                                  'Spend Savings Lack Food', 'Borrowed Money Lack Food', 'Sell House/Land Lack Food', 'Withdraw Children From School Lack Food', 'Sells Animals Lack Food', \n",
    "                                                                  'Sell Last Female Animal Lack Food', ' Beg Lack Food', 'Shares Toilet'\n",
    "                                                              \n",
    "                                                                ], axis = 'index').set_axis(['Mean', 'Std', 'N'], axis='columns').round(2).to_latex())"
   ]
  },
  {
   "cell_type": "code",
   "execution_count": null,
   "metadata": {},
   "outputs": [],
   "source": []
  }
 ],
 "metadata": {
  "kernelspec": {
   "display_name": "Python 3",
   "language": "python",
   "name": "python3"
  },
  "language_info": {
   "codemirror_mode": {
    "name": "ipython",
    "version": 3
   },
   "file_extension": ".py",
   "mimetype": "text/x-python",
   "name": "python",
   "nbconvert_exporter": "python",
   "pygments_lexer": "ipython3",
   "version": "3.8.3"
  }
 },
 "nbformat": 4,
 "nbformat_minor": 4
}
