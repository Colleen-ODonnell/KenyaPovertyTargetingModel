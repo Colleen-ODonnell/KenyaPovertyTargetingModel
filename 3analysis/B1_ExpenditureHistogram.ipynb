{
 "cells": [
  {
   "cell_type": "code",
   "execution_count": null,
   "metadata": {},
   "outputs": [],
   "source": [
    "%matplotlib inline\n",
    "\n",
    "import pandas as pd\n",
    "import numpy as np\n",
    "import matplotlib.pyplot as plt\n",
    "\n",
    "from sklearn.preprocessing import scale \n",
    "from sklearn.model_selection import train_test_split\n",
    "from sklearn.linear_model import Ridge, RidgeCV, Lasso, LassoCV\n",
    "\n",
    "from sklearn.metrics import mean_squared_error\n",
    "from sklearn.linear_model import ElasticNet\n",
    "from sklearn.model_selection import GridSearchCV"
   ]
  },
  {
   "cell_type": "code",
   "execution_count": null,
   "metadata": {},
   "outputs": [],
   "source": [
    "FinalMerge = pd.read_excel('../2progs/Excel_Files/C3_FinalMerge.xlsx',sheet_name='Sheet1',index_col = 0)"
   ]
  },
  {
   "cell_type": "code",
   "execution_count": null,
   "metadata": {},
   "outputs": [],
   "source": [
    "ln_expenditure_per_capita = np.log(FinalMerge['Total_Spend']/FinalMerge['size'])"
   ]
  },
  {
   "cell_type": "code",
   "execution_count": null,
   "metadata": {},
   "outputs": [],
   "source": [
    "FinalMerge['ln_expenditure_per_capita'] = ln_expenditure_per_capita\n",
    "FinalMerge[['ln_expenditure_per_capita']].describe().T[['mean', 'std', 'count']].set_axis(['ln Expenditure Per Capita'], \n",
    "axis = 'index').set_axis(['Mean', 'Std', 'N'], axis='columns')\n",
    "ln_expenditure_per_capita.describe()"
   ]
  },
  {
   "cell_type": "code",
   "execution_count": null,
   "metadata": {},
   "outputs": [],
   "source": [
    "fig, ax = plt.subplots(figsize = (10,5))\n",
    "\n",
    "# Plot\n",
    "ln_expenditure_per_capita.plot(kind = \"hist\", density = True, alpha = 0.65, bins = 15, color = \"lightblue\")\n",
    " \n",
    "ln_expenditure_per_capita.plot(kind = \"kde\", color = \"purple\")\n",
    "\n",
    "# Quantile lines\n",
    "quant_25, quant_40, quant_50 = ln_expenditure_per_capita.quantile(0.25),ln_expenditure_per_capita.quantile(0.40), ln_expenditure_per_capita.quantile(0.50)\n",
    "quants = [quant_25, 0.8, 0.26], [quant_40, 1, 0.36],  [quant_50, 0.7, 0.46]\n",
    "for i in quants:\n",
    "    ax.axvline(i[0], alpha = i[1], ymax = i[2], linestyle = \":\", color= \"black\")\n",
    "\n",
    "\n",
    "# X\n",
    "ax.set_xlabel(\"(Ln) Expenditure Per Capita\")\n",
    "x_start, x_end =  2.995732, 11.714163\n",
    "ax.set_xlim(x_start, x_end)\n",
    "\n",
    "# Y\n",
    "ax.set_ylim(0, 1)\n",
    "ax.set_yticklabels([])\n",
    "ax.set_ylabel(\"\")\n",
    "\n",
    "\n",
    "# Annotations\n",
    "ax.text(quant_25-.13, 0.27, \"25th\", size = 11, alpha = 0.85)\n",
    "ax.text(quant_40-.13, 0.37, \"40th\", size = 12, alpha = 1)\n",
    "ax.text(quant_50-.13, 0.47, \"50th\", size = 11, alpha = 0.85)\n",
    "\n",
    "# Overall\n",
    "ax.grid(False)\n",
    "ax.set_title(\"Histogram of (Ln) Expenditure Per Capita\", size = 17, pad = 10)\n",
    "\n",
    "    # Remove ticks and spines\n",
    "ax.tick_params(left = False, bottom = False)\n",
    "for ax, spine in ax.spines.items():\n",
    "    spine.set_visible(False)\n",
    "    \n",
    "plt.show()\n"
   ]
  }
 ],
 "metadata": {
  "kernelspec": {
   "display_name": "Python 3",
   "language": "python",
   "name": "python3"
  },
  "language_info": {
   "codemirror_mode": {
    "name": "ipython",
    "version": 3
   },
   "file_extension": ".py",
   "mimetype": "text/x-python",
   "name": "python",
   "nbconvert_exporter": "python",
   "pygments_lexer": "ipython3",
   "version": "3.8.3"
  }
 },
 "nbformat": 4,
 "nbformat_minor": 4
}
