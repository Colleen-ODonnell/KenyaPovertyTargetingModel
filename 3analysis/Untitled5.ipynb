{
 "cells": [
  {
   "cell_type": "code",
   "execution_count": 2,
   "metadata": {},
   "outputs": [],
   "source": [
    "%matplotlib inline\n",
    "\n",
    "import pandas as pd\n",
    "import numpy as np\n",
    "import matplotlib.pyplot as plt\n",
    "\n",
    "from sklearn.preprocessing import scale \n",
    "from sklearn.model_selection import train_test_split\n",
    "from sklearn.linear_model import Ridge, RidgeCV, Lasso, LassoCV\n",
    "from sklearn.metrics import mean_squared_error\n",
    "from sklearn.linear_model import ElasticNet\n",
    "from sklearn.model_selection import GridSearchCV\n"
   ]
  },
  {
   "cell_type": "code",
   "execution_count": 2,
   "metadata": {},
   "outputs": [],
   "source": [
    "FinalMerge = pd.read_excel('../2progs/FinalMerge.xlsx',sheet_name='Sheet1',index_col = 0)"
   ]
  },
  {
   "cell_type": "code",
   "execution_count": 3,
   "metadata": {},
   "outputs": [],
   "source": [
    "#converting to floats\n",
    "FinalMerge['number_dwellings'] = FinalMerge['number_dwellings'].astype(float)\n",
    "FinalMerge['number_habitablerooms'] = FinalMerge['number_habitablerooms'].astype(float)\n",
    "FinalMerge['share_toilet_Yes'] = FinalMerge['share_toilet_Yes'].astype(float)\n",
    "FinalMerge['own_radio_Yes'] = FinalMerge['own_radio_Yes'].astype(float)\n",
    "FinalMerge['own_television_Yes'] = FinalMerge['own_television_Yes'].astype(float)\n",
    "FinalMerge['own_satelitedish_Yes'] = FinalMerge['own_satelitedish_Yes'].astype(float)\n",
    "FinalMerge['own_smartphone_Yes'] = FinalMerge['own_smartphone_Yes'].astype(float)\n",
    "FinalMerge['own_refrigerator_Yes'] = FinalMerge['own_refrigerator_Yes'].astype(float)\n",
    "FinalMerge['own_table_Yes'] = FinalMerge['own_table_Yes'].astype(float)\n",
    "FinalMerge['own_bed_Yes'] = FinalMerge['own_bed_Yes'].astype(float)\n",
    "FinalMerge['own_mattress_Yes'] = FinalMerge['own_mattress_Yes'].astype(float)\n",
    "FinalMerge['own_mosquitonet_Yes'] = FinalMerge['own_mosquitonet_Yes'].astype(float)\n",
    "FinalMerge['own_mattress_Yes'] = FinalMerge['own_mattress_Yes'].astype(float)\n",
    "FinalMerge['own_fan_Yes'] = FinalMerge['own_fan_Yes'].astype(float)\n",
    "FinalMerge['own_bicycle_Yes'] = FinalMerge['own_bicycle_Yes'].astype(float)\n",
    "FinalMerge['own_motorcycle_Yes'] = FinalMerge['own_motorcycle_Yes'].astype(float)\n",
    "FinalMerge['own_generator_Yes'] = FinalMerge['own_generator_Yes'].astype(float)\n",
    "FinalMerge['own_solarpanels_Yes'] = FinalMerge['own_solarpanels_Yes'].astype(float)\n",
    "FinalMerge['own_kerosenestove_Yes'] = FinalMerge['own_kerosenestove_Yes'].astype(float)\n",
    "FinalMerge['own_charcoaljiko_Yes'] = FinalMerge['own_charcoaljiko_Yes'].astype(float)\n",
    "FinalMerge['own_wheelbarrow_Yes'] = FinalMerge['own_wheelbarrow_Yes'].astype(float)\n",
    "FinalMerge['own_ironfencing_Yes'] = FinalMerge['own_ironfencing_Yes'].astype(float)\n",
    "FinalMerge['own_farmanimals_Yes'] = FinalMerge['own_farmanimals_Yes'].astype(float)\n",
    "FinalMerge['hh_purchasedfood7d_Yes'] = FinalMerge['own_farmanimals_Yes'].astype(float)\n",
    "FinalMerge['foodwasfree_Yes'] = FinalMerge['own_farmanimals_Yes'].astype(float)\n",
    "\n",
    "#for own_car variable, all of them were a no, so they were dropped\n",
    "\n",
    "#Rest of float variables for the unrestricted dataset \n",
    "FinalMerge['headFemale'] = FinalMerge['headFemale'].astype(float)\n",
    "FinalMerge['size'] = FinalMerge['size'].astype(float)\n",
    "FinalMerge['shareWithEarlyChildhood'] = FinalMerge['shareWithEarlyChildhood'].astype(float)\n",
    "FinalMerge['issue'] = FinalMerge['issue'].astype(float)\n",
    "FinalMerge['foodspent_localcurrecny'] = FinalMerge['foodspent_localcurrecny'].astype(float)\n",
    "FinalMerge['familysize1'] = FinalMerge['familysize1'].astype(float)\n",
    "FinalMerge['familysize2'] = FinalMerge['familysize2'].astype(float)\n",
    "FinalMerge['familysize3'] = FinalMerge['familysize3'].astype(float)\n",
    "FinalMerge['familysize4'] = FinalMerge['familysize4'].astype(float)\n",
    "FinalMerge['familysize5'] = FinalMerge['familysize5'].astype(float)\n",
    "FinalMerge['floor_material'] = FinalMerge['floor_material'].astype(float)\n",
    "FinalMerge['roof_material'] = FinalMerge['roof_material'].astype(float)\n",
    "FinalMerge['toilet_type'] = FinalMerge['toilet_type'].astype(float)\n",
    "FinalMerge['lighting_source'] = FinalMerge['lighting_source'].astype(float)\n",
    "FinalMerge['rentpaid_shillings'] = FinalMerge['rentpaid_shillings'].astype(float)\n",
    "FinalMerge['relatives_abroad_Yes'] = FinalMerge['relatives_abroad_Yes'].astype(float)\n",
    "FinalMerge['borrowedfrom_sources12mo_Yes'] = FinalMerge['borrowedfrom_sources12mo_Yes'].astype(float)\n",
    "FinalMerge['borrowedfrom_bank12mo_Yes'] = FinalMerge['borrowedfrom_bank12mo_Yes'].astype(float)\n",
    "FinalMerge['borrowedfrom_community_Yes'] = FinalMerge['borrowedfrom_community_Yes'].astype(float)\n",
    "FinalMerge['borrowedfrom_familyorfriends12mo_Yes'] = FinalMerge['borrowedfrom_familyorfriends12mo_Yes'].astype(float)\n",
    "FinalMerge['remittances_abroad_Yes'] = FinalMerge['remittances_abroad_Yes'].astype(float)\n",
    "FinalMerge['purchased_insurance_Yes'] = FinalMerge['purchased_insurance_Yes'].astype(float)\n",
    "FinalMerge['sellhhgoods_lackfood_Yes'] = FinalMerge['sellhhgoods_lackfood_Yes'].astype(float)\n",
    "FinalMerge['withdrawchildrenschool_lackfood_Yes'] = FinalMerge['withdrawchildrenschool_lackfood_Yes'].astype(float)\n",
    "FinalMerge['sellanimals:lackfood_Yes'] = FinalMerge['sellanimals:lackfood_Yes'].astype(float)\n",
    "FinalMerge['beg_lackfood_Yes'] = FinalMerge['beg_lackfood_Yes'].astype(float)\n",
    "FinalMerge['drikingwater_source'] = FinalMerge['drikingwater_source'].astype(float)\n",
    "FinalMerge['crowdindex_room'] = FinalMerge['crowdindex_room'].astype(float)\n",
    "FinalMerge['LCS_index'] = FinalMerge['LCS_index'].astype(float)\n",
    "FinalMerge['poorIPL'] = FinalMerge['poorIPL'].astype(float)\n",
    "#FinalMerge['childunder5_death5yrs'] = FinalMerge['childunder5_death5yrs'].astype(float)"
   ]
  },
  {
   "cell_type": "code",
   "execution_count": 4,
   "metadata": {},
   "outputs": [],
   "source": [
    "restricted_set = FinalMerge[['number_dwellings', 'number_habitablerooms', 'own_radio_Yes', \n",
    "                                       'own_television_Yes', 'own_satelitedish_Yes', 'own_smartphone_Yes', 'own_refrigerator_Yes',\n",
    "                                      'own_table_Yes', 'own_bed_Yes', 'own_mattress_Yes', 'own_mosquitonet_Yes', 'own_fan_Yes', 'own_bicycle_Yes',\n",
    "                                      'own_motorcycle_Yes', 'own_generator_Yes', 'own_solarpanels_Yes', 'own_kerosenestove_Yes',\n",
    "                                      'own_charcoaljiko_Yes', 'own_wheelbarrow_Yes', 'own_ironfencing_Yes', 'own_farmanimals_Yes', \n",
    "                            'headFemale', 'shareFemale','shareAgeZeroToFour','shareAgeFiveToNine', 'shareAgeTenToFourteen', \n",
    "    'shareAgeFifteenToTwentyfour', 'shareAgeTwentyfivetofourtynine', 'shareAgeFiftyPlus','shareMaleAgeTenToNineteen',\n",
    "    'shareFemaleAgeTenToNineteen', 'shareMaleAgeTwentytoFourtynine', 'shareFemaleAgeTwentytoFourtynine',\n",
    "    'shareWithNoEducation', 'shareWithEarlyChildhood', 'shareWithPrimary', 'shareWithSecondary', 'shareWithVocational',\n",
    "    'shareWithUniversity', 'shareWithOther',  'lighting_source', \n",
    "                            'floor_material', 'roof_material', 'wall_material', 'toilet_type', 'share_toilet_Yes', \n",
    "                             'foodwasfree_Yes','hh_purchasedfood7d_Yes']].fillna(0)"
   ]
  },
  {
   "cell_type": "code",
   "execution_count": 5,
   "metadata": {},
   "outputs": [],
   "source": [
    "ln_expenditure_per_capita = np.log(FinalMerge['Total_Spend']/FinalMerge['size'])"
   ]
  },
  {
   "cell_type": "code",
   "execution_count": 6,
   "metadata": {},
   "outputs": [],
   "source": [
    "y = ln_expenditure_per_capita\n",
    "\n",
    "X = restricted_set"
   ]
  },
  {
   "cell_type": "code",
   "execution_count": 7,
   "metadata": {},
   "outputs": [],
   "source": [
    "alphas = 10**np.linspace(10,-2,100)*0.5"
   ]
  },
  {
   "cell_type": "code",
   "execution_count": 8,
   "metadata": {},
   "outputs": [
    {
     "data": {
      "text/plain": [
       "(100, 48)"
      ]
     },
     "execution_count": 8,
     "metadata": {},
     "output_type": "execute_result"
    }
   ],
   "source": [
    "ridge = Ridge(normalize = True)\n",
    "coefs = []\n",
    "\n",
    "for a in alphas:\n",
    "    ridge.set_params(alpha = a)\n",
    "    ridge.fit(X, y)\n",
    "    coefs.append(ridge.coef_)\n",
    "    \n",
    "np.shape(coefs)"
   ]
  },
  {
   "cell_type": "code",
   "execution_count": 9,
   "metadata": {},
   "outputs": [],
   "source": [
    "X_train, X_test , y_train, y_test = train_test_split(X, y, test_size=0.25, random_state=1)"
   ]
  },
  {
   "cell_type": "code",
   "execution_count": 10,
   "metadata": {},
   "outputs": [
    {
     "data": {
      "text/plain": [
       "0.5748784976988678"
      ]
     },
     "execution_count": 10,
     "metadata": {},
     "output_type": "execute_result"
    }
   ],
   "source": [
    "ridgecv = RidgeCV(alphas = alphas, scoring = 'neg_mean_squared_error', normalize = True)\n",
    "ridgecv.fit(X_train, y_train)\n",
    "ridgecv.alpha_"
   ]
  },
  {
   "cell_type": "code",
   "execution_count": 11,
   "metadata": {},
   "outputs": [
    {
     "data": {
      "text/plain": [
       "0.6479434658191138"
      ]
     },
     "execution_count": 11,
     "metadata": {},
     "output_type": "execute_result"
    }
   ],
   "source": [
    "ridge4 = Ridge(alpha = ridgecv.alpha_, normalize = True)\n",
    "ridge4.fit(X_train, y_train)\n",
    "mean_squared_error(y_test, ridge4.predict(X_test))"
   ]
  },
  {
   "cell_type": "code",
   "execution_count": 12,
   "metadata": {},
   "outputs": [
    {
     "data": {
      "text/plain": [
       "number_dwellings                   -0.074311\n",
       "number_habitablerooms              -0.050730\n",
       "own_radio_Yes                       0.161901\n",
       "own_television_Yes                  0.054973\n",
       "own_satelitedish_Yes                0.254115\n",
       "own_smartphone_Yes                  0.071600\n",
       "own_refrigerator_Yes                0.463507\n",
       "own_table_Yes                       0.070163\n",
       "own_bed_Yes                         0.151545\n",
       "own_mattress_Yes                    0.059690\n",
       "own_mosquitonet_Yes                 0.019906\n",
       "own_fan_Yes                         0.080300\n",
       "own_bicycle_Yes                     0.141958\n",
       "own_motorcycle_Yes                  0.014449\n",
       "own_generator_Yes                  -0.242359\n",
       "own_solarpanels_Yes                -0.003669\n",
       "own_kerosenestove_Yes               0.184599\n",
       "own_charcoaljiko_Yes                0.121127\n",
       "own_wheelbarrow_Yes                 0.163938\n",
       "own_ironfencing_Yes                 0.098235\n",
       "own_farmanimals_Yes                -0.030582\n",
       "headFemale                         -0.042046\n",
       "shareFemale                        -0.075221\n",
       "shareAgeZeroToFour                 -0.330039\n",
       "shareAgeFiveToNine                 -0.320900\n",
       "shareAgeTenToFourteen              -0.239501\n",
       "shareAgeFifteenToTwentyfour         0.261249\n",
       "shareAgeTwentyfivetofourtynine      0.141057\n",
       "shareAgeFiftyPlus                   0.099049\n",
       "shareMaleAgeTenToNineteen           0.009139\n",
       "shareFemaleAgeTenToNineteen        -0.018906\n",
       "shareMaleAgeTwentytoFourtynine      0.152854\n",
       "shareFemaleAgeTwentytoFourtynine    0.410139\n",
       "shareWithNoEducation               -0.171554\n",
       "shareWithEarlyChildhood            -0.700616\n",
       "shareWithPrimary                   -0.100134\n",
       "shareWithSecondary                  0.069620\n",
       "shareWithVocational                 0.357024\n",
       "shareWithUniversity                 0.331213\n",
       "shareWithOther                      0.125996\n",
       "lighting_source                    -0.012706\n",
       "floor_material                      0.024661\n",
       "roof_material                       0.004084\n",
       "wall_material                      -0.061466\n",
       "toilet_type                         0.014249\n",
       "share_toilet_Yes                    0.063833\n",
       "foodwasfree_Yes                    -0.030582\n",
       "hh_purchasedfood7d_Yes             -0.030582\n",
       "dtype: float64"
      ]
     },
     "execution_count": 12,
     "metadata": {},
     "output_type": "execute_result"
    }
   ],
   "source": [
    "ridge4.fit(X, y)\n",
    "pd.Series(ridge4.coef_, index = X.columns)"
   ]
  },
  {
   "cell_type": "code",
   "execution_count": 4,
   "metadata": {},
   "outputs": [
    {
     "ename": "NameError",
     "evalue": "name 'ridge4' is not defined",
     "output_type": "error",
     "traceback": [
      "\u001b[0;31m---------------------------------------------------------------------------\u001b[0m",
      "\u001b[0;31mNameError\u001b[0m                                 Traceback (most recent call last)",
      "\u001b[0;32m<ipython-input-4-b237616129bb>\u001b[0m in \u001b[0;36m<module>\u001b[0;34m\u001b[0m\n\u001b[0;32m----> 1\u001b[0;31m \u001b[0mY_test_ridge\u001b[0m \u001b[0;34m=\u001b[0m \u001b[0mridge4\u001b[0m\u001b[0;34m.\u001b[0m\u001b[0mpredict\u001b[0m\u001b[0;34m(\u001b[0m\u001b[0mX_test\u001b[0m\u001b[0;34m)\u001b[0m\u001b[0;34m\u001b[0m\u001b[0;34m\u001b[0m\u001b[0m\n\u001b[0m",
      "\u001b[0;31mNameError\u001b[0m: name 'ridge4' is not defined"
     ]
    }
   ],
   "source": [
    "Y_test_ridge = ridge4.predict(X_test)"
   ]
  },
  {
   "cell_type": "code",
   "execution_count": 3,
   "metadata": {},
   "outputs": [
    {
     "ename": "NameError",
     "evalue": "name 'zero_one_score' is not defined",
     "output_type": "error",
     "traceback": [
      "\u001b[0;31m---------------------------------------------------------------------------\u001b[0m",
      "\u001b[0;31mNameError\u001b[0m                                 Traceback (most recent call last)",
      "\u001b[0;32m<ipython-input-3-2515606d59be>\u001b[0m in \u001b[0;36m<module>\u001b[0;34m\u001b[0m\n\u001b[0;32m----> 1\u001b[0;31m \u001b[0mzero_one_score\u001b[0m\u001b[0;34m(\u001b[0m\u001b[0mY_test_ridge\u001b[0m\u001b[0;34m,\u001b[0m \u001b[0mFinalMerge\u001b[0m\u001b[0;34m[\u001b[0m\u001b[0;34m'log(Total Spend/capita)'\u001b[0m\u001b[0;34m]\u001b[0m\u001b[0;34m)\u001b[0m\u001b[0;34m\u001b[0m\u001b[0;34m\u001b[0m\u001b[0m\n\u001b[0m",
      "\u001b[0;31mNameError\u001b[0m: name 'zero_one_score' is not defined"
     ]
    }
   ],
   "source": []
  },
  {
   "cell_type": "code",
   "execution_count": null,
   "metadata": {},
   "outputs": [],
   "source": []
  }
 ],
 "metadata": {
  "kernelspec": {
   "display_name": "Python 3",
   "language": "python",
   "name": "python3"
  },
  "language_info": {
   "codemirror_mode": {
    "name": "ipython",
    "version": 3
   },
   "file_extension": ".py",
   "mimetype": "text/x-python",
   "name": "python",
   "nbconvert_exporter": "python",
   "pygments_lexer": "ipython3",
   "version": "3.7.6"
  }
 },
 "nbformat": 4,
 "nbformat_minor": 4
}
