{
 "cells": [
  {
   "cell_type": "code",
   "execution_count": 1,
   "metadata": {},
   "outputs": [],
   "source": [
    "import numpy as np\n",
    "import pandas as pd\n",
    "\n"
   ]
  },
  {
   "cell_type": "code",
   "execution_count": 2,
   "metadata": {},
   "outputs": [],
   "source": [
    "data = pd.DataFrame({'Lasso ': [60.29,48.62,36.76],\n",
    "        'Ridge': [61.76, 44.95, 34.56],\n",
    "        'Elastic Net': [64.71, 45.87, 33.82]\n",
    "       })"
   ]
  },
  {
   "cell_type": "code",
   "execution_count": 3,
   "metadata": {},
   "outputs": [],
   "source": [
    "data.index = ['25%', '40%', '50%']"
   ]
  },
  {
   "cell_type": "code",
   "execution_count": 4,
   "metadata": {},
   "outputs": [],
   "source": [
    "data.index.name = 'Percentile'"
   ]
  },
  {
   "cell_type": "code",
   "execution_count": 5,
   "metadata": {},
   "outputs": [],
   "source": [
    "data.columns.names = ['Restricted Models']"
   ]
  },
  {
   "cell_type": "code",
   "execution_count": 6,
   "metadata": {},
   "outputs": [
    {
     "data": {
      "text/html": [
       "<style  type=\"text/css\" >\n",
       "    #T_2b2db4a0_3bd4_11eb_b768_8c8590cfecd9 caption {\n",
       "          color: Black;\n",
       "          font-size: 16px;\n",
       "    }</style><table id=\"T_2b2db4a0_3bd4_11eb_b768_8c8590cfecd9\" ><caption>Exclusion Error</caption><thead>    <tr>        <th class=\"index_name level0\" >Restricted Models</th>        <th class=\"col_heading level0 col0\" >Lasso </th>        <th class=\"col_heading level0 col1\" >Ridge</th>        <th class=\"col_heading level0 col2\" >Elastic Net</th>    </tr>    <tr>        <th class=\"index_name level0\" >Percentile</th>        <th class=\"blank\" ></th>        <th class=\"blank\" ></th>        <th class=\"blank\" ></th>    </tr></thead><tbody>\n",
       "                <tr>\n",
       "                        <th id=\"T_2b2db4a0_3bd4_11eb_b768_8c8590cfecd9level0_row0\" class=\"row_heading level0 row0\" >25%</th>\n",
       "                        <td id=\"T_2b2db4a0_3bd4_11eb_b768_8c8590cfecd9row0_col0\" class=\"data row0 col0\" >60.290000</td>\n",
       "                        <td id=\"T_2b2db4a0_3bd4_11eb_b768_8c8590cfecd9row0_col1\" class=\"data row0 col1\" >61.760000</td>\n",
       "                        <td id=\"T_2b2db4a0_3bd4_11eb_b768_8c8590cfecd9row0_col2\" class=\"data row0 col2\" >64.710000</td>\n",
       "            </tr>\n",
       "            <tr>\n",
       "                        <th id=\"T_2b2db4a0_3bd4_11eb_b768_8c8590cfecd9level0_row1\" class=\"row_heading level0 row1\" >40%</th>\n",
       "                        <td id=\"T_2b2db4a0_3bd4_11eb_b768_8c8590cfecd9row1_col0\" class=\"data row1 col0\" >48.620000</td>\n",
       "                        <td id=\"T_2b2db4a0_3bd4_11eb_b768_8c8590cfecd9row1_col1\" class=\"data row1 col1\" >44.950000</td>\n",
       "                        <td id=\"T_2b2db4a0_3bd4_11eb_b768_8c8590cfecd9row1_col2\" class=\"data row1 col2\" >45.870000</td>\n",
       "            </tr>\n",
       "            <tr>\n",
       "                        <th id=\"T_2b2db4a0_3bd4_11eb_b768_8c8590cfecd9level0_row2\" class=\"row_heading level0 row2\" >50%</th>\n",
       "                        <td id=\"T_2b2db4a0_3bd4_11eb_b768_8c8590cfecd9row2_col0\" class=\"data row2 col0\" >36.760000</td>\n",
       "                        <td id=\"T_2b2db4a0_3bd4_11eb_b768_8c8590cfecd9row2_col1\" class=\"data row2 col1\" >34.560000</td>\n",
       "                        <td id=\"T_2b2db4a0_3bd4_11eb_b768_8c8590cfecd9row2_col2\" class=\"data row2 col2\" >33.820000</td>\n",
       "            </tr>\n",
       "    </tbody></table>"
      ],
      "text/plain": [
       "<pandas.io.formats.style.Styler at 0x7fe7b156d160>"
      ]
     },
     "execution_count": 6,
     "metadata": {},
     "output_type": "execute_result"
    }
   ],
   "source": [
    "data.style.set_caption(\"Exclusion Error\").set_table_styles([{\n",
    "    'selector': 'caption',\n",
    "    'props': [\n",
    "        ('color', 'Black'),\n",
    "        ('font-size', '16px')\n",
    "    ]\n",
    "}])"
   ]
  },
  {
   "cell_type": "code",
   "execution_count": 7,
   "metadata": {},
   "outputs": [
    {
     "data": {
      "text/html": [
       "<div>\n",
       "<style scoped>\n",
       "    .dataframe tbody tr th:only-of-type {\n",
       "        vertical-align: middle;\n",
       "    }\n",
       "\n",
       "    .dataframe tbody tr th {\n",
       "        vertical-align: top;\n",
       "    }\n",
       "\n",
       "    .dataframe thead th {\n",
       "        text-align: right;\n",
       "    }\n",
       "</style>\n",
       "<table border=\"1\" class=\"dataframe\">\n",
       "  <thead>\n",
       "    <tr style=\"text-align: right;\">\n",
       "      <th>Restricted Models</th>\n",
       "      <th>Lasso</th>\n",
       "      <th>Ridge</th>\n",
       "      <th>Elastic Net</th>\n",
       "    </tr>\n",
       "    <tr>\n",
       "      <th>Percentile</th>\n",
       "      <th></th>\n",
       "      <th></th>\n",
       "      <th></th>\n",
       "    </tr>\n",
       "  </thead>\n",
       "  <tbody>\n",
       "    <tr>\n",
       "      <th>25%</th>\n",
       "      <td>60.29</td>\n",
       "      <td>61.76</td>\n",
       "      <td>64.71</td>\n",
       "    </tr>\n",
       "    <tr>\n",
       "      <th>40%</th>\n",
       "      <td>48.62</td>\n",
       "      <td>44.95</td>\n",
       "      <td>45.87</td>\n",
       "    </tr>\n",
       "    <tr>\n",
       "      <th>50%</th>\n",
       "      <td>36.76</td>\n",
       "      <td>34.56</td>\n",
       "      <td>33.82</td>\n",
       "    </tr>\n",
       "  </tbody>\n",
       "</table>\n",
       "</div>"
      ],
      "text/plain": [
       "Restricted Models  Lasso   Ridge  Elastic Net\n",
       "Percentile                                   \n",
       "25%                 60.29  61.76        64.71\n",
       "40%                 48.62  44.95        45.87\n",
       "50%                 36.76  34.56        33.82"
      ]
     },
     "execution_count": 7,
     "metadata": {},
     "output_type": "execute_result"
    }
   ],
   "source": [
    "data"
   ]
  },
  {
   "cell_type": "code",
   "execution_count": 8,
   "metadata": {},
   "outputs": [],
   "source": [
    "data2 = pd.DataFrame({'Lasso ': [48.52,35.78, 24.26],\n",
    "        'Ridge': [42.64, 31.19, 24.26],\n",
    "        'Elastic Net': [45.59, 32.11, 25.00]\n",
    "       })"
   ]
  },
  {
   "cell_type": "code",
   "execution_count": 9,
   "metadata": {},
   "outputs": [],
   "source": [
    "data2.index = ['25%', '40%', '50%']"
   ]
  },
  {
   "cell_type": "code",
   "execution_count": 10,
   "metadata": {},
   "outputs": [],
   "source": [
    "data2.columns.names = ['Unrestricted Models']"
   ]
  },
  {
   "cell_type": "code",
   "execution_count": 11,
   "metadata": {},
   "outputs": [],
   "source": [
    "data2.index.name = 'Percentile'"
   ]
  },
  {
   "cell_type": "code",
   "execution_count": 12,
   "metadata": {},
   "outputs": [
    {
     "data": {
      "text/html": [
       "<div>\n",
       "<style scoped>\n",
       "    .dataframe tbody tr th:only-of-type {\n",
       "        vertical-align: middle;\n",
       "    }\n",
       "\n",
       "    .dataframe tbody tr th {\n",
       "        vertical-align: top;\n",
       "    }\n",
       "\n",
       "    .dataframe thead th {\n",
       "        text-align: right;\n",
       "    }\n",
       "</style>\n",
       "<table border=\"1\" class=\"dataframe\">\n",
       "  <thead>\n",
       "    <tr style=\"text-align: right;\">\n",
       "      <th>Unrestricted Models</th>\n",
       "      <th>Lasso</th>\n",
       "      <th>Ridge</th>\n",
       "      <th>Elastic Net</th>\n",
       "    </tr>\n",
       "    <tr>\n",
       "      <th>Percentile</th>\n",
       "      <th></th>\n",
       "      <th></th>\n",
       "      <th></th>\n",
       "    </tr>\n",
       "  </thead>\n",
       "  <tbody>\n",
       "    <tr>\n",
       "      <th>25%</th>\n",
       "      <td>48.52</td>\n",
       "      <td>42.64</td>\n",
       "      <td>45.59</td>\n",
       "    </tr>\n",
       "    <tr>\n",
       "      <th>40%</th>\n",
       "      <td>35.78</td>\n",
       "      <td>31.19</td>\n",
       "      <td>32.11</td>\n",
       "    </tr>\n",
       "    <tr>\n",
       "      <th>50%</th>\n",
       "      <td>24.26</td>\n",
       "      <td>24.26</td>\n",
       "      <td>25.00</td>\n",
       "    </tr>\n",
       "  </tbody>\n",
       "</table>\n",
       "</div>"
      ],
      "text/plain": [
       "Unrestricted Models  Lasso   Ridge  Elastic Net\n",
       "Percentile                                     \n",
       "25%                   48.52  42.64        45.59\n",
       "40%                   35.78  31.19        32.11\n",
       "50%                   24.26  24.26        25.00"
      ]
     },
     "execution_count": 12,
     "metadata": {},
     "output_type": "execute_result"
    }
   ],
   "source": [
    "data2.head()"
   ]
  },
  {
   "cell_type": "code",
   "execution_count": 13,
   "metadata": {},
   "outputs": [
    {
     "data": {
      "text/html": [
       "<div>\n",
       "<style scoped>\n",
       "    .dataframe tbody tr th:only-of-type {\n",
       "        vertical-align: middle;\n",
       "    }\n",
       "\n",
       "    .dataframe tbody tr th {\n",
       "        vertical-align: top;\n",
       "    }\n",
       "\n",
       "    .dataframe thead th {\n",
       "        text-align: right;\n",
       "    }\n",
       "</style>\n",
       "<table border=\"1\" class=\"dataframe\">\n",
       "  <thead>\n",
       "    <tr style=\"text-align: right;\">\n",
       "      <th>Unrestricted Models</th>\n",
       "      <th>Lasso</th>\n",
       "      <th>Ridge</th>\n",
       "      <th>Elastic Net</th>\n",
       "    </tr>\n",
       "    <tr>\n",
       "      <th>Percentile</th>\n",
       "      <th></th>\n",
       "      <th></th>\n",
       "      <th></th>\n",
       "    </tr>\n",
       "  </thead>\n",
       "  <tbody>\n",
       "    <tr>\n",
       "      <th>25%</th>\n",
       "      <td>48.52</td>\n",
       "      <td>42.64</td>\n",
       "      <td>45.59</td>\n",
       "    </tr>\n",
       "    <tr>\n",
       "      <th>40%</th>\n",
       "      <td>35.78</td>\n",
       "      <td>31.19</td>\n",
       "      <td>32.11</td>\n",
       "    </tr>\n",
       "    <tr>\n",
       "      <th>50%</th>\n",
       "      <td>24.26</td>\n",
       "      <td>24.26</td>\n",
       "      <td>25.00</td>\n",
       "    </tr>\n",
       "  </tbody>\n",
       "</table>\n",
       "</div>"
      ],
      "text/plain": [
       "Unrestricted Models  Lasso   Ridge  Elastic Net\n",
       "Percentile                                     \n",
       "25%                   48.52  42.64        45.59\n",
       "40%                   35.78  31.19        32.11\n",
       "50%                   24.26  24.26        25.00"
      ]
     },
     "execution_count": 13,
     "metadata": {},
     "output_type": "execute_result"
    }
   ],
   "source": [
    "data2"
   ]
  },
  {
   "cell_type": "code",
   "execution_count": 14,
   "metadata": {},
   "outputs": [
    {
     "data": {
      "text/html": [
       "<div>\n",
       "<style scoped>\n",
       "    .dataframe tbody tr th:only-of-type {\n",
       "        vertical-align: middle;\n",
       "    }\n",
       "\n",
       "    .dataframe tbody tr th {\n",
       "        vertical-align: top;\n",
       "    }\n",
       "\n",
       "    .dataframe thead th {\n",
       "        text-align: right;\n",
       "    }\n",
       "</style>\n",
       "<table border=\"1\" class=\"dataframe\">\n",
       "  <thead>\n",
       "    <tr style=\"text-align: right;\">\n",
       "      <th>Restricted Models</th>\n",
       "      <th>Lasso</th>\n",
       "      <th>Ridge</th>\n",
       "      <th>Elastic Net</th>\n",
       "    </tr>\n",
       "    <tr>\n",
       "      <th>Percentile</th>\n",
       "      <th></th>\n",
       "      <th></th>\n",
       "      <th></th>\n",
       "    </tr>\n",
       "  </thead>\n",
       "  <tbody>\n",
       "    <tr>\n",
       "      <th>25%</th>\n",
       "      <td>60.29</td>\n",
       "      <td>61.76</td>\n",
       "      <td>64.71</td>\n",
       "    </tr>\n",
       "    <tr>\n",
       "      <th>40%</th>\n",
       "      <td>48.62</td>\n",
       "      <td>44.95</td>\n",
       "      <td>45.87</td>\n",
       "    </tr>\n",
       "    <tr>\n",
       "      <th>50%</th>\n",
       "      <td>36.76</td>\n",
       "      <td>34.56</td>\n",
       "      <td>33.82</td>\n",
       "    </tr>\n",
       "  </tbody>\n",
       "</table>\n",
       "</div>"
      ],
      "text/plain": [
       "Restricted Models  Lasso   Ridge  Elastic Net\n",
       "Percentile                                   \n",
       "25%                 60.29  61.76        64.71\n",
       "40%                 48.62  44.95        45.87\n",
       "50%                 36.76  34.56        33.82"
      ]
     },
     "execution_count": 14,
     "metadata": {},
     "output_type": "execute_result"
    }
   ],
   "source": [
    "data"
   ]
  },
  {
   "cell_type": "code",
   "execution_count": 15,
   "metadata": {},
   "outputs": [
    {
     "data": {
      "text/plain": [
       "pandas.core.frame.DataFrame"
      ]
     },
     "execution_count": 15,
     "metadata": {},
     "output_type": "execute_result"
    }
   ],
   "source": [
    "type(data)"
   ]
  },
  {
   "cell_type": "code",
   "execution_count": 17,
   "metadata": {},
   "outputs": [
    {
     "name": "stdout",
     "output_type": "stream",
     "text": [
      "\\begin{tabular}{lrrr}\n",
      "\\toprule\n",
      "Unrestricted Models &  Lasso  &  Ridge &  Elastic Net \\\\\n",
      "Percentile &         &        &              \\\\\n",
      "\\midrule\n",
      "25\\%        &   48.52 &  42.64 &        45.59 \\\\\n",
      "40\\%        &   35.78 &  31.19 &        32.11 \\\\\n",
      "50\\%        &   24.26 &  24.26 &        25.00 \\\\\n",
      "\\bottomrule\n",
      "\\end{tabular}\n",
      "\n"
     ]
    }
   ],
   "source": [
    "print(data2.to_latex())"
   ]
  },
  {
   "cell_type": "code",
   "execution_count": null,
   "metadata": {},
   "outputs": [],
   "source": []
  }
 ],
 "metadata": {
  "kernelspec": {
   "display_name": "Python 3",
   "language": "python",
   "name": "python3"
  },
  "language_info": {
   "codemirror_mode": {
    "name": "ipython",
    "version": 3
   },
   "file_extension": ".py",
   "mimetype": "text/x-python",
   "name": "python",
   "nbconvert_exporter": "python",
   "pygments_lexer": "ipython3",
   "version": "3.8.3"
  }
 },
 "nbformat": 4,
 "nbformat_minor": 4
}
