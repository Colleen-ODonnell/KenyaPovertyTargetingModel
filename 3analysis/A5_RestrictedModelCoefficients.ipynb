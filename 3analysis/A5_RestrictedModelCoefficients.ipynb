{
 "cells": [
  {
   "cell_type": "code",
   "execution_count": 1,
   "metadata": {},
   "outputs": [],
   "source": [
    "%matplotlib inline\n",
    "\n",
    "import pandas as pd\n",
    "import numpy as np\n",
    "import matplotlib.pyplot as plt\n",
    "\n",
    "from sklearn.preprocessing import scale \n",
    "from sklearn.model_selection import train_test_split\n",
    "from sklearn.linear_model import Ridge, RidgeCV, Lasso, LassoCV\n",
    "\n",
    "from sklearn.metrics import mean_squared_error\n",
    "from sklearn.linear_model import ElasticNet\n",
    "from sklearn.model_selection import GridSearchCV"
   ]
  },
  {
   "cell_type": "code",
   "execution_count": 2,
   "metadata": {},
   "outputs": [],
   "source": [
    "FinalMerge = pd.read_excel('../2progs/Excel_Files/C3_FinalMerge.xlsx',sheet_name='Sheet1',index_col = 0)"
   ]
  },
  {
   "cell_type": "code",
   "execution_count": 3,
   "metadata": {},
   "outputs": [
    {
     "ename": "NameError",
     "evalue": "name 'FinalMerge' is not defined",
     "output_type": "error",
     "traceback": [
      "\u001b[0;31m---------------------------------------------------------------------------\u001b[0m",
      "\u001b[0;31mNameError\u001b[0m                                 Traceback (most recent call last)",
      "\u001b[0;32m<ipython-input-3-6af62340839c>\u001b[0m in \u001b[0;36m<module>\u001b[0;34m\u001b[0m\n\u001b[1;32m      1\u001b[0m \u001b[0;31m#converting to floats\u001b[0m\u001b[0;34m\u001b[0m\u001b[0;34m\u001b[0m\u001b[0;34m\u001b[0m\u001b[0m\n\u001b[0;32m----> 2\u001b[0;31m \u001b[0mFinalMerge\u001b[0m\u001b[0;34m[\u001b[0m\u001b[0;34m'number_dwellings'\u001b[0m\u001b[0;34m]\u001b[0m \u001b[0;34m=\u001b[0m \u001b[0mFinalMerge\u001b[0m\u001b[0;34m[\u001b[0m\u001b[0;34m'number_dwellings'\u001b[0m\u001b[0;34m]\u001b[0m\u001b[0;34m.\u001b[0m\u001b[0mastype\u001b[0m\u001b[0;34m(\u001b[0m\u001b[0mfloat\u001b[0m\u001b[0;34m)\u001b[0m\u001b[0;34m\u001b[0m\u001b[0;34m\u001b[0m\u001b[0m\n\u001b[0m\u001b[1;32m      3\u001b[0m \u001b[0mFinalMerge\u001b[0m\u001b[0;34m[\u001b[0m\u001b[0;34m'number_habitablerooms'\u001b[0m\u001b[0;34m]\u001b[0m \u001b[0;34m=\u001b[0m \u001b[0mFinalMerge\u001b[0m\u001b[0;34m[\u001b[0m\u001b[0;34m'number_habitablerooms'\u001b[0m\u001b[0;34m]\u001b[0m\u001b[0;34m.\u001b[0m\u001b[0mastype\u001b[0m\u001b[0;34m(\u001b[0m\u001b[0mfloat\u001b[0m\u001b[0;34m)\u001b[0m\u001b[0;34m\u001b[0m\u001b[0;34m\u001b[0m\u001b[0m\n\u001b[1;32m      4\u001b[0m \u001b[0mFinalMerge\u001b[0m\u001b[0;34m[\u001b[0m\u001b[0;34m'share_toilet_Yes'\u001b[0m\u001b[0;34m]\u001b[0m \u001b[0;34m=\u001b[0m \u001b[0mFinalMerge\u001b[0m\u001b[0;34m[\u001b[0m\u001b[0;34m'share_toilet_Yes'\u001b[0m\u001b[0;34m]\u001b[0m\u001b[0;34m.\u001b[0m\u001b[0mastype\u001b[0m\u001b[0;34m(\u001b[0m\u001b[0mfloat\u001b[0m\u001b[0;34m)\u001b[0m\u001b[0;34m\u001b[0m\u001b[0;34m\u001b[0m\u001b[0m\n\u001b[1;32m      5\u001b[0m \u001b[0mFinalMerge\u001b[0m\u001b[0;34m[\u001b[0m\u001b[0;34m'own_radio_Yes'\u001b[0m\u001b[0;34m]\u001b[0m \u001b[0;34m=\u001b[0m \u001b[0mFinalMerge\u001b[0m\u001b[0;34m[\u001b[0m\u001b[0;34m'own_radio_Yes'\u001b[0m\u001b[0;34m]\u001b[0m\u001b[0;34m.\u001b[0m\u001b[0mastype\u001b[0m\u001b[0;34m(\u001b[0m\u001b[0mfloat\u001b[0m\u001b[0;34m)\u001b[0m\u001b[0;34m\u001b[0m\u001b[0;34m\u001b[0m\u001b[0m\n",
      "\u001b[0;31mNameError\u001b[0m: name 'FinalMerge' is not defined"
     ]
    }
   ],
   "source": [
    "#converting to floats\n",
    "FinalMerge['number_dwellings'] = FinalMerge['number_dwellings'].astype(float)\n",
    "FinalMerge['number_habitablerooms'] = FinalMerge['number_habitablerooms'].astype(float)\n",
    "FinalMerge['share_toilet_Yes'] = FinalMerge['share_toilet_Yes'].astype(float)\n",
    "FinalMerge['own_radio_Yes'] = FinalMerge['own_radio_Yes'].astype(float)\n",
    "FinalMerge['own_television_Yes'] = FinalMerge['own_television_Yes'].astype(float)\n",
    "FinalMerge['own_satelitedish_Yes'] = FinalMerge['own_satelitedish_Yes'].astype(float)\n",
    "FinalMerge['own_smartphone_Yes'] = FinalMerge['own_smartphone_Yes'].astype(float)\n",
    "FinalMerge['own_refrigerator_Yes'] = FinalMerge['own_refrigerator_Yes'].astype(float)\n",
    "FinalMerge['own_table_Yes'] = FinalMerge['own_table_Yes'].astype(float)\n",
    "FinalMerge['own_bed_Yes'] = FinalMerge['own_bed_Yes'].astype(float)\n",
    "FinalMerge['own_mattress_Yes'] = FinalMerge['own_mattress_Yes'].astype(float)\n",
    "FinalMerge['own_mosquitonet_Yes'] = FinalMerge['own_mosquitonet_Yes'].astype(float)\n",
    "FinalMerge['own_mattress_Yes'] = FinalMerge['own_mattress_Yes'].astype(float)\n",
    "FinalMerge['own_fan_Yes'] = FinalMerge['own_fan_Yes'].astype(float)\n",
    "FinalMerge['own_bicycle_Yes'] = FinalMerge['own_bicycle_Yes'].astype(float)\n",
    "FinalMerge['own_motorcycle_Yes'] = FinalMerge['own_motorcycle_Yes'].astype(float)\n",
    "FinalMerge['own_generator_Yes'] = FinalMerge['own_generator_Yes'].astype(float)\n",
    "FinalMerge['own_solarpanels_Yes'] = FinalMerge['own_solarpanels_Yes'].astype(float)\n",
    "FinalMerge['own_kerosenestove_Yes'] = FinalMerge['own_kerosenestove_Yes'].astype(float)\n",
    "FinalMerge['own_charcoaljiko_Yes'] = FinalMerge['own_charcoaljiko_Yes'].astype(float)\n",
    "FinalMerge['own_wheelbarrow_Yes'] = FinalMerge['own_wheelbarrow_Yes'].astype(float)\n",
    "FinalMerge['own_ironfencing_Yes'] = FinalMerge['own_ironfencing_Yes'].astype(float)\n",
    "FinalMerge['own_farmanimals_Yes'] = FinalMerge['own_farmanimals_Yes'].astype(float)\n",
    "FinalMerge['hh_purchasedfood7d_Yes'] = FinalMerge['own_farmanimals_Yes'].astype(float)\n",
    "FinalMerge['foodwasfree_Yes'] = FinalMerge['own_farmanimals_Yes'].astype(float)\n",
    "\n",
    "#for own_car variable, all of them were a no, so they were dropped\n",
    "\n",
    "#Rest of float variables for the unrestricted dataset \n",
    "FinalMerge['headFemale'] = FinalMerge['headFemale'].astype(float)\n",
    "FinalMerge['size'] = FinalMerge['size'].astype(float)\n",
    "FinalMerge['shareWithEarlyChildhood'] = FinalMerge['shareWithEarlyChildhood'].astype(float)\n",
    "FinalMerge['foodspent_localcurrecny'] = FinalMerge['foodspent_localcurrecny'].astype(float)\n",
    "FinalMerge['familysize1'] = FinalMerge['familysize1'].astype(float)\n",
    "FinalMerge['familysize2'] = FinalMerge['familysize2'].astype(float)\n",
    "FinalMerge['familysize3'] = FinalMerge['familysize3'].astype(float)\n",
    "FinalMerge['familysize4'] = FinalMerge['familysize4'].astype(float)\n",
    "FinalMerge['familysize5'] = FinalMerge['familysize5'].astype(float)\n",
    "FinalMerge['floor_material'] = FinalMerge['floor_material'].astype(float)\n",
    "FinalMerge['roof_material'] = FinalMerge['roof_material'].astype(float)\n",
    "FinalMerge['toilet_type'] = FinalMerge['toilet_type'].astype(float)\n",
    "FinalMerge['lighting_source'] = FinalMerge['lighting_source'].astype(float)\n",
    "FinalMerge['rentpaid_shillings'] = FinalMerge['rentpaid_shillings'].astype(float)\n",
    "FinalMerge['relatives_abroad_Yes'] = FinalMerge['relatives_abroad_Yes'].astype(float)\n",
    "FinalMerge['borrowedfrom_sources12mo_Yes'] = FinalMerge['borrowedfrom_sources12mo_Yes'].astype(float)\n",
    "FinalMerge['borrowedfrom_bank12mo_Yes'] = FinalMerge['borrowedfrom_bank12mo_Yes'].astype(float)\n",
    "FinalMerge['borrowedfrom_community_Yes'] = FinalMerge['borrowedfrom_community_Yes'].astype(float)\n",
    "FinalMerge['borrowedfrom_familyorfriends12mo_Yes'] = FinalMerge['borrowedfrom_familyorfriends12mo_Yes'].astype(float)\n",
    "FinalMerge['remittances_abroad_Yes'] = FinalMerge['remittances_abroad_Yes'].astype(float)\n",
    "FinalMerge['purchased_insurance_Yes'] = FinalMerge['purchased_insurance_Yes'].astype(float)\n",
    "FinalMerge['sellhhgoods_lackfood_Yes'] = FinalMerge['sellhhgoods_lackfood_Yes'].astype(float)\n",
    "FinalMerge['withdrawchildrenschool_lackfood_Yes'] = FinalMerge['withdrawchildrenschool_lackfood_Yes'].astype(float)\n",
    "FinalMerge['sellanimals:lackfood_Yes'] = FinalMerge['sellanimals:lackfood_Yes'].astype(float)\n",
    "FinalMerge['beg_lackfood_Yes'] = FinalMerge['beg_lackfood_Yes'].astype(float)\n",
    "FinalMerge['drikingwater_source'] = FinalMerge['drikingwater_source'].astype(float)\n",
    "FinalMerge['crowdindex_room'] = FinalMerge['crowdindex_room'].astype(float)\n",
    "FinalMerge['LCS_index'] = FinalMerge['LCS_index'].astype(float)\n",
    "FinalMerge['poorIPL'] = FinalMerge['poorIPL'].astype(float)\n",
    "FinalMerge['childunder5_death5yrs_Yes'] = FinalMerge['childunder5_death5yrs_Yes'].astype(float)\n",
    "FinalMerge['sellfemaleanimal_last_Yes'] = FinalMerge['sellfemaleanimal_last_Yes'].astype(float)\n",
    "FinalMerge['wall_material'] = FinalMerge['wall_material'].astype(float)\n",
    "FinalMerge['relatives_outsidekenya_Yes'] = FinalMerge['relatives_outsidekenya_Yes'].astype(float)\n",
    "FinalMerge['own_bankaccount_Yes'] = FinalMerge['own_bankaccount_Yes'].astype(float)\n",
    "FinalMerge['healthandeduc_reduction_Yes'] = FinalMerge['healthandeduc_reduction_Yes'].astype(float)\n",
    "FinalMerge['own_bankaccount_Yes'] = FinalMerge['own_bankaccount_Yes'].astype(float)\n",
    "FinalMerge['sellassets_lackfood_Yes'] = FinalMerge['sellassets_lackfood_Yes'].astype(float)\n",
    "FinalMerge['borrowmoneyfood_lackfood_Yes'] = FinalMerge['borrowmoneyfood_lackfood_Yes'].astype(float)\n",
    "FinalMerge['sellhouseland_lackfood_Yes'] = FinalMerge['sellhouseland_lackfood_Yes'].astype(float)\n",
    "FinalMerge['spendsavings:lackfood_Yes'] = FinalMerge['spendsavings:lackfood_Yes'].astype(float)\n",
    "FinalMerge['drinkingwater_insufficientquanities_Yes'] = FinalMerge['drinkingwater_insufficientquanities_Yes'].astype(float)\n",
    "FinalMerge['childunder5_death5yrs'] = FinalMerge['childunder5_death5yrs_Yes'].astype(float)"
   ]
  },
  {
   "cell_type": "code",
   "execution_count": 4,
   "metadata": {},
   "outputs": [
    {
     "ename": "NameError",
     "evalue": "name 'FinalMerge' is not defined",
     "output_type": "error",
     "traceback": [
      "\u001b[0;31m---------------------------------------------------------------------------\u001b[0m",
      "\u001b[0;31mNameError\u001b[0m                                 Traceback (most recent call last)",
      "\u001b[0;32m<ipython-input-4-faa383e4cd30>\u001b[0m in \u001b[0;36m<module>\u001b[0;34m\u001b[0m\n\u001b[0;32m----> 1\u001b[0;31m restricted_set = FinalMerge[['number_dwellings', 'number_habitablerooms', 'own_radio_Yes', \n\u001b[0m\u001b[1;32m      2\u001b[0m                                        \u001b[0;34m'own_television_Yes'\u001b[0m\u001b[0;34m,\u001b[0m \u001b[0;34m'own_satelitedish_Yes'\u001b[0m\u001b[0;34m,\u001b[0m \u001b[0;34m'own_smartphone_Yes'\u001b[0m\u001b[0;34m,\u001b[0m \u001b[0;34m'own_refrigerator_Yes'\u001b[0m\u001b[0;34m,\u001b[0m\u001b[0;34m\u001b[0m\u001b[0;34m\u001b[0m\u001b[0m\n\u001b[1;32m      3\u001b[0m                                       \u001b[0;34m'own_table_Yes'\u001b[0m\u001b[0;34m,\u001b[0m \u001b[0;34m'own_bed_Yes'\u001b[0m\u001b[0;34m,\u001b[0m \u001b[0;34m'own_mattress_Yes'\u001b[0m\u001b[0;34m,\u001b[0m \u001b[0;34m'own_mosquitonet_Yes'\u001b[0m\u001b[0;34m,\u001b[0m \u001b[0;34m'own_fan_Yes'\u001b[0m\u001b[0;34m,\u001b[0m \u001b[0;34m'own_bicycle_Yes'\u001b[0m\u001b[0;34m,\u001b[0m\u001b[0;34m\u001b[0m\u001b[0;34m\u001b[0m\u001b[0m\n\u001b[1;32m      4\u001b[0m                                       \u001b[0;34m'own_motorcycle_Yes'\u001b[0m\u001b[0;34m,\u001b[0m \u001b[0;34m'own_generator_Yes'\u001b[0m\u001b[0;34m,\u001b[0m \u001b[0;34m'own_solarpanels_Yes'\u001b[0m\u001b[0;34m,\u001b[0m \u001b[0;34m'own_kerosenestove_Yes'\u001b[0m\u001b[0;34m,\u001b[0m\u001b[0;34m\u001b[0m\u001b[0;34m\u001b[0m\u001b[0m\n\u001b[1;32m      5\u001b[0m                                       \u001b[0;34m'own_charcoaljiko_Yes'\u001b[0m\u001b[0;34m,\u001b[0m \u001b[0;34m'own_wheelbarrow_Yes'\u001b[0m\u001b[0;34m,\u001b[0m \u001b[0;34m'own_ironfencing_Yes'\u001b[0m\u001b[0;34m,\u001b[0m \u001b[0;34m'own_farmanimals_Yes'\u001b[0m\u001b[0;34m,\u001b[0m\u001b[0;34m\u001b[0m\u001b[0;34m\u001b[0m\u001b[0m\n",
      "\u001b[0;31mNameError\u001b[0m: name 'FinalMerge' is not defined"
     ]
    }
   ],
   "source": [
    "restricted_set = FinalMerge[['number_dwellings', 'number_habitablerooms', 'own_radio_Yes', \n",
    "                                       'own_television_Yes', 'own_satelitedish_Yes', 'own_smartphone_Yes', 'own_refrigerator_Yes',\n",
    "                                      'own_table_Yes', 'own_bed_Yes', 'own_mattress_Yes', 'own_mosquitonet_Yes', 'own_fan_Yes', 'own_bicycle_Yes',\n",
    "                                      'own_motorcycle_Yes', 'own_generator_Yes', 'own_solarpanels_Yes', 'own_kerosenestove_Yes',\n",
    "                                      'own_charcoaljiko_Yes', 'own_wheelbarrow_Yes', 'own_ironfencing_Yes', 'own_farmanimals_Yes', \n",
    "                            'headFemale', 'shareFemale','shareAgeZeroToFour','shareAgeFiveToNine', 'shareAgeTenToFourteen', \n",
    "    'shareAgeFifteenToTwentyfour', 'shareAgeTwentyfivetofourtynine', 'shareAgeFiftyPlus','shareMaleAgeTenToNineteen',\n",
    "    'shareFemaleAgeTenToNineteen', 'shareMaleAgeTwentytoFourtynine', 'shareFemaleAgeTwentytoFourtynine',\n",
    "    'shareWithNoEducation', 'shareWithEarlyChildhood', 'shareWithPrimary', 'shareWithSecondary', 'shareWithVocational',\n",
    "    'shareWithUniversity', 'shareWithOther',  'lighting_source', \n",
    "                            'floor_material', 'roof_material', 'wall_material', 'toilet_type', 'share_toilet_Yes', \n",
    "                             'foodwasfree_Yes','hh_purchasedfood7d_Yes']].fillna(0)\n",
    "\n",
    "\n",
    "#Error rates: \n",
    "#use model coefficients to predict log expenditure in dataset----will have actual and predicted expenditure\n",
    "#get metric: of the lowest 25% in terms of actual expenditure (1100/4), \n",
    "#how many of those are correctly predicted to be in the lowest 25% in predicted column\n",
    "#2/3 if 2 out 3 people write, 1/3 would be exclusion error (inverse is exclusion error)\n",
    "#want 25% to be flexible, adjust to 10%, 40% etc. \n",
    "#do test train split at 75% train, 25% test"
   ]
  },
  {
   "cell_type": "code",
   "execution_count": 5,
   "metadata": {},
   "outputs": [
    {
     "ename": "NameError",
     "evalue": "name 'FinalMerge' is not defined",
     "output_type": "error",
     "traceback": [
      "\u001b[0;31m---------------------------------------------------------------------------\u001b[0m",
      "\u001b[0;31mNameError\u001b[0m                                 Traceback (most recent call last)",
      "\u001b[0;32m<ipython-input-5-d77514431353>\u001b[0m in \u001b[0;36m<module>\u001b[0;34m\u001b[0m\n\u001b[0;32m----> 1\u001b[0;31m \u001b[0mln_expenditure_per_capita\u001b[0m \u001b[0;34m=\u001b[0m \u001b[0mnp\u001b[0m\u001b[0;34m.\u001b[0m\u001b[0mlog\u001b[0m\u001b[0;34m(\u001b[0m\u001b[0mFinalMerge\u001b[0m\u001b[0;34m[\u001b[0m\u001b[0;34m'Total_Spend'\u001b[0m\u001b[0;34m]\u001b[0m\u001b[0;34m/\u001b[0m\u001b[0mFinalMerge\u001b[0m\u001b[0;34m[\u001b[0m\u001b[0;34m'size'\u001b[0m\u001b[0;34m]\u001b[0m\u001b[0;34m)\u001b[0m\u001b[0;34m\u001b[0m\u001b[0;34m\u001b[0m\u001b[0m\n\u001b[0m",
      "\u001b[0;31mNameError\u001b[0m: name 'FinalMerge' is not defined"
     ]
    }
   ],
   "source": [
    "ln_expenditure_per_capita = np.log(FinalMerge['Total_Spend']/FinalMerge['size'])"
   ]
  },
  {
   "cell_type": "code",
   "execution_count": null,
   "metadata": {},
   "outputs": [],
   "source": [
    "y = ln_expenditure_per_capita\n",
    "\n",
    "X = restricted_set\n"
   ]
  },
  {
   "cell_type": "code",
   "execution_count": null,
   "metadata": {},
   "outputs": [],
   "source": [
    "#Ridge Model - restricted set\n",
    "alphas = 10**np.linspace(10,-2,100)*0.5\n",
    "#generate an array of alpha values ranging from very big to very small, essentially covering the \n",
    "#full range of scenarios from the null model containing only the intercept, to the least squares fit\n",
    "alphas"
   ]
  },
  {
   "cell_type": "code",
   "execution_count": null,
   "metadata": {},
   "outputs": [],
   "source": [
    "ridge = Ridge(normalize = True)\n",
    "coefs = []\n",
    "\n",
    "for a in alphas:\n",
    "    ridge.set_params(alpha = a)\n",
    "    ridge.fit(X, y)\n",
    "    coefs.append(ridge.coef_)\n",
    "    \n",
    "np.shape(coefs)"
   ]
  },
  {
   "cell_type": "code",
   "execution_count": null,
   "metadata": {},
   "outputs": [],
   "source": [
    "# Split data into training and test sets\n",
    "X_train, X_test , y_train, y_test = train_test_split(X, y, test_size=0.25, random_state=1)"
   ]
  },
  {
   "cell_type": "code",
   "execution_count": null,
   "metadata": {},
   "outputs": [],
   "source": [
    "#cross validation to choose optimal alpha\n",
    "\n",
    "ridgecv = RidgeCV(alphas = alphas, scoring = 'neg_mean_squared_error', normalize = True)\n",
    "ridgecv.fit(X_train, y_train)\n",
    "ridgecv.alpha_"
   ]
  },
  {
   "cell_type": "code",
   "execution_count": null,
   "metadata": {},
   "outputs": [],
   "source": [
    "#Test MSE w/ optimal alpha\n",
    "\n",
    "ridge4 = Ridge(alpha = ridgecv.alpha_, normalize = True)\n",
    "ridge4.fit(X_train, y_train)\n",
    "mean_squared_error(y_test, ridge4.predict(X_test))"
   ]
  },
  {
   "cell_type": "code",
   "execution_count": null,
   "metadata": {},
   "outputs": [],
   "source": [
    "#Fit ridge model w/ optimal alpha \n",
    "ridge4.fit(X, y)\n",
    "ridge_rest_coeff = pd.DataFrame() \n",
    "ridge_rest_coeff[\"Restricted Dataset Variables\"] = X_train.columns \n",
    "ridge_rest_coeff['Ridge Coefficents'] = pd.Series(ridge4.coef_).round(2) \n",
    "ridge_rest_coeff\n",
    "#print(ridgeRest.round(2).to_latex())\n",
    "#generator---negative, double check definition, look at reads/speaks/writes variables---speaks shouldn't be negative\n",
    "#are there a lot of missing values? \n",
    "#remove speaks, reads, writes from restricted set"
   ]
  },
  {
   "cell_type": "code",
   "execution_count": null,
   "metadata": {},
   "outputs": [],
   "source": [
    "#Lasso Model - restricted set\n",
    "alphas = 10**np.linspace(10,-2,100)*0.5"
   ]
  },
  {
   "cell_type": "code",
   "execution_count": null,
   "metadata": {},
   "outputs": [],
   "source": [
    "X_train, X_test , y_train, y_test = train_test_split(X, y, test_size=0.25, random_state=1)"
   ]
  },
  {
   "cell_type": "code",
   "execution_count": null,
   "metadata": {},
   "outputs": [],
   "source": [
    "lasso = Lasso(max_iter = 10000, normalize = True)\n",
    "coefs = []\n",
    "\n",
    "for a in alphas:\n",
    "    lasso.set_params(alpha=a)\n",
    "    lasso.fit(scale(X_train), y_train)\n",
    "    coefs.append(lasso.coef_)\n",
    "    \n",
    "ax = plt.gca()\n",
    "ax.plot(alphas*2, coefs)\n",
    "ax.set_xscale('log')\n",
    "plt.axis('tight')\n",
    "plt.xlabel('alpha')\n",
    "plt.ylabel('weights')\n"
   ]
  },
  {
   "cell_type": "code",
   "execution_count": null,
   "metadata": {},
   "outputs": [],
   "source": [
    "lassocv = LassoCV(alphas = None, cv = 10, max_iter = 100000, normalize = True)\n",
    "lassocv.fit(X_train, y_train)\n",
    "\n",
    "lasso.set_params(alpha=lassocv.alpha_)\n",
    "lasso.fit(X_train, y_train)\n",
    "mean_squared_error(y_test, lasso.predict(X_test))"
   ]
  },
  {
   "cell_type": "code",
   "execution_count": null,
   "metadata": {},
   "outputs": [],
   "source": [
    "# Some of the coefficients are now reduced to exactly zero.\n",
    "lasso_rest_coeff = pd.DataFrame() \n",
    "lasso_rest_coeff[\"Restricted Dataset Variables\"] = X_train.columns \n",
    "lasso_rest_coeff['Lasso Coefficients'] = pd.Series(lasso.coef_).round(2) \n",
    "lasso_rest_coeff\n",
    "#print(pd.Series(lasso.coef_, index=X.columns).round(2).to_latex())\n",
    "\n",
    "#table for ridge coefficients conditional on alpha, same w/ lasso, have error metrics for lasso and ridge"
   ]
  },
  {
   "cell_type": "code",
   "execution_count": null,
   "metadata": {},
   "outputs": [],
   "source": [
    "#Ride Model\n",
    "X_train, X_test , y_train, y_test = train_test_split(X, y, test_size=0.25, random_state=1)"
   ]
  },
  {
   "cell_type": "code",
   "execution_count": null,
   "metadata": {},
   "outputs": [],
   "source": [
    "#Testing Alphas for Net Elastic Model\"\n",
    "alphas = [0.0001, 0.001, 0.01, 0.1, 0.3, 0.5, 0.7, 1]\n",
    "\n",
    "for a in alphas:\n",
    "    model = ElasticNet(alpha= a).fit(X,y)   \n",
    "    score = model.score(X, y)\n",
    "    pred_y = model.predict(X)\n",
    "    mse = mean_squared_error(y, pred_y)   \n",
    "    print(\"Alpha:{0:.4f}, R2:{1:.2f}, MSE:{2:.2f}, RMSE:{3:.2f}\"\n",
    "       .format(a, score, mse, np.sqrt(mse)))"
   ]
  },
  {
   "cell_type": "code",
   "execution_count": null,
   "metadata": {},
   "outputs": [],
   "source": [
    "#Testing Best Alpha \n",
    "elastic=ElasticNet(normalize=True)\n",
    "search=GridSearchCV(estimator=elastic,param_grid={'alpha':np.logspace(-5,2,8),\n",
    "        'l1_ratio':[.1,.2,.25,.4,.5,.6,.75,.8]},scoring='neg_mean_squared_error',n_jobs=1,refit=True,cv=10)\n",
    "search.fit(X,y)\n",
    "search.best_params_ "
   ]
  },
  {
   "cell_type": "code",
   "execution_count": null,
   "metadata": {},
   "outputs": [],
   "source": [
    "abs(search.best_score_)"
   ]
  },
  {
   "cell_type": "code",
   "execution_count": 6,
   "metadata": {},
   "outputs": [
    {
     "ename": "NameError",
     "evalue": "name 'X_train' is not defined",
     "output_type": "error",
     "traceback": [
      "\u001b[0;31m---------------------------------------------------------------------------\u001b[0m",
      "\u001b[0;31mNameError\u001b[0m                                 Traceback (most recent call last)",
      "\u001b[0;32m<ipython-input-6-3c467ba5283a>\u001b[0m in \u001b[0;36m<module>\u001b[0;34m\u001b[0m\n\u001b[1;32m      1\u001b[0m \u001b[0;31m# Train the model\u001b[0m\u001b[0;34m\u001b[0m\u001b[0;34m\u001b[0m\u001b[0;34m\u001b[0m\u001b[0m\n\u001b[1;32m      2\u001b[0m \u001b[0me_net\u001b[0m\u001b[0;34m=\u001b[0m \u001b[0mElasticNet\u001b[0m\u001b[0;34m(\u001b[0m\u001b[0malpha\u001b[0m \u001b[0;34m=\u001b[0m \u001b[0;36m0.01\u001b[0m\u001b[0;34m)\u001b[0m\u001b[0;34m\u001b[0m\u001b[0;34m\u001b[0m\u001b[0m\n\u001b[0;32m----> 3\u001b[0;31m \u001b[0me_net\u001b[0m\u001b[0;34m.\u001b[0m\u001b[0mfit\u001b[0m\u001b[0;34m(\u001b[0m\u001b[0mX_train\u001b[0m\u001b[0;34m,\u001b[0m \u001b[0my_train\u001b[0m\u001b[0;34m)\u001b[0m\u001b[0;34m\u001b[0m\u001b[0;34m\u001b[0m\u001b[0m\n\u001b[0m\u001b[1;32m      4\u001b[0m \u001b[0;34m\u001b[0m\u001b[0m\n\u001b[1;32m      5\u001b[0m \u001b[0;31m# calculate the prediction and mean square error\u001b[0m\u001b[0;34m\u001b[0m\u001b[0;34m\u001b[0m\u001b[0;34m\u001b[0m\u001b[0m\n",
      "\u001b[0;31mNameError\u001b[0m: name 'X_train' is not defined"
     ]
    }
   ],
   "source": [
    "# Train the model \n",
    "e_net= ElasticNet(alpha = 0.01) \n",
    "e_net.fit(X_train, y_train) \n",
    "  \n",
    "# calculate the prediction and mean square error \n",
    "y_pred_elastic = e_net.predict(X_test) \n",
    "mean_squared_error = np.mean((y_pred_elastic - y_test)**2) \n",
    "print(\"Mean Squared Error on test set\", mean_squared_error) \n",
    "  \n",
    "e_net_coeff = pd.DataFrame() \n",
    "e_net_coeff[\"Restricted Dataset Variables\"] = X_train.columns \n",
    "e_net_coeff['Elastic Net Coefficients'] = pd.Series(e_net.coef_).round(2) \n",
    "e_net_coeff "
   ]
  },
  {
   "cell_type": "code",
   "execution_count": null,
   "metadata": {},
   "outputs": [],
   "source": [
    "plt.figure(figsize= (15,10))\n",
    "plt_figure= pd.Series(e_net.coef_, index= X.columns)\n",
    "plt_figure.plot(kind='barh')\n",
    "plt.show()"
   ]
  },
  {
   "cell_type": "code",
   "execution_count": null,
   "metadata": {},
   "outputs": [],
   "source": [
    "#Table 4 in Appendix\n",
    "merged_ridgerest_lassorest = pd.merge(ridge_rest_coeff,lasso_rest_coeff,how='inner',on='Restricted Dataset Variables')\n",
    "\n",
    "merged_coefficients_restricted = pd.merge(merged_ridgerest_lassorest,e_net_coeff ,how='inner',on='Restricted Dataset Variables')\n",
    "print(merged_coefficients_restricted.to_latex())\n"
   ]
  },
  {
   "cell_type": "code",
   "execution_count": null,
   "metadata": {},
   "outputs": [],
   "source": []
  },
  {
   "cell_type": "code",
   "execution_count": null,
   "metadata": {},
   "outputs": [],
   "source": []
  }
 ],
 "metadata": {
  "kernelspec": {
   "display_name": "Python 3",
   "language": "python",
   "name": "python3"
  },
  "language_info": {
   "codemirror_mode": {
    "name": "ipython",
    "version": 3
   },
   "file_extension": ".py",
   "mimetype": "text/x-python",
   "name": "python",
   "nbconvert_exporter": "python",
   "pygments_lexer": "ipython3",
   "version": "3.7.6"
  }
 },
 "nbformat": 4,
 "nbformat_minor": 4
}
