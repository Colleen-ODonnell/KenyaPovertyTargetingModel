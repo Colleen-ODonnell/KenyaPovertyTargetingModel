{
 "cells": [
  {
   "cell_type": "code",
   "execution_count": 1,
   "metadata": {},
   "outputs": [],
   "source": [
    "%matplotlib inline\n",
    "\n",
    "import pandas as pd\n",
    "import numpy as np\n",
    "import matplotlib.pyplot as plt\n",
    "\n",
    "from sklearn.preprocessing import scale \n",
    "from sklearn.model_selection import train_test_split\n",
    "from sklearn.linear_model import Ridge, RidgeCV, Lasso, LassoCV\n",
    "\n",
    "from sklearn.metrics import mean_squared_error\n",
    "from sklearn.linear_model import ElasticNet\n",
    "from sklearn.model_selection import GridSearchCV"
   ]
  },
  {
   "cell_type": "code",
   "execution_count": null,
   "metadata": {},
   "outputs": [],
   "source": [
    "FinalMerge = pd.read_excel('../2progs/Excel_Files/C3_FinalMerge.xlsx',sheet_name='Sheet1',index_col = 0)"
   ]
  },
  {
   "cell_type": "code",
   "execution_count": null,
   "metadata": {},
   "outputs": [],
   "source": [
    "#converting to floats\n",
    "FinalMerge['number_dwellings'] = FinalMerge['number_dwellings'].astype(float)\n",
    "FinalMerge['number_habitablerooms'] = FinalMerge['number_habitablerooms'].astype(float)\n",
    "FinalMerge['share_toilet_Yes'] = FinalMerge['share_toilet_Yes'].astype(float)\n",
    "FinalMerge['own_radio_Yes'] = FinalMerge['own_radio_Yes'].astype(float)\n",
    "FinalMerge['own_television_Yes'] = FinalMerge['own_television_Yes'].astype(float)\n",
    "FinalMerge['own_satelitedish_Yes'] = FinalMerge['own_satelitedish_Yes'].astype(float)\n",
    "FinalMerge['own_smartphone_Yes'] = FinalMerge['own_smartphone_Yes'].astype(float)\n",
    "FinalMerge['own_refrigerator_Yes'] = FinalMerge['own_refrigerator_Yes'].astype(float)\n",
    "FinalMerge['own_table_Yes'] = FinalMerge['own_table_Yes'].astype(float)\n",
    "FinalMerge['own_bed_Yes'] = FinalMerge['own_bed_Yes'].astype(float)\n",
    "FinalMerge['own_mattress_Yes'] = FinalMerge['own_mattress_Yes'].astype(float)\n",
    "FinalMerge['own_mosquitonet_Yes'] = FinalMerge['own_mosquitonet_Yes'].astype(float)\n",
    "FinalMerge['own_mattress_Yes'] = FinalMerge['own_mattress_Yes'].astype(float)\n",
    "FinalMerge['own_fan_Yes'] = FinalMerge['own_fan_Yes'].astype(float)\n",
    "FinalMerge['own_bicycle_Yes'] = FinalMerge['own_bicycle_Yes'].astype(float)\n",
    "FinalMerge['own_motorcycle_Yes'] = FinalMerge['own_motorcycle_Yes'].astype(float)\n",
    "FinalMerge['own_generator_Yes'] = FinalMerge['own_generator_Yes'].astype(float)\n",
    "FinalMerge['own_solarpanels_Yes'] = FinalMerge['own_solarpanels_Yes'].astype(float)\n",
    "FinalMerge['own_kerosenestove_Yes'] = FinalMerge['own_kerosenestove_Yes'].astype(float)\n",
    "FinalMerge['own_charcoaljiko_Yes'] = FinalMerge['own_charcoaljiko_Yes'].astype(float)\n",
    "FinalMerge['own_wheelbarrow_Yes'] = FinalMerge['own_wheelbarrow_Yes'].astype(float)\n",
    "FinalMerge['own_ironfencing_Yes'] = FinalMerge['own_ironfencing_Yes'].astype(float)\n",
    "FinalMerge['own_farmanimals_Yes'] = FinalMerge['own_farmanimals_Yes'].astype(float)\n",
    "FinalMerge['hh_purchasedfood7d_Yes'] = FinalMerge['own_farmanimals_Yes'].astype(float)\n",
    "FinalMerge['foodwasfree_Yes'] = FinalMerge['own_farmanimals_Yes'].astype(float)\n",
    "\n",
    "#for own_car variable, all of them were a no, so they were dropped\n",
    "\n",
    "#Rest of float variables for the unrestricted dataset \n",
    "FinalMerge['headFemale'] = FinalMerge['headFemale'].astype(float)\n",
    "FinalMerge['size'] = FinalMerge['size'].astype(float)\n",
    "FinalMerge['shareWithEarlyChildhood'] = FinalMerge['shareWithEarlyChildhood'].astype(float)\n",
    "FinalMerge['foodspent_localcurrecny'] = FinalMerge['foodspent_localcurrecny'].astype(float)\n",
    "FinalMerge['familysize1'] = FinalMerge['familysize1'].astype(float)\n",
    "FinalMerge['familysize2'] = FinalMerge['familysize2'].astype(float)\n",
    "FinalMerge['familysize3'] = FinalMerge['familysize3'].astype(float)\n",
    "FinalMerge['familysize4'] = FinalMerge['familysize4'].astype(float)\n",
    "FinalMerge['familysize5'] = FinalMerge['familysize5'].astype(float)\n",
    "FinalMerge['floor_material'] = FinalMerge['floor_material'].astype(float)\n",
    "FinalMerge['roof_material'] = FinalMerge['roof_material'].astype(float)\n",
    "FinalMerge['toilet_type'] = FinalMerge['toilet_type'].astype(float)\n",
    "FinalMerge['lighting_source'] = FinalMerge['lighting_source'].astype(float)\n",
    "FinalMerge['rentpaid_shillings'] = FinalMerge['rentpaid_shillings'].astype(float)\n",
    "FinalMerge['relatives_abroad_Yes'] = FinalMerge['relatives_abroad_Yes'].astype(float)\n",
    "FinalMerge['borrowedfrom_sources12mo_Yes'] = FinalMerge['borrowedfrom_sources12mo_Yes'].astype(float)\n",
    "FinalMerge['borrowedfrom_bank12mo_Yes'] = FinalMerge['borrowedfrom_bank12mo_Yes'].astype(float)\n",
    "FinalMerge['borrowedfrom_community_Yes'] = FinalMerge['borrowedfrom_community_Yes'].astype(float)\n",
    "FinalMerge['borrowedfrom_familyorfriends12mo_Yes'] = FinalMerge['borrowedfrom_familyorfriends12mo_Yes'].astype(float)\n",
    "FinalMerge['remittances_abroad_Yes'] = FinalMerge['remittances_abroad_Yes'].astype(float)\n",
    "FinalMerge['purchased_insurance_Yes'] = FinalMerge['purchased_insurance_Yes'].astype(float)\n",
    "FinalMerge['sellhhgoods_lackfood_Yes'] = FinalMerge['sellhhgoods_lackfood_Yes'].astype(float)\n",
    "FinalMerge['withdrawchildrenschool_lackfood_Yes'] = FinalMerge['withdrawchildrenschool_lackfood_Yes'].astype(float)\n",
    "FinalMerge['sellanimals:lackfood_Yes'] = FinalMerge['sellanimals:lackfood_Yes'].astype(float)\n",
    "FinalMerge['beg_lackfood_Yes'] = FinalMerge['beg_lackfood_Yes'].astype(float)\n",
    "FinalMerge['drikingwater_source'] = FinalMerge['drikingwater_source'].astype(float)\n",
    "FinalMerge['crowdindex_room'] = FinalMerge['crowdindex_room'].astype(float)\n",
    "FinalMerge['LCS_index'] = FinalMerge['LCS_index'].astype(float)\n",
    "FinalMerge['poorIPL'] = FinalMerge['poorIPL'].astype(float)\n",
    "FinalMerge['childunder5_death5yrs_Yes'] = FinalMerge['childunder5_death5yrs_Yes'].astype(float)\n",
    "FinalMerge['sellfemaleanimal_last_Yes'] = FinalMerge['sellfemaleanimal_last_Yes'].astype(float)\n",
    "FinalMerge['wall_material'] = FinalMerge['wall_material'].astype(float)\n",
    "FinalMerge['relatives_outsidekenya_Yes'] = FinalMerge['relatives_outsidekenya_Yes'].astype(float)\n",
    "FinalMerge['own_bankaccount_Yes'] = FinalMerge['own_bankaccount_Yes'].astype(float)\n",
    "FinalMerge['healthandeduc_reduction_Yes'] = FinalMerge['healthandeduc_reduction_Yes'].astype(float)\n",
    "FinalMerge['own_bankaccount_Yes'] = FinalMerge['own_bankaccount_Yes'].astype(float)\n",
    "FinalMerge['sellassets_lackfood_Yes'] = FinalMerge['sellassets_lackfood_Yes'].astype(float)\n",
    "FinalMerge['borrowmoneyfood_lackfood_Yes'] = FinalMerge['borrowmoneyfood_lackfood_Yes'].astype(float)\n",
    "FinalMerge['sellhouseland_lackfood_Yes'] = FinalMerge['sellhouseland_lackfood_Yes'].astype(float)\n",
    "FinalMerge['spendsavings:lackfood_Yes'] = FinalMerge['spendsavings:lackfood_Yes'].astype(float)\n",
    "FinalMerge['drinkingwater_insufficientquanities_Yes'] = FinalMerge['drinkingwater_insufficientquanities_Yes'].astype(float)\n",
    "FinalMerge['childunder5_death5yrs'] = FinalMerge['childunder5_death5yrs_Yes'].astype(float)"
   ]
  },
  {
   "cell_type": "code",
   "execution_count": null,
   "metadata": {},
   "outputs": [],
   "source": [
    "unwanted = FinalMerge.columns[FinalMerge.columns.str.startswith('spend_')]\n",
    "FinalMerge.drop(unwanted, axis=1, inplace=True)\n",
    "\n",
    "unwanted2 = FinalMerge.columns[FinalMerge.columns.str.endswith('TotalSpend')]\n",
    "FinalMerge.drop(unwanted2, axis=1, inplace=True)\n",
    "\n",
    "unwanted3 = FinalMerge.columns[FinalMerge.columns.str.startswith('q_')]\n",
    "FinalMerge.drop(unwanted3, axis=1, inplace=True)\n",
    "\n",
    "unwanted4 = FinalMerge.columns[FinalMerge.columns.str.startswith('totalcost')]\n",
    "FinalMerge.drop(unwanted4, axis=1, inplace=True)\n",
    "\n",
    "unwanted5 = FinalMerge.columns[FinalMerge.columns.str.startswith('Dataset')]\n",
    "FinalMerge.drop(unwanted5, axis=1, inplace=True)\n",
    "\n",
    "unwanted6 = FinalMerge.columns[FinalMerge.columns.str.startswith('hhsize')]\n",
    "FinalMerge.drop(unwanted6, axis=1, inplace=True)\n",
    "\n",
    "unwanted7 = FinalMerge.columns[FinalMerge.columns.str.startswith('s1q2')]\n",
    "FinalMerge.drop(unwanted7, axis=1, inplace=True)\n",
    "\n",
    "unwanted8 = FinalMerge.columns[FinalMerge.columns.str.startswith('weight')]\n",
    "FinalMerge.drop(unwanted8, axis=1, inplace=True)\n",
    "\n",
    "unwanted9 = FinalMerge.columns[FinalMerge.columns.str.startswith('hhid')]\n",
    "FinalMerge.drop(unwanted9, axis=1, inplace=True)\n",
    "\n",
    "unwanted10 = FinalMerge.columns[FinalMerge.columns.str.startswith('popweight')]\n",
    "FinalMerge.drop(unwanted10, axis=1, inplace=True)\n",
    "\n",
    "unwanted11 = FinalMerge.columns[FinalMerge.columns.str.startswith('hhlocation')]\n",
    "FinalMerge.drop(unwanted11, axis=1, inplace=True)\n",
    "\n",
    "unwanted12 = FinalMerge.columns[FinalMerge.columns.str.startswith('improved_sanitation')]\n",
    "FinalMerge.drop(unwanted12, axis=1, inplace=True)\n",
    "\n",
    "unwanted13 = FinalMerge.columns[FinalMerge.columns.str.startswith('improved_water')]\n",
    "FinalMerge.drop(unwanted13, axis=1, inplace=True)\n",
    "\n",
    "unwanted14 = FinalMerge.columns[FinalMerge.columns.str.startswith('s1q5')]\n",
    "FinalMerge.drop(unwanted14, axis=1, inplace=True)\n",
    "\n",
    "unwanted15 = FinalMerge.columns[FinalMerge.columns.str.startswith('s12q19')]\n",
    "FinalMerge.drop(unwanted15, axis=1, inplace=True)\n",
    "\n",
    "unwanted16 = FinalMerge.columns[FinalMerge.columns.str.startswith('s12q20')]\n",
    "FinalMerge.drop(unwanted16, axis=1, inplace=True)\n",
    "\n",
    "unwanted17 = FinalMerge.columns[FinalMerge.columns.str.startswith('s12q21')]\n",
    "FinalMerge.drop(unwanted17, axis=1, inplace=True)\n",
    "\n",
    "unwanted18 = FinalMerge.columns[FinalMerge.columns.str.startswith('foodspent_localcurrecny')]\n",
    "FinalMerge.drop(unwanted18, axis=1, inplace=True)\n",
    "\n",
    "unwanted19 = FinalMerge.columns[FinalMerge.columns.str.startswith('issue')]\n",
    "FinalMerge.drop(unwanted19, axis=1, inplace=True)\n",
    "\n",
    "unwanted20 = FinalMerge.columns[FinalMerge.columns.str.startswith('cost')]\n",
    "FinalMerge.drop(unwanted20, axis=1, inplace=True)\n",
    "\n",
    "unwanted22 = FinalMerge.columns[FinalMerge.columns.str.startswith('hh_fcon')]\n",
    "FinalMerge.drop(unwanted22, axis=1, inplace=True)\n",
    "\n",
    "unwanted23 = FinalMerge.columns[FinalMerge.columns.str.startswith('hh_nfcon')]\n",
    "FinalMerge.drop(unwanted23, axis=1, inplace=True)\n",
    "\n",
    "unwanted24 = FinalMerge.columns[FinalMerge.columns.str.startswith('childunder5_death5yrs')]\n",
    "FinalMerge.drop(unwanted24, axis=1, inplace=True)\n",
    "\n",
    "#why are there variables that aren't named?\n",
    "Remove_extra_vars = FinalMerge.columns[FinalMerge.columns.str.endswith('_No')]\n",
    "FinalMerge.drop(Remove_extra_vars, axis=1, inplace=True)\n",
    "\n",
    "Remove_extra_vars2 = FinalMerge.columns[FinalMerge.columns.str.endswith('_nan')]\n",
    "FinalMerge.drop(Remove_extra_vars2, axis=1, inplace=True)"
   ]
  },
  {
   "cell_type": "code",
   "execution_count": null,
   "metadata": {},
   "outputs": [],
   "source": [
    "Unrestricted = pd.DataFrame(FinalMerge)\n",
    "Unrestricted.head()"
   ]
  },
  {
   "cell_type": "code",
   "execution_count": null,
   "metadata": {},
   "outputs": [],
   "source": [
    "unwanted21 = Unrestricted.columns[Unrestricted.columns.str.startswith('Total_Spend')]\n",
    "Unrestricted.drop(unwanted21, axis=1, inplace=True)\n",
    "Unrestricted"
   ]
  },
  {
   "cell_type": "code",
   "execution_count": null,
   "metadata": {},
   "outputs": [],
   "source": [
    "ln_expenditure_per_capita = np.log(FinalMerge['Total_Spend']/FinalMerge['size'])"
   ]
  },
  {
   "cell_type": "code",
   "execution_count": null,
   "metadata": {},
   "outputs": [],
   "source": [
    "y = ln_expenditure_per_capita\n",
    "\n",
    "x = Unrestricted\n",
    "x"
   ]
  },
  {
   "cell_type": "code",
   "execution_count": null,
   "metadata": {},
   "outputs": [],
   "source": [
    "Unrestricted = Unrestricted.astype(float)"
   ]
  },
  {
   "cell_type": "code",
   "execution_count": null,
   "metadata": {},
   "outputs": [],
   "source": [
    "for col in Unrestricted.columns: \n",
    "    print(col) "
   ]
  },
  {
   "cell_type": "code",
   "execution_count": null,
   "metadata": {},
   "outputs": [],
   "source": [
    "#Unresitricted \n",
    "ridge = Ridge(normalize = True)\n",
    "coefs = []\n",
    "\n",
    "for a in alphas:\n",
    "    ridge.set_params(alpha = a)\n",
    "    ridge.fit(x, y)\n",
    "    coefs.append(ridge.coef_)\n",
    "    \n",
    "np.shape(coefs)"
   ]
  },
  {
   "cell_type": "code",
   "execution_count": null,
   "metadata": {},
   "outputs": [],
   "source": [
    "x_train, x_test , y_train, y_test = train_test_split(x, y, test_size=0.25, random_state=1)"
   ]
  },
  {
   "cell_type": "code",
   "execution_count": null,
   "metadata": {},
   "outputs": [],
   "source": [
    "#cross validation to choose optimal alpha\n",
    "ridgecv = RidgeCV(alphas = alphas, scoring = 'neg_mean_squared_error', normalize = True)\n",
    "ridgecv.fit(x_train, y_train)\n",
    "ridgecv.alpha_\n",
    "\n",
    "#Test MSE w/ optimal alpha\n",
    "ridge4 = Ridge(alpha = ridgecv.alpha_, normalize = True)\n",
    "ridge4.fit(x_train, y_train)"
   ]
  },
  {
   "cell_type": "code",
   "execution_count": null,
   "metadata": {},
   "outputs": [],
   "source": [
    "# Ridge Model - Unrestrcited Data Set  \n",
    "#Fit ridge model w/ optimal alpha \n",
    "ridge4.fit(x, y)\n",
    "pd.Series(ridge.coef_, index = x.columns)"
   ]
  },
  {
   "cell_type": "code",
   "execution_count": null,
   "metadata": {},
   "outputs": [],
   "source": [
    "#Lasso Model - restricted set\n",
    "alphas = 10**np.linspace(10,-2,100)*0.5"
   ]
  },
  {
   "cell_type": "code",
   "execution_count": null,
   "metadata": {},
   "outputs": [],
   "source": [
    "#Lasso - Unrestricted Dataset \n",
    "lassocv = LassoCV(alphas = None, cv = 10, max_iter = 100000, normalize = True)\n",
    "lassocv.fit(x_train, y_train)\n",
    "\n",
    "lasso.set_params(alpha= lassocv.alpha_)\n",
    "lasso.fit(x_train, y_train)\n",
    "#mean_squared_error(y_test, lasso.predict(x_test))"
   ]
  },
  {
   "cell_type": "code",
   "execution_count": null,
   "metadata": {},
   "outputs": [],
   "source": [
    "#Unrestricted Dataset \n",
    "lasso_unrest_coeff = pd.DataFrame()\n",
    "lasso_unrest_coeff[\"Unrestricted Dataset Variables\"] = x_train.columns \n",
    "lasso_unrest_coeff['Lasso Coefficients'] = pd.Series(lasso.coef_).round(2)\n",
    "lasso_unrest_coeff"
   ]
  },
  {
   "cell_type": "code",
   "execution_count": null,
   "metadata": {},
   "outputs": [],
   "source": [
    "#Testing Best Alpha for Elastic - Unrestricted Dataset \n",
    "elastic=ElasticNet(normalize=True, max_iter = 100000)\n",
    "search=GridSearchCV(estimator=elastic,param_grid={'alpha':np.logspace(-5,2,8),\n",
    "        'l1_ratio':[.1,.2,.25,.4,.5,.6,.75,.8]},scoring='neg_mean_squared_error',n_jobs=1,refit=True,cv=10)\n",
    "search.fit(x,y)\n",
    "search.best_params_ "
   ]
  },
  {
   "cell_type": "code",
   "execution_count": null,
   "metadata": {},
   "outputs": [],
   "source": [
    "abs(search.best_score_)"
   ]
  },
  {
   "cell_type": "code",
   "execution_count": null,
   "metadata": {},
   "outputs": [],
   "source": [
    "# Elastic Model - Unrestricted Dataset \n",
    "e_net= ElasticNet(alpha = 0.01, max_iter = 100000) \n",
    "e_net.fit(x_train, y_train) \n",
    "  \n",
    "# calculate the prediction and mean square error \n",
    "y_pred_elastic = e_net.predict(x_test) \n",
    "mean_squared_error = np.mean((y_pred_elastic - y_test)**2) \n",
    "  \n",
    "e_net_coeff = pd.DataFrame() \n",
    "e_net_coeff[\"Unrestricted Dataset Variables\"] = x_train.columns \n",
    "e_net_coeff['Elastic Net Coefficients'] = pd.Series(e_net.coef_).round(2) \n",
    "e_net_coeff "
   ]
  },
  {
   "cell_type": "code",
   "execution_count": null,
   "metadata": {},
   "outputs": [],
   "source": [
    "#cross validation to choose optimal alpha\n",
    "ridgecv = RidgeCV(alphas = alphas, scoring = 'neg_mean_squared_error', normalize = True)\n",
    "ridgecv.fit(x_train, y_train)\n",
    "ridgecv.alpha_\n",
    "\n",
    "#Test MSE w/ optimal alpha\n",
    "ridge4 = Ridge(alpha = ridgecv.alpha_, normalize = True)\n",
    "ridge4.fit(x_train, y_train)"
   ]
  },
  {
   "cell_type": "code",
   "execution_count": null,
   "metadata": {},
   "outputs": [],
   "source": [
    "# Ridge Model - Unrestricted Data Set  \n",
    "#Fit ridge model w/ optimal alpha \n",
    "ridge4.fit(x, y)\n",
    "ridge_unrest_coeff = pd.DataFrame()\n",
    "ridge_unrest_coeff[\"Unrestricted Dataset Variables\"] = x_train.columns \n",
    "ridge_unrest_coeff['Ridge Coefficients'] = pd.Series(ridge4.coef_).round(2)\n",
    "ridge_unrest_coeff"
   ]
  },
  {
   "cell_type": "code",
   "execution_count": 2,
   "metadata": {},
   "outputs": [
    {
     "ename": "NameError",
     "evalue": "name 'ridge_unrest_coeff' is not defined",
     "output_type": "error",
     "traceback": [
      "\u001b[0;31m---------------------------------------------------------------------------\u001b[0m",
      "\u001b[0;31mNameError\u001b[0m                                 Traceback (most recent call last)",
      "\u001b[0;32m<ipython-input-2-7f8c40496577>\u001b[0m in \u001b[0;36m<module>\u001b[0;34m\u001b[0m\n\u001b[0;32m----> 1\u001b[0;31m \u001b[0mmerged_ridgeunrest_lassounrest\u001b[0m \u001b[0;34m=\u001b[0m \u001b[0mpd\u001b[0m\u001b[0;34m.\u001b[0m\u001b[0mmerge\u001b[0m\u001b[0;34m(\u001b[0m\u001b[0mridge_unrest_coeff\u001b[0m\u001b[0;34m,\u001b[0m \u001b[0mlasso_unrest_coeff\u001b[0m\u001b[0;34m,\u001b[0m\u001b[0mhow\u001b[0m\u001b[0;34m=\u001b[0m\u001b[0;34m'inner'\u001b[0m\u001b[0;34m,\u001b[0m\u001b[0mon\u001b[0m\u001b[0;34m=\u001b[0m\u001b[0;34m'Unrestricted Dataset Variables'\u001b[0m\u001b[0;34m)\u001b[0m\u001b[0;34m\u001b[0m\u001b[0;34m\u001b[0m\u001b[0m\n\u001b[0m\u001b[1;32m      2\u001b[0m \u001b[0mmerged_coefficients_unrestricted\u001b[0m \u001b[0;34m=\u001b[0m \u001b[0mpd\u001b[0m\u001b[0;34m.\u001b[0m\u001b[0mmerge\u001b[0m\u001b[0;34m(\u001b[0m\u001b[0mmerged_ridgeunrest_lassounrest\u001b[0m\u001b[0;34m,\u001b[0m \u001b[0me_net_coeff\u001b[0m\u001b[0;34m,\u001b[0m\u001b[0mhow\u001b[0m\u001b[0;34m=\u001b[0m\u001b[0;34m'inner'\u001b[0m\u001b[0;34m,\u001b[0m\u001b[0mon\u001b[0m\u001b[0;34m=\u001b[0m\u001b[0;34m'Unrestricted Dataset Variables'\u001b[0m\u001b[0;34m)\u001b[0m\u001b[0;34m\u001b[0m\u001b[0;34m\u001b[0m\u001b[0m\n\u001b[1;32m      3\u001b[0m \u001b[0mprint\u001b[0m\u001b[0;34m(\u001b[0m\u001b[0mmerged_coefficients_unrestricted\u001b[0m\u001b[0;34m.\u001b[0m\u001b[0mto_latex\u001b[0m\u001b[0;34m(\u001b[0m\u001b[0;34m)\u001b[0m\u001b[0;34m)\u001b[0m\u001b[0;34m\u001b[0m\u001b[0;34m\u001b[0m\u001b[0m\n",
      "\u001b[0;31mNameError\u001b[0m: name 'ridge_unrest_coeff' is not defined"
     ]
    }
   ],
   "source": [
    "merged_ridgeunrest_lassounrest = pd.merge(ridge_unrest_coeff, lasso_unrest_coeff,how='inner',on='Unrestricted Dataset Variables')\n",
    "merged_coefficients_unrestricted = pd.merge(merged_ridgeunrest_lassounrest, e_net_coeff,how='inner',on='Unrestricted Dataset Variables')\n",
    "print(merged_coefficients_unrestricted.to_latex())"
   ]
  },
  {
   "cell_type": "code",
   "execution_count": null,
   "metadata": {},
   "outputs": [],
   "source": []
  }
 ],
 "metadata": {
  "kernelspec": {
   "display_name": "Python 3",
   "language": "python",
   "name": "python3"
  },
  "language_info": {
   "codemirror_mode": {
    "name": "ipython",
    "version": 3
   },
   "file_extension": ".py",
   "mimetype": "text/x-python",
   "name": "python",
   "nbconvert_exporter": "python",
   "pygments_lexer": "ipython3",
   "version": "3.7.6"
  }
 },
 "nbformat": 4,
 "nbformat_minor": 4
}
