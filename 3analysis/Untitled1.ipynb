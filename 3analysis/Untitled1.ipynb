{
 "cells": [
  {
   "cell_type": "code",
   "execution_count": 59,
   "metadata": {},
   "outputs": [],
   "source": [
    "%matplotlib inline\n",
    "\n",
    "import pandas as pd\n",
    "import numpy as np\n",
    "import matplotlib.pyplot as plt\n",
    "\n",
    "from sklearn.preprocessing import scale \n",
    "from sklearn.model_selection import train_test_split\n",
    "from sklearn.linear_model import Ridge, RidgeCV, Lasso, LassoCV\n",
    "from sklearn.metrics import mean_squared_error\n",
    "from sklearn.linear_model import ElasticNet"
   ]
  },
  {
   "cell_type": "code",
   "execution_count": 75,
   "metadata": {},
   "outputs": [],
   "source": [
    "FinalMerge = pd.read_excel('../2progs/FinalMerge.xlsx',sheet_name='Sheet1',index_col = 0)\n",
    "Household = pd.read_csv('../1data/KSPS/UNHCR-KEN-2018-SEA-Kalobeyei-Household.csv') "
   ]
  },
  {
   "cell_type": "code",
   "execution_count": 76,
   "metadata": {},
   "outputs": [],
   "source": [
    "#Household Rename \n",
    "Household= Household.rename(columns={\"s6q1\": \"number_dwellings\", \"s6q2\": \"number_habitablerooms\", \n",
    "                          \"s6q3\":\"floor_material\", \"s6q4\":\"roof_material\", \"s6q5\":\"wall_material\",\n",
    "                          \"s6q6\":\"drikingwater_source\", \"s6q7\": \"drinkingwater_insufficientquanities\", \n",
    "                          \"s6q8\": \"toilet_type\", \"s6q9\": \"share_toilet\", \"s6q11\": \"lighting_source\", \n",
    "                          \"s6q13\": \"payrent_dwelling\", \"s6q14\": \"rentpaid_shillings\", \"s7q1\": \"own_radio\",\n",
    "                          \"s7q2\": \"own_television\", \"s7q3\": \"own_satelitedish\", \"s7q4\": \"own_smartphone\",\n",
    "                          \"s7q5\":\"own_refrigerator\", \"s7q6\": \"own_table\", \"s7q7\": \"own_bed\", \"s7q8\": \"own_mattress\", \n",
    "                          \"s7q9\":\"own_mosquitonet\", \"s7q10\":\"own_fan\", \"s7q11\": \"own_bicycle\", \"s7q12\":\"own_motorcycle\", \n",
    "                          \"s7q13\": \"own_car\", \"s7q14\": \"own_generator\", \"s7q15\": \"own_solarpanels\", \"s7q16\": \"own_kerosenestove\",\n",
    "                          \"s7q17\": \"own_charcoaljiko\", \"s7q18\": \"own_wheelbarrow\", \"s7q19\": \"own_ironfencing\", \n",
    "                          \"s7q20\": \"own_farmanimals\", \"s8q1\": \"relatives_abroad\", \"s8q2\": \"relatives_outsidekenya\", \n",
    "                          \"s8q3\": \"own_bankaccount\", \"s8q4\": \"borrowedfrom_sources12mo\", \"s8q4_1\": \"borrowedfrom_bank12mo\", \n",
    "                          \"s8q4_2\": \"borrowedfrom_community\", \"s8q4_3\": \"borrowedfrom_familyorfriends12mo\", \"s8q5\": \"remittances_abroad\", \n",
    "                          \"s8q6\": \"purchased_insurance\", \"s9q1\":\"childunder5_death5yrs\", \"s11q1\": \"sellhhgoods_lackfood\", \n",
    "                          \"s11q2\": \"healthandeduc_reduction\", \"s11q3\": \"sellassets_lackfood\", \"s11q4\": \"spendsavings:lackfood\", \n",
    "                         \"s11q5\": \"borrowmoneyfood_lackfood\", \"s11q6\": \"sellhouseland_lackfood\", \"s11q7\": \"withdrawchildrenschool_lackfood\", \n",
    "                         \"s11q8\":\"sellanimals:lackfood\", \"s11q9\": \"sellfemaleanimal_last\", \"s11q10\": \"beg_lackfood\"})"
   ]
  },
  {
   "cell_type": "code",
   "execution_count": 77,
   "metadata": {},
   "outputs": [],
   "source": [
    "Household['lighting_source'] = pd.factorize(Household['lighting_source'])[0] + 1"
   ]
  },
  {
   "cell_type": "code",
   "execution_count": 79,
   "metadata": {},
   "outputs": [
    {
     "data": {
      "text/plain": [
       "2     350\n",
       "1     339\n",
       "3     206\n",
       "4     145\n",
       "8      20\n",
       "5      17\n",
       "7       7\n",
       "6       7\n",
       "11      4\n",
       "9       4\n",
       "10      1\n",
       "Name: lighting_source, dtype: int64"
      ]
     },
     "execution_count": 79,
     "metadata": {},
     "output_type": "execute_result"
    }
   ],
   "source": [
    "Household['lighting_source'].value_counts()"
   ]
  },
  {
   "cell_type": "code",
   "execution_count": 81,
   "metadata": {},
   "outputs": [],
   "source": [
    "hh_light = Household[['lighting_source', 'hhid']]"
   ]
  },
  {
   "cell_type": "code",
   "execution_count": 85,
   "metadata": {},
   "outputs": [],
   "source": [
    "FinalMerge = pd.merge(FinalMerge,hh_light,how='inner',on='hhid')"
   ]
  },
  {
   "cell_type": "code",
   "execution_count": 86,
   "metadata": {},
   "outputs": [
    {
     "data": {
      "text/plain": [
       "0       1\n",
       "1       1\n",
       "2       2\n",
       "3       3\n",
       "4       1\n",
       "       ..\n",
       "1085    4\n",
       "1086    6\n",
       "1087    2\n",
       "1088    3\n",
       "1089    2\n",
       "Name: lighting_source, Length: 1090, dtype: int64"
      ]
     },
     "execution_count": 86,
     "metadata": {},
     "output_type": "execute_result"
    }
   ],
   "source": [
    "FinalMerge['lighting_source']"
   ]
  },
  {
   "cell_type": "code",
   "execution_count": 14,
   "metadata": {},
   "outputs": [],
   "source": [
    "FinalMerge['number_dwellings'] = FinalMerge['number_dwellings'].astype(float)\n",
    "FinalMerge['number_habitablerooms'] = FinalMerge['number_habitablerooms'].astype(float)\n",
    "#MergedDatasetDummies['floor_material'] = MergedDatasetDummies['floor_material'].astype(float)\n",
    "#MergedDatasetDummies['roof_material'] = MergedDatasetDummies['roof_material'].astype(float)\n",
    "#MergedDatasetDummies['wall_material'] = MergedDatasetDummies['wall_material'].astype(float)\n",
    "#MergedDatasetDummies['toilet_type'] = MergedDatasetDummies['toilet_type'].astype(float)\n",
    "#MergedDatasetDummies['share_toilet'] = MergedDatasetDummies['share_toilet'].astype(float)\n",
    "#MergedDatasetDummies['lighting_source'] = MergedDatasetDummies['lighting_source'].astype(float)\n",
    "FinalMerge['own_radio_Yes'] = FinalMerge['own_radio_Yes'].astype(float)\n",
    "FinalMerge['own_television_Yes'] = FinalMerge['own_television_Yes'].astype(float)\n",
    "FinalMerge['own_satelitedish_Yes'] = FinalMerge['own_satelitedish_Yes'].astype(float)\n",
    "FinalMerge['own_smartphone_Yes'] = FinalMerge['own_smartphone_Yes'].astype(float)\n",
    "FinalMerge['own_refrigerator_Yes'] = FinalMerge['own_refrigerator_Yes'].astype(float)\n",
    "FinalMerge['own_table_Yes'] = FinalMerge['own_table_Yes'].astype(float)\n",
    "FinalMerge['own_bed_Yes'] = FinalMerge['own_bed_Yes'].astype(float)\n",
    "FinalMerge['own_mattress_Yes'] = FinalMerge['own_mattress_Yes'].astype(float)\n",
    "FinalMerge['own_mosquitonet_Yes'] = FinalMerge['own_mosquitonet_Yes'].astype(float)\n",
    "FinalMerge['own_mattress_Yes'] = FinalMerge['own_mattress_Yes'].astype(float)\n",
    "FinalMerge['own_fan_Yes'] = FinalMerge['own_fan_Yes'].astype(float)\n",
    "FinalMerge['own_bicycle_Yes'] = FinalMerge['own_bicycle_Yes'].astype(float)\n",
    "FinalMerge['own_motorcycle_Yes'] = FinalMerge['own_motorcycle_Yes'].astype(float)\n",
    "FinalMerge['own_generator_Yes'] = FinalMerge['own_generator_Yes'].astype(float)\n",
    "FinalMerge['own_solarpanels_Yes'] = FinalMerge['own_solarpanels_Yes'].astype(float)\n",
    "FinalMerge['own_kerosenestove_Yes'] = FinalMerge['own_kerosenestove_Yes'].astype(float)\n",
    "FinalMerge['own_charcoaljiko_Yes'] = FinalMerge['own_charcoaljiko_Yes'].astype(float)\n",
    "FinalMerge['own_wheelbarrow_Yes'] = FinalMerge['own_wheelbarrow_Yes'].astype(float)\n",
    "FinalMerge['own_ironfencing_Yes'] = FinalMerge['own_ironfencing_Yes'].astype(float)\n",
    "FinalMerge['own_farmanimals_Yes'] = FinalMerge['own_farmanimals_Yes'].astype(float)\n",
    "#FinalMerge['own_car_Yes'] = FinalMerge['own_car_Yes'].astype(float)"
   ]
  },
  {
   "cell_type": "code",
   "execution_count": 87,
   "metadata": {},
   "outputs": [],
   "source": [
    "restricted_set = FinalMerge[['number_dwellings', 'number_habitablerooms', 'own_radio_Yes', \n",
    "                                       'own_television_Yes', 'own_satelitedish_Yes', 'own_smartphone_Yes', 'own_refrigerator_Yes',\n",
    "                                      'own_table_Yes', 'own_bed_Yes', 'own_mattress_Yes', 'own_mosquitonet_Yes', 'own_fan_Yes', 'own_bicycle_Yes',\n",
    "                                      'own_motorcycle_Yes', 'own_generator_Yes', 'own_solarpanels_Yes', 'own_kerosenestove_Yes',\n",
    "                                      'own_charcoaljiko_Yes', 'own_wheelbarrow_Yes', 'own_ironfencing_Yes', 'own_farmanimals_Yes', \n",
    "                            'headFemale', 'shareFemale','shareAgeZeroToFour','shareAgeFiveToNine', 'shareAgeTenToFourteen', \n",
    "    'shareAgeFifteenToTwentyfour', 'shareAgeTwentyfivetofourtynine', 'shareAgeFiftyPlus','shareMaleAgeTenToNineteen',\n",
    "    'shareFemaleAgeTenToNineteen', 'shareMaleAgeTwentytoFourtynine', 'shareFemaleAgeTwentytoFourtynine',\n",
    "    'shareWithNoEducation', 'shareWithEarlyChildhood', 'shareWithPrimary', 'shareWithSecondary', 'shareWithVocational',\n",
    "    'shareWithUniversity', 'shareWithOther', 'shareSpeaks', 'shareReads', 'shareWrites', 'lighting_source']].fillna(0)\n",
    "\n",
    "#own_car\n",
    "#'hh_purchasedfood7d_Yes'\n",
    "#floor_material', 'roof_material','wall_material', 'toilet_type', 'share_toilet', 'lighting_source',---name issue\n",
    "#doesn't include share of household vars\n",
    "#Error rates: \n",
    "#use model coefficients to predict log expenditure in dataset----will have actual and predicted expenditure\n",
    "#get metric: of the lowest 25% in terms of actual expenditure (1100/4), \n",
    "#how many of those are correctly predicted to be in the lowest 25% in predicted column\n",
    "#2/3 if 2 out 3 people write, 1/3 would be exclusion error (inverse is exclusion error)\n",
    "#want 25% to be flexible, adjust to 10%, 40% etc. \n",
    "#do test train split at 75% train, 25% test\n"
   ]
  },
  {
   "cell_type": "code",
   "execution_count": 88,
   "metadata": {},
   "outputs": [],
   "source": [
    "ln_expenditure_per_capita = np.log(FinalMerge['Total_Spend']/FinalMerge['size'])"
   ]
  },
  {
   "cell_type": "code",
   "execution_count": 89,
   "metadata": {},
   "outputs": [],
   "source": [
    "y = ln_expenditure_per_capita\n",
    "\n",
    "X = restricted_set"
   ]
  },
  {
   "cell_type": "code",
   "execution_count": 90,
   "metadata": {},
   "outputs": [],
   "source": [
    "alphas = 10**np.linspace(10,-2,100)*0.5"
   ]
  },
  {
   "cell_type": "code",
   "execution_count": 91,
   "metadata": {},
   "outputs": [
    {
     "data": {
      "text/plain": [
       "(100, 44)"
      ]
     },
     "execution_count": 91,
     "metadata": {},
     "output_type": "execute_result"
    }
   ],
   "source": [
    "ridge = Ridge(normalize = True)\n",
    "coefs = []\n",
    "\n",
    "for a in alphas:\n",
    "    ridge.set_params(alpha = a)\n",
    "    ridge.fit(X, y)\n",
    "    coefs.append(ridge.coef_)\n",
    "    \n",
    "np.shape(coefs)"
   ]
  },
  {
   "cell_type": "code",
   "execution_count": 92,
   "metadata": {},
   "outputs": [],
   "source": [
    "# Split data into training and test sets\n",
    "X_train, X_test , y_train, y_test = train_test_split(X, y, test_size=0.25, random_state=1)"
   ]
  },
  {
   "cell_type": "code",
   "execution_count": 93,
   "metadata": {},
   "outputs": [
    {
     "data": {
      "text/plain": [
       "0.4348745013088917"
      ]
     },
     "execution_count": 93,
     "metadata": {},
     "output_type": "execute_result"
    }
   ],
   "source": [
    "#cross validation to choose optimal alpha\n",
    "\n",
    "ridgecv = RidgeCV(alphas = alphas, scoring = 'neg_mean_squared_error', normalize = True)\n",
    "ridgecv.fit(X_train, y_train)\n",
    "ridgecv.alpha_"
   ]
  },
  {
   "cell_type": "code",
   "execution_count": 94,
   "metadata": {},
   "outputs": [
    {
     "data": {
      "text/plain": [
       "0.6526929837877288"
      ]
     },
     "execution_count": 94,
     "metadata": {},
     "output_type": "execute_result"
    }
   ],
   "source": [
    "#Test MSE w/ optimal alpha\n",
    "\n",
    "ridge4 = Ridge(alpha = ridgecv.alpha_, normalize = True)\n",
    "ridge4.fit(X_train, y_train)\n",
    "mean_squared_error(y_test, ridge4.predict(X_test))"
   ]
  },
  {
   "cell_type": "code",
   "execution_count": 95,
   "metadata": {},
   "outputs": [
    {
     "data": {
      "text/plain": [
       "number_dwellings                   -0.057992\n",
       "number_habitablerooms              -0.048564\n",
       "own_radio_Yes                       0.177479\n",
       "own_television_Yes                  0.070097\n",
       "own_satelitedish_Yes                0.239353\n",
       "own_smartphone_Yes                  0.072922\n",
       "own_refrigerator_Yes                0.464372\n",
       "own_table_Yes                       0.076467\n",
       "own_bed_Yes                         0.145581\n",
       "own_mattress_Yes                    0.057833\n",
       "own_mosquitonet_Yes                 0.023328\n",
       "own_fan_Yes                         0.109805\n",
       "own_bicycle_Yes                     0.148828\n",
       "own_motorcycle_Yes                 -0.002643\n",
       "own_generator_Yes                  -0.215630\n",
       "own_solarpanels_Yes                -0.011802\n",
       "own_kerosenestove_Yes               0.206500\n",
       "own_charcoaljiko_Yes                0.135346\n",
       "own_wheelbarrow_Yes                 0.193406\n",
       "own_ironfencing_Yes                 0.086549\n",
       "own_farmanimals_Yes                -0.075010\n",
       "headFemale                         -0.036419\n",
       "shareFemale                        -0.082316\n",
       "shareAgeZeroToFour                 -0.339558\n",
       "shareAgeFiveToNine                 -0.108227\n",
       "shareAgeTenToFourteen              -0.232074\n",
       "shareAgeFifteenToTwentyfour         0.238862\n",
       "shareAgeTwentyfivetofourtynine      0.130291\n",
       "shareAgeFiftyPlus                   0.092630\n",
       "shareMaleAgeTenToNineteen           0.001038\n",
       "shareFemaleAgeTenToNineteen        -0.031826\n",
       "shareMaleAgeTwentytoFourtynine      0.124678\n",
       "shareFemaleAgeTwentytoFourtynine    0.448907\n",
       "shareWithNoEducation               -0.179213\n",
       "shareWithEarlyChildhood            -0.315817\n",
       "shareWithPrimary                   -0.116219\n",
       "shareWithSecondary                  0.050489\n",
       "shareWithVocational                 0.392027\n",
       "shareWithUniversity                 0.307709\n",
       "shareWithOther                      0.182800\n",
       "shareSpeaks                        -0.178299\n",
       "shareReads                         -0.005070\n",
       "shareWrites                         0.009529\n",
       "lighting_source                    -0.014606\n",
       "dtype: float64"
      ]
     },
     "execution_count": 95,
     "metadata": {},
     "output_type": "execute_result"
    }
   ],
   "source": [
    "#Fit ridge model w/ optimal alpha \n",
    "ridge4.fit(X, y)\n",
    "pd.Series(ridge4.coef_, index = X.columns)"
   ]
  },
  {
   "cell_type": "code",
   "execution_count": null,
   "metadata": {},
   "outputs": [],
   "source": []
  }
 ],
 "metadata": {
  "kernelspec": {
   "display_name": "Python 3",
   "language": "python",
   "name": "python3"
  },
  "language_info": {
   "codemirror_mode": {
    "name": "ipython",
    "version": 3
   },
   "file_extension": ".py",
   "mimetype": "text/x-python",
   "name": "python",
   "nbconvert_exporter": "python",
   "pygments_lexer": "ipython3",
   "version": "3.7.6"
  }
 },
 "nbformat": 4,
 "nbformat_minor": 4
}
